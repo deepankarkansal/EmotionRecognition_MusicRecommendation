{
  "nbformat": 4,
  "nbformat_minor": 0,
  "metadata": {
    "colab": {
      "name": "IR_Project_Midsem.ipynb",
      "provenance": [],
      "collapsed_sections": [
        "oUWgK-5CU8Kh",
        "OpJpKe1aE1VA",
        "M9R8rKHfVOqN",
        "xN5LbVwcVsHi",
        "ADKUzDEPLaT3",
        "ybCQqv57OL_2",
        "l9rUWBPDRwa7"
      ]
    },
    "kernelspec": {
      "name": "python3",
      "display_name": "Python 3"
    },
    "accelerator": "GPU"
  },
  "cells": [
    {
      "cell_type": "code",
      "metadata": {
        "colab": {
          "base_uri": "https://localhost:8080/"
        },
        "id": "_7u8TWqER8em",
        "outputId": "c03a37cb-622e-40ca-cbdb-670808c40079"
      },
      "source": [
        "from google.colab import drive\n",
        "drive.mount('/content/drive')"
      ],
      "execution_count": null,
      "outputs": [
        {
          "output_type": "stream",
          "text": [
            "Mounted at /content/drive\n"
          ],
          "name": "stdout"
        }
      ]
    },
    {
      "cell_type": "markdown",
      "metadata": {
        "id": "BEW-H7up78VG"
      },
      "source": [
        "# Libraries Used"
      ]
    },
    {
      "cell_type": "code",
      "metadata": {
        "id": "SBjZ-C08gKQe",
        "colab": {
          "base_uri": "https://localhost:8080/"
        },
        "outputId": "be9c36a9-a160-4576-cb36-9158d9966f47"
      },
      "source": [
        "import pandas as pd\n",
        "import numpy as np\n",
        "from sklearn.manifold import TSNE\n",
        "import matplotlib.pyplot as plt\n",
        "import seaborn as sn\n",
        "from google.colab import files\n",
        "from scipy.io import loadmat\n",
        "import io\n",
        "import joblib\n",
        "import tensorflow as tf\n",
        "from sklearn.svm import SVC\n",
        "from sklearn.model_selection import train_test_split\n",
        "# import wfdb\n",
        "from sklearn.metrics import confusion_matrix\n",
        "import seaborn as sns\n",
        "import ast\n",
        "from sklearn.preprocessing import LabelEncoder\n",
        "from sklearn.metrics import roc_auc_score\n",
        "from sklearn import metrics\n",
        "from sklearn.tree import DecisionTreeClassifier\n",
        "from imblearn.under_sampling import RandomUnderSampler, TomekLinks \n",
        "from imblearn.over_sampling import RandomOverSampler, SMOTE\n",
        "from keras import layers\n",
        "from keras.models import Model\n",
        "from keras.layers import Input\n",
        "from keras.layers import Conv2D, BatchNormalization, Flatten, Dense\n",
        "from keras.layers import MaxPool2D, MaxPooling2D\n",
        "from keras.layers import Dropout\n",
        "from keras.layers.merge import concatenate\n",
        "from keras.utils import plot_model\n",
        "from tensorflow.keras.preprocessing.image import ImageDataGenerator\n",
        "from tensorflow import keras\n",
        "from keras.utils import np_utils\n",
        "from keras.models import Sequential, load_model\n",
        "from tensorflow.keras.optimizers import Adam,RMSprop,SGD,Adamax\n",
        "from keras import regularizers\n",
        "import random"
      ],
      "execution_count": null,
      "outputs": [
        {
          "output_type": "stream",
          "text": [
            "/usr/local/lib/python3.7/dist-packages/sklearn/externals/six.py:31: FutureWarning: The module is deprecated in version 0.21 and will be removed in version 0.23 since we've dropped support for Python 2.7. Please rely on the official version of six (https://pypi.org/project/six/).\n",
            "  \"(https://pypi.org/project/six/).\", FutureWarning)\n",
            "/usr/local/lib/python3.7/dist-packages/sklearn/utils/deprecation.py:144: FutureWarning: The sklearn.neighbors.base module is  deprecated in version 0.22 and will be removed in version 0.24. The corresponding classes / functions should instead be imported from sklearn.neighbors. Anything that cannot be imported from sklearn.neighbors is now part of the private API.\n",
            "  warnings.warn(message, FutureWarning)\n"
          ],
          "name": "stderr"
        }
      ]
    },
    {
      "cell_type": "code",
      "metadata": {
        "id": "vicdnk6CO-pQ"
      },
      "source": [
        "from keras.layers.core import Dense, Dropout, Activation, Flatten\n",
        "from keras.layers.convolutional import Convolution2D, MaxPooling2D"
      ],
      "execution_count": null,
      "outputs": []
    },
    {
      "cell_type": "code",
      "metadata": {
        "id": "b2Ni6G3MSm8_"
      },
      "source": [
        "from tensorflow.keras.applications.vgg16 import VGG16"
      ],
      "execution_count": null,
      "outputs": []
    },
    {
      "cell_type": "markdown",
      "metadata": {
        "id": "G64m4FU170ev"
      },
      "source": [
        "# Functions for plotting accuracy, loss plots and HeatMap"
      ]
    },
    {
      "cell_type": "code",
      "metadata": {
        "id": "Tivpz_eEEYHV"
      },
      "source": [
        "def plotting_epochs(training_, validation_, lossOrAccu):\n",
        "  plt.figure(figsize=[6,4])\n",
        "  plt.plot(training_, 'black', linewidth=2.0)\n",
        "  plt.plot(validation_, 'blue', linewidth=2.0)\n",
        "  plt.legend(['Training '+lossOrAccu, 'Validation '+lossOrAccu], fontsize=14)\n",
        "  plt.xlabel('Epochs', fontsize=10)\n",
        "  plt.ylabel(lossOrAccu, fontsize=10)\n",
        "  plt.title(lossOrAccu+' Curves', fontsize=12)\n",
        "\n",
        "def heatMap(y_test, y_pred, figsize):\n",
        "  log_cm = confusion_matrix(np.array(y_test).astype('int'), y_pred.astype('int'))\n",
        "\n",
        "  f, p = plt.subplots(figsize=figsize)\n",
        "  sns.heatmap(log_cm, annot=True, linewidth=0.7, linecolor='cyan', fmt='g', ax=p, cmap=\"YlGnBu\")\n",
        "  plt.title('Confusion Matrix', size=16)\n",
        "  plt.xlabel('Predicted Labels', size=14)\n",
        "  plt.ylabel('Original Labels', size=14)\n",
        "  plt.show()"
      ],
      "execution_count": null,
      "outputs": []
    },
    {
      "cell_type": "markdown",
      "metadata": {
        "id": "EsT3A9c07qMq"
      },
      "source": [
        "# Data Loading For Neural Net Models"
      ]
    },
    {
      "cell_type": "code",
      "metadata": {
        "id": "IuzlMA0klBbN"
      },
      "source": [
        "img_size = 48"
      ],
      "execution_count": null,
      "outputs": []
    },
    {
      "cell_type": "code",
      "metadata": {
        "id": "99sDcT9GhSix"
      },
      "source": [
        "X_train = joblib.load('/content/drive/MyDrive/IR/IR_Project_Midsem/IR_training_data')\n",
        "y_train = joblib.load('/content/drive/MyDrive/IR/IR_Project_Midsem/IR_training_label')\n",
        "X_test = joblib.load('/content/drive/MyDrive/IR/IR_Project_Midsem/IR_testing_data')\n",
        "y_test = joblib.load('/content/drive/MyDrive/IR/IR_Project_Midsem/IR_testing_label')"
      ],
      "execution_count": null,
      "outputs": []
    },
    {
      "cell_type": "code",
      "metadata": {
        "colab": {
          "base_uri": "https://localhost:8080/"
        },
        "id": "twAAPfr9FEi4",
        "outputId": "6de478e9-2b23-4c92-9d70-60724f366545"
      },
      "source": [
        "print(X_train.shape, y_train.shape, X_test.shape, y_test.shape)"
      ],
      "execution_count": null,
      "outputs": [
        {
          "output_type": "stream",
          "text": [
            "(28709, 48, 48) (28709,) (7178, 48, 48) (7178,)\n"
          ],
          "name": "stdout"
        }
      ]
    },
    {
      "cell_type": "code",
      "metadata": {
        "id": "n2cMzR19kZsF"
      },
      "source": [
        "X = np.concatenate((X_train, X_test))\n",
        "data = pd.DataFrame(X.reshape((X.shape[0], X.shape[1]*X.shape[2])))\n",
        "data['label'] = np.concatenate((y_train, y_test))"
      ],
      "execution_count": null,
      "outputs": []
    },
    {
      "cell_type": "code",
      "metadata": {
        "id": "FVZz74TZmhb4"
      },
      "source": [
        "data = data.sample(frac=1, random_state=42)"
      ],
      "execution_count": null,
      "outputs": []
    },
    {
      "cell_type": "code",
      "metadata": {
        "id": "FPZoM4y0myen"
      },
      "source": [
        "X = data.iloc[:,:-1].values\n",
        "X = X.reshape((X.shape[0], img_size, img_size, 1))\n",
        "y = data.iloc[:,-1].values"
      ],
      "execution_count": null,
      "outputs": []
    },
    {
      "cell_type": "code",
      "metadata": {
        "id": "iUtZdEUhFDoI"
      },
      "source": [
        "X_train, X_test, y_train, y_test = train_test_split(X, y, test_size=0.2, random_state=42)"
      ],
      "execution_count": null,
      "outputs": []
    },
    {
      "cell_type": "code",
      "metadata": {
        "colab": {
          "base_uri": "https://localhost:8080/"
        },
        "id": "WOe-6yyxE9Ce",
        "outputId": "bbe9c31d-3fe6-4cbb-af1a-99d3c7f57a2a"
      },
      "source": [
        "print(X_train.shape, y_train.shape, X_test.shape, y_test.shape)"
      ],
      "execution_count": null,
      "outputs": [
        {
          "output_type": "stream",
          "text": [
            "(28709, 48, 48, 1) (28709,) (7178, 48, 48, 1) (7178,)\n"
          ],
          "name": "stdout"
        }
      ]
    },
    {
      "cell_type": "code",
      "metadata": {
        "colab": {
          "base_uri": "https://localhost:8080/",
          "height": 284
        },
        "id": "6jlJihpwFInt",
        "outputId": "cd846820-9262-4f88-86dd-1b61f3d15fc7"
      },
      "source": [
        "plt.imshow(X_train[101].reshape(48, 48))\n",
        "print(y_train[101])"
      ],
      "execution_count": null,
      "outputs": [
        {
          "output_type": "stream",
          "text": [
            "3\n"
          ],
          "name": "stdout"
        },
        {
          "output_type": "display_data",
          "data": {
            "image/png": "[encoded data removed]",
            "text/plain": [
              "<Figure size 432x288 with 1 Axes>"
            ]
          },
          "metadata": {
            "tags": [],
            "needs_background": "light"
          }
        }
      ]
    },
    {
      "cell_type": "code",
      "metadata": {
        "id": "VR1R2_rojRj8"
      },
      "source": [
        "num_classes = np.unique(y_train).shape[0]\n",
        "y_train1 = np_utils.to_categorical(y_train, num_classes)\n",
        "y_test1 = np_utils.to_categorical(y_test, num_classes)"
      ],
      "execution_count": null,
      "outputs": []
    },
    {
      "cell_type": "markdown",
      "metadata": {
        "id": "RuRxix8ZEKAe"
      },
      "source": [
        "# PCA Feature Extraction For Other ML Algorithms"
      ]
    },
    {
      "cell_type": "code",
      "metadata": {
        "id": "CJsMDeqNEL8s"
      },
      "source": [
        "X = data.iloc[:, :-1].values"
      ],
      "execution_count": null,
      "outputs": []
    },
    {
      "cell_type": "code",
      "metadata": {
        "id": "ipAx33ZBEblT"
      },
      "source": [
        "from sklearn.decomposition import PCA\n",
        "pca = PCA(.90)"
      ],
      "execution_count": null,
      "outputs": []
    },
    {
      "cell_type": "code",
      "metadata": {
        "id": "zLJ16kPHEhrL"
      },
      "source": [
        "X1 = pca.fit_transform(X)"
      ],
      "execution_count": null,
      "outputs": []
    },
    {
      "cell_type": "code",
      "metadata": {
        "colab": {
          "base_uri": "https://localhost:8080/"
        },
        "id": "ZyZNAtyxEwtD",
        "outputId": "0d8ef608-067f-4559-a8ab-93e291a13d57"
      },
      "source": [
        "X1.shape"
      ],
      "execution_count": null,
      "outputs": [
        {
          "output_type": "execute_result",
          "data": {
            "text/plain": [
              "(35887, 105)"
            ]
          },
          "metadata": {
            "tags": []
          },
          "execution_count": 15
        }
      ]
    },
    {
      "cell_type": "code",
      "metadata": {
        "colab": {
          "base_uri": "https://localhost:8080/"
        },
        "id": "mKCr85Schq3J",
        "outputId": "b33d079d-2dfb-4fe0-a819-f4bfb98eb6a3"
      },
      "source": [
        "X_train, X_test, y_train, y_test = train_test_split(X1, y, test_size=0.2, random_state=42)\n",
        "print(X_train.shape, y_train.shape, X_test.shape, y_test.shape)"
      ],
      "execution_count": null,
      "outputs": [
        {
          "output_type": "stream",
          "text": [
            "(28709, 105) (28709,) (7178, 105) (7178,)\n"
          ],
          "name": "stdout"
        }
      ]
    },
    {
      "cell_type": "markdown",
      "metadata": {
        "id": "oUWgK-5CU8Kh"
      },
      "source": [
        "# Data Augmentation"
      ]
    },
    {
      "cell_type": "code",
      "metadata": {
        "id": "3qju9dZ9j6AS"
      },
      "source": [
        "train_datagen = ImageDataGenerator(rescale = 1./255, validation_split = 0.2)\n",
        "test_datagen = ImageDataGenerator(rescale = 1./255)"
      ],
      "execution_count": null,
      "outputs": []
    },
    {
      "cell_type": "code",
      "metadata": {
        "id": "Bwq9urHokE0c",
        "colab": {
          "base_uri": "https://localhost:8080/"
        },
        "outputId": "b4972db1-f227-41b9-9586-9222f9ea91d6"
      },
      "source": [
        "train_generator = train_datagen.flow_from_directory(directory = '/content/drive/MyDrive/IR/IR_Project_Midsem/IR_Data/train',\n",
        "                                                    target_size = (img_size,img_size),\n",
        "                                                    batch_size = 64,\n",
        "                                                    color_mode = \"grayscale\",\n",
        "                                                    class_mode = \"categorical\",\n",
        "                                                    subset = \"training\")\n",
        "\n",
        "validation_generator = train_datagen.flow_from_directory( directory = '/content/drive/MyDrive/IR/IR_Project_Midsem/IR_Data/train',\n",
        "                                                          target_size = (img_size,img_size),\n",
        "                                                          batch_size = 64,\n",
        "                                                          color_mode = \"grayscale\",\n",
        "                                                          class_mode = \"categorical\",\n",
        "                                                          subset = \"validation\")"
      ],
      "execution_count": null,
      "outputs": [
        {
          "output_type": "stream",
          "text": [
            "Found 22968 images belonging to 7 classes.\n",
            "Found 5741 images belonging to 7 classes.\n"
          ],
          "name": "stdout"
        }
      ]
    },
    {
      "cell_type": "code",
      "metadata": {
        "id": "7-ISJtLVSUxt"
      },
      "source": [
        "test_datagen = ImageDataGenerator(rescale = 1./255)"
      ],
      "execution_count": null,
      "outputs": []
    },
    {
      "cell_type": "code",
      "metadata": {
        "colab": {
          "base_uri": "https://localhost:8080/"
        },
        "id": "e7SRLmwtSOhY",
        "outputId": "fe84f6d1-4338-4d7e-c36e-b2eea7219b56"
      },
      "source": [
        "test_generator = test_datagen.flow_from_directory(directory = '/content/drive/MyDrive/IR/IR_Project_Midsem/IR_Data/test',\n",
        "                                                  target_size = (img_size,img_size),\n",
        "                                                  batch_size = 64,\n",
        "                                                  color_mode = \"grayscale\",\n",
        "                                                  class_mode = \"categorical\")"
      ],
      "execution_count": null,
      "outputs": [
        {
          "output_type": "stream",
          "text": [
            "Found 7179 images belonging to 7 classes.\n"
          ],
          "name": "stdout"
        }
      ]
    },
    {
      "cell_type": "markdown",
      "metadata": {
        "id": "OpJpKe1aE1VA"
      },
      "source": [
        "# SVM After Feature Extraction using PCA"
      ]
    },
    {
      "cell_type": "code",
      "metadata": {
        "id": "aGiwCnZ9E20-"
      },
      "source": [
        "from sklearn.svm import SVC"
      ],
      "execution_count": null,
      "outputs": []
    },
    {
      "cell_type": "code",
      "metadata": {
        "colab": {
          "base_uri": "https://localhost:8080/"
        },
        "id": "LAWV4eTPFJtp",
        "outputId": "dda1ccf3-bf18-4bb8-bf2e-1a2338a294cd"
      },
      "source": [
        "svc = SVC()\n",
        "svc.fit(X_train, y_train)"
      ],
      "execution_count": null,
      "outputs": [
        {
          "output_type": "execute_result",
          "data": {
            "text/plain": [
              "SVC(C=1.0, break_ties=False, cache_size=200, class_weight=None, coef0=0.0,\n",
              "    decision_function_shape='ovr', degree=3, gamma='scale', kernel='rbf',\n",
              "    max_iter=-1, probability=False, random_state=None, shrinking=True,\n",
              "    tol=0.001, verbose=False)"
            ]
          },
          "metadata": {
            "tags": []
          },
          "execution_count": 18
        }
      ]
    },
    {
      "cell_type": "code",
      "metadata": {
        "colab": {
          "base_uri": "https://localhost:8080/"
        },
        "id": "EFNy-LZvFSnf",
        "outputId": "79aeb236-cf8e-4fc8-d3ae-1e9d1479195c"
      },
      "source": [
        "y_pred = svc.predict(X_test)\n",
        "metrics.accuracy_score(y_test, y_pred)"
      ],
      "execution_count": null,
      "outputs": [
        {
          "output_type": "execute_result",
          "data": {
            "text/plain": [
              "0.42867093898021735"
            ]
          },
          "metadata": {
            "tags": []
          },
          "execution_count": 19
        }
      ]
    },
    {
      "cell_type": "markdown",
      "metadata": {
        "id": "M9R8rKHfVOqN"
      },
      "source": [
        "# CNN Model 1"
      ]
    },
    {
      "cell_type": "code",
      "metadata": {
        "colab": {
          "base_uri": "https://localhost:8080/"
        },
        "id": "mUpwcahMhxsY",
        "outputId": "528d05fb-9ba2-43c1-9416-e055db07687e"
      },
      "source": [
        "model = Sequential()\n",
        "model.add(Conv2D(32, kernel_size=(3, 3), padding='same', activation='relu', input_shape=(48, 48, 1)))\n",
        "model.add(Conv2D(64, (3,3), padding='same', activation='relu' ))\n",
        "model.add(BatchNormalization())\n",
        "model.add(MaxPool2D(pool_size=(2, 2)))\n",
        "model.add(Dropout(0.25))\n",
        "\n",
        "model.add(Conv2D(128, (5,5), padding='same', activation='relu'))\n",
        "model.add(BatchNormalization())\n",
        "model.add(MaxPool2D(pool_size=(2, 2)))\n",
        "model.add(Dropout(0.25))\n",
        "    \n",
        "model.add(Conv2D(512,(3,3), padding='same', activation='relu', kernel_regularizer=regularizers.l2(0.01)))\n",
        "model.add(BatchNormalization())\n",
        "model.add(MaxPool2D(pool_size=(2, 2)))\n",
        "model.add(Dropout(0.25))\n",
        "\n",
        "model.add(Conv2D(512,(3,3), padding='same', activation='relu', kernel_regularizer=regularizers.l2(0.01)))\n",
        "model.add(BatchNormalization())\n",
        "model.add(MaxPool2D(pool_size=(2, 2)))\n",
        "model.add(Dropout(0.25))\n",
        "\n",
        "model.add(Flatten()) \n",
        "model.add(Dense(256,activation = 'relu'))\n",
        "model.add(BatchNormalization())\n",
        "model.add(Dropout(0.25))\n",
        "    \n",
        "model.add(Dense(512,activation = 'relu'))\n",
        "model.add(BatchNormalization())\n",
        "model.add(Dropout(0.25))\n",
        "\n",
        "model.add(Dense(7, activation='softmax'))\n",
        "\n",
        "model.summary()"
      ],
      "execution_count": null,
      "outputs": [
        {
          "output_type": "stream",
          "text": [
            "Model: \"sequential_2\"\n",
            "_________________________________________________________________\n",
            "Layer (type)                 Output Shape              Param #   \n",
            "=================================================================\n",
            "conv2d_10 (Conv2D)           (None, 48, 48, 32)        320       \n",
            "_________________________________________________________________\n",
            "conv2d_11 (Conv2D)           (None, 48, 48, 64)        18496     \n",
            "_________________________________________________________________\n",
            "batch_normalization_12 (Batc (None, 48, 48, 64)        256       \n",
            "_________________________________________________________________\n",
            "max_pooling2d_8 (MaxPooling2 (None, 24, 24, 64)        0         \n",
            "_________________________________________________________________\n",
            "dropout_12 (Dropout)         (None, 24, 24, 64)        0         \n",
            "_________________________________________________________________\n",
            "conv2d_12 (Conv2D)           (None, 24, 24, 128)       204928    \n",
            "_________________________________________________________________\n",
            "batch_normalization_13 (Batc (None, 24, 24, 128)       512       \n",
            "_________________________________________________________________\n",
            "max_pooling2d_9 (MaxPooling2 (None, 12, 12, 128)       0         \n",
            "_________________________________________________________________\n",
            "dropout_13 (Dropout)         (None, 12, 12, 128)       0         \n",
            "_________________________________________________________________\n",
            "conv2d_13 (Conv2D)           (None, 12, 12, 512)       590336    \n",
            "_________________________________________________________________\n",
            "batch_normalization_14 (Batc (None, 12, 12, 512)       2048      \n",
            "_________________________________________________________________\n",
            "max_pooling2d_10 (MaxPooling (None, 6, 6, 512)         0         \n",
            "_________________________________________________________________\n",
            "dropout_14 (Dropout)         (None, 6, 6, 512)         0         \n",
            "_________________________________________________________________\n",
            "conv2d_14 (Conv2D)           (None, 6, 6, 512)         2359808   \n",
            "_________________________________________________________________\n",
            "batch_normalization_15 (Batc (None, 6, 6, 512)         2048      \n",
            "_________________________________________________________________\n",
            "max_pooling2d_11 (MaxPooling (None, 3, 3, 512)         0         \n",
            "_________________________________________________________________\n",
            "dropout_15 (Dropout)         (None, 3, 3, 512)         0         \n",
            "_________________________________________________________________\n",
            "flatten_2 (Flatten)          (None, 4608)              0         \n",
            "_________________________________________________________________\n",
            "dense_6 (Dense)              (None, 256)               1179904   \n",
            "_________________________________________________________________\n",
            "batch_normalization_16 (Batc (None, 256)               1024      \n",
            "_________________________________________________________________\n",
            "dropout_16 (Dropout)         (None, 256)               0         \n",
            "_________________________________________________________________\n",
            "dense_7 (Dense)              (None, 512)               131584    \n",
            "_________________________________________________________________\n",
            "batch_normalization_17 (Batc (None, 512)               2048      \n",
            "_________________________________________________________________\n",
            "dropout_17 (Dropout)         (None, 512)               0         \n",
            "_________________________________________________________________\n",
            "dense_8 (Dense)              (None, 7)                 3591      \n",
            "=================================================================\n",
            "Total params: 4,496,903\n",
            "Trainable params: 4,492,935\n",
            "Non-trainable params: 3,968\n",
            "_________________________________________________________________\n"
          ],
          "name": "stdout"
        }
      ]
    },
    {
      "cell_type": "markdown",
      "metadata": {
        "id": "SBbYwwPCHVUR"
      },
      "source": [
        "## Without Data Augmentation Results"
      ]
    },
    {
      "cell_type": "code",
      "metadata": {
        "colab": {
          "base_uri": "https://localhost:8080/"
        },
        "id": "_z5CPkGuiEsh",
        "outputId": "ede2b74e-c063-48ac-85ae-3c566c2cac48"
      },
      "source": [
        "model.compile(optimizer = 'rmsprop', loss='categorical_crossentropy', metrics=['accuracy'])\n",
        "history = model.fit(X_train, y_train1, batch_size=32, epochs=50, validation_data=(X_test, y_test1))"
      ],
      "execution_count": null,
      "outputs": [
        {
          "output_type": "stream",
          "text": [
            "Epoch 1/50\n",
            "898/898 [==============================] - 23s 23ms/step - loss: 4.9847 - accuracy: 0.2055 - val_loss: 2.5520 - val_accuracy: 0.2771\n",
            "Epoch 2/50\n",
            "898/898 [==============================] - 20s 22ms/step - loss: 2.3654 - accuracy: 0.3410 - val_loss: 2.3696 - val_accuracy: 0.4089\n",
            "Epoch 3/50\n",
            "898/898 [==============================] - 19s 22ms/step - loss: 2.2079 - accuracy: 0.4572 - val_loss: 2.4419 - val_accuracy: 0.4004\n",
            "Epoch 4/50\n",
            "898/898 [==============================] - 19s 22ms/step - loss: 2.1305 - accuracy: 0.4915 - val_loss: 2.5733 - val_accuracy: 0.4156\n",
            "Epoch 5/50\n",
            "898/898 [==============================] - 20s 22ms/step - loss: 2.0672 - accuracy: 0.4997 - val_loss: 2.1817 - val_accuracy: 0.4556\n",
            "Epoch 6/50\n",
            "898/898 [==============================] - 20s 22ms/step - loss: 1.9496 - accuracy: 0.5254 - val_loss: 2.0645 - val_accuracy: 0.4904\n",
            "Epoch 7/50\n",
            "898/898 [==============================] - 20s 22ms/step - loss: 1.8623 - accuracy: 0.5326 - val_loss: 1.9203 - val_accuracy: 0.5163\n",
            "Epoch 8/50\n",
            "898/898 [==============================] - 20s 22ms/step - loss: 1.7891 - accuracy: 0.5509 - val_loss: 1.7728 - val_accuracy: 0.5263\n",
            "Epoch 9/50\n",
            "898/898 [==============================] - 20s 22ms/step - loss: 1.6853 - accuracy: 0.5575 - val_loss: 1.6989 - val_accuracy: 0.5425\n",
            "Epoch 10/50\n",
            "898/898 [==============================] - 20s 22ms/step - loss: 1.6011 - accuracy: 0.5697 - val_loss: 1.7462 - val_accuracy: 0.5201\n",
            "Epoch 11/50\n",
            "898/898 [==============================] - 20s 22ms/step - loss: 1.5684 - accuracy: 0.5723 - val_loss: 1.6291 - val_accuracy: 0.5453\n",
            "Epoch 12/50\n",
            "898/898 [==============================] - 20s 22ms/step - loss: 1.5545 - accuracy: 0.5732 - val_loss: 1.6298 - val_accuracy: 0.5612\n",
            "Epoch 13/50\n",
            "898/898 [==============================] - 20s 22ms/step - loss: 1.5285 - accuracy: 0.5839 - val_loss: 1.6787 - val_accuracy: 0.5404\n",
            "Epoch 14/50\n",
            "898/898 [==============================] - 20s 22ms/step - loss: 1.4775 - accuracy: 0.5859 - val_loss: 1.6683 - val_accuracy: 0.5493\n",
            "Epoch 15/50\n",
            "898/898 [==============================] - 20s 22ms/step - loss: 1.4882 - accuracy: 0.5910 - val_loss: 1.7147 - val_accuracy: 0.5111\n",
            "Epoch 16/50\n",
            "898/898 [==============================] - 20s 22ms/step - loss: 1.4492 - accuracy: 0.5960 - val_loss: 1.6112 - val_accuracy: 0.5489\n",
            "Epoch 17/50\n",
            "898/898 [==============================] - 20s 22ms/step - loss: 1.4288 - accuracy: 0.6042 - val_loss: 1.6800 - val_accuracy: 0.5072\n",
            "Epoch 18/50\n",
            "898/898 [==============================] - 20s 22ms/step - loss: 1.4075 - accuracy: 0.6125 - val_loss: 1.6159 - val_accuracy: 0.5411\n",
            "Epoch 19/50\n",
            "898/898 [==============================] - 20s 22ms/step - loss: 1.3798 - accuracy: 0.6158 - val_loss: 1.5889 - val_accuracy: 0.5394\n",
            "Epoch 20/50\n",
            "898/898 [==============================] - 20s 22ms/step - loss: 1.3801 - accuracy: 0.6177 - val_loss: 1.5586 - val_accuracy: 0.5697\n",
            "Epoch 21/50\n",
            "898/898 [==============================] - 20s 22ms/step - loss: 1.3724 - accuracy: 0.6237 - val_loss: 1.5561 - val_accuracy: 0.5772\n",
            "Epoch 22/50\n",
            "898/898 [==============================] - 20s 22ms/step - loss: 1.3390 - accuracy: 0.6286 - val_loss: 1.5087 - val_accuracy: 0.5744\n",
            "Epoch 23/50\n",
            "898/898 [==============================] - 20s 22ms/step - loss: 1.3392 - accuracy: 0.6328 - val_loss: 1.5897 - val_accuracy: 0.5784\n",
            "Epoch 24/50\n",
            "898/898 [==============================] - 20s 22ms/step - loss: 1.3185 - accuracy: 0.6397 - val_loss: 1.4893 - val_accuracy: 0.5777\n",
            "Epoch 25/50\n",
            "898/898 [==============================] - 20s 22ms/step - loss: 1.2998 - accuracy: 0.6447 - val_loss: 1.5606 - val_accuracy: 0.5701\n",
            "Epoch 26/50\n",
            "898/898 [==============================] - 20s 22ms/step - loss: 1.2943 - accuracy: 0.6418 - val_loss: 1.4540 - val_accuracy: 0.5861\n",
            "Epoch 27/50\n",
            "898/898 [==============================] - 20s 22ms/step - loss: 1.2872 - accuracy: 0.6477 - val_loss: 1.4533 - val_accuracy: 0.5837\n",
            "Epoch 28/50\n",
            "898/898 [==============================] - 20s 22ms/step - loss: 1.2684 - accuracy: 0.6525 - val_loss: 1.4672 - val_accuracy: 0.5871\n",
            "Epoch 29/50\n",
            "898/898 [==============================] - 20s 22ms/step - loss: 1.2670 - accuracy: 0.6565 - val_loss: 1.4781 - val_accuracy: 0.5713\n",
            "Epoch 30/50\n",
            "898/898 [==============================] - 20s 22ms/step - loss: 1.2538 - accuracy: 0.6593 - val_loss: 1.5596 - val_accuracy: 0.5733\n",
            "Epoch 31/50\n",
            "898/898 [==============================] - 20s 22ms/step - loss: 1.2495 - accuracy: 0.6622 - val_loss: 1.5451 - val_accuracy: 0.5708\n",
            "Epoch 32/50\n",
            "898/898 [==============================] - 20s 22ms/step - loss: 1.2369 - accuracy: 0.6678 - val_loss: 1.5121 - val_accuracy: 0.5737\n",
            "Epoch 33/50\n",
            "898/898 [==============================] - 20s 22ms/step - loss: 1.2331 - accuracy: 0.6647 - val_loss: 1.4978 - val_accuracy: 0.5915\n",
            "Epoch 34/50\n",
            "898/898 [==============================] - 20s 22ms/step - loss: 1.2236 - accuracy: 0.6720 - val_loss: 1.4392 - val_accuracy: 0.6010\n",
            "Epoch 35/50\n",
            "898/898 [==============================] - 20s 22ms/step - loss: 1.2176 - accuracy: 0.6756 - val_loss: 1.4671 - val_accuracy: 0.5913\n",
            "Epoch 36/50\n",
            "898/898 [==============================] - 20s 22ms/step - loss: 1.1999 - accuracy: 0.6787 - val_loss: 1.4857 - val_accuracy: 0.5857\n",
            "Epoch 37/50\n",
            "898/898 [==============================] - 20s 22ms/step - loss: 1.2040 - accuracy: 0.6788 - val_loss: 1.5046 - val_accuracy: 0.5860\n",
            "Epoch 38/50\n",
            "898/898 [==============================] - 20s 22ms/step - loss: 1.1908 - accuracy: 0.6823 - val_loss: 1.5078 - val_accuracy: 0.5783\n",
            "Epoch 39/50\n",
            "898/898 [==============================] - 20s 22ms/step - loss: 1.1963 - accuracy: 0.6872 - val_loss: 1.4302 - val_accuracy: 0.6043\n",
            "Epoch 40/50\n",
            "898/898 [==============================] - 20s 22ms/step - loss: 1.1852 - accuracy: 0.6879 - val_loss: 1.4373 - val_accuracy: 0.6060\n",
            "Epoch 41/50\n",
            "898/898 [==============================] - 20s 22ms/step - loss: 1.1685 - accuracy: 0.6907 - val_loss: 1.4684 - val_accuracy: 0.5815\n",
            "Epoch 42/50\n",
            "898/898 [==============================] - 20s 22ms/step - loss: 1.1717 - accuracy: 0.6887 - val_loss: 1.4813 - val_accuracy: 0.5981\n",
            "Epoch 43/50\n",
            "898/898 [==============================] - 20s 22ms/step - loss: 1.1626 - accuracy: 0.6956 - val_loss: 1.5213 - val_accuracy: 0.5649\n",
            "Epoch 44/50\n",
            "898/898 [==============================] - 20s 22ms/step - loss: 1.1658 - accuracy: 0.6961 - val_loss: 1.5438 - val_accuracy: 0.5875\n",
            "Epoch 45/50\n",
            "898/898 [==============================] - 20s 22ms/step - loss: 1.1553 - accuracy: 0.7022 - val_loss: 1.6318 - val_accuracy: 0.5559\n",
            "Epoch 46/50\n",
            "898/898 [==============================] - 20s 22ms/step - loss: 1.1405 - accuracy: 0.7101 - val_loss: 1.4844 - val_accuracy: 0.5968\n",
            "Epoch 47/50\n",
            "898/898 [==============================] - 20s 22ms/step - loss: 1.1461 - accuracy: 0.7027 - val_loss: 1.5050 - val_accuracy: 0.5882\n",
            "Epoch 48/50\n",
            "898/898 [==============================] - 20s 22ms/step - loss: 1.1444 - accuracy: 0.7039 - val_loss: 1.4634 - val_accuracy: 0.5946\n",
            "Epoch 49/50\n",
            "898/898 [==============================] - 20s 22ms/step - loss: 1.1259 - accuracy: 0.7065 - val_loss: 1.4664 - val_accuracy: 0.5903\n",
            "Epoch 50/50\n",
            "898/898 [==============================] - 20s 22ms/step - loss: 1.1266 - accuracy: 0.7061 - val_loss: 1.5787 - val_accuracy: 0.5965\n"
          ],
          "name": "stdout"
        }
      ]
    },
    {
      "cell_type": "code",
      "metadata": {
        "colab": {
          "base_uri": "https://localhost:8080/",
          "height": 573
        },
        "id": "uSJoRFX0GEGG",
        "outputId": "c0408845-80b6-4c0c-cb73-ea301b95c177"
      },
      "source": [
        "plotting_epochs(history.history['accuracy'], history.history['val_accuracy'], \"Accuracy\")\n",
        "plotting_epochs(history.history['loss'], history.history['val_loss'], \"Loss\")"
      ],
      "execution_count": null,
      "outputs": [
        {
          "output_type": "display_data",
          "data": {
            "image/png": "[encoded data removed]",
            "text/plain": [
              "<Figure size 432x288 with 1 Axes>"
            ]
          },
          "metadata": {
            "tags": [],
            "needs_background": "light"
          }
        },
        {
          "output_type": "display_data",
          "data": {
            "image/png": "[encoded data removed]",
            "text/plain": [
              "<Figure size 432x288 with 1 Axes>"
            ]
          },
          "metadata": {
            "tags": [],
            "needs_background": "light"
          }
        }
      ]
    },
    {
      "cell_type": "code",
      "metadata": {
        "id": "i3hsC1AFGIek"
      },
      "source": [
        "# model.save('/content/drive/MyDrive/IR/IR_Project_Midsem/Model1.h5')"
      ],
      "execution_count": null,
      "outputs": []
    },
    {
      "cell_type": "markdown",
      "metadata": {
        "id": "pb77Ejr_VSeN"
      },
      "source": [
        "## With Data Augmentation Results"
      ]
    },
    {
      "cell_type": "code",
      "metadata": {
        "colab": {
          "base_uri": "https://localhost:8080/"
        },
        "id": "VCD-10XnVVY3",
        "outputId": "2535d381-f541-41f4-d442-e6872796a552"
      },
      "source": [
        "model.compile(optimizer = 'adam', loss='categorical_crossentropy', metrics=['accuracy'])\n",
        "history = model.fit(x = train_generator, epochs = 50, validation_data = validation_generator)"
      ],
      "execution_count": null,
      "outputs": [
        {
          "output_type": "stream",
          "text": [
            "Epoch 1/50\n",
            "359/359 [==============================] - 10772s 30s/step - loss: 7.5516 - accuracy: 0.2141 - val_loss: 2.9977 - val_accuracy: 0.1735\n",
            "Epoch 2/50\n",
            "359/359 [==============================] - 34s 96ms/step - loss: 2.4923 - accuracy: 0.3498 - val_loss: 2.6605 - val_accuracy: 0.3221\n",
            "Epoch 3/50\n",
            "359/359 [==============================] - 34s 95ms/step - loss: 2.1961 - accuracy: 0.4570 - val_loss: 2.2185 - val_accuracy: 0.4804\n",
            "Epoch 4/50\n",
            "359/359 [==============================] - 34s 94ms/step - loss: 2.1990 - accuracy: 0.4973 - val_loss: 2.2126 - val_accuracy: 0.4752\n",
            "Epoch 5/50\n",
            "359/359 [==============================] - 34s 95ms/step - loss: 2.1564 - accuracy: 0.5116 - val_loss: 2.2182 - val_accuracy: 0.4551\n",
            "Epoch 6/50\n",
            "359/359 [==============================] - 34s 94ms/step - loss: 2.0620 - accuracy: 0.5293 - val_loss: 2.8133 - val_accuracy: 0.4525\n",
            "Epoch 7/50\n",
            "359/359 [==============================] - 34s 96ms/step - loss: 2.1003 - accuracy: 0.5355 - val_loss: 2.1465 - val_accuracy: 0.5186\n",
            "Epoch 8/50\n",
            "359/359 [==============================] - 34s 96ms/step - loss: 2.0702 - accuracy: 0.5428 - val_loss: 2.2048 - val_accuracy: 0.4712\n",
            "Epoch 9/50\n",
            "359/359 [==============================] - 34s 95ms/step - loss: 1.9747 - accuracy: 0.5535 - val_loss: 1.9805 - val_accuracy: 0.5358\n",
            "Epoch 10/50\n",
            "359/359 [==============================] - 34s 95ms/step - loss: 2.0255 - accuracy: 0.5610 - val_loss: 2.4944 - val_accuracy: 0.4376\n",
            "Epoch 11/50\n",
            "359/359 [==============================] - 34s 95ms/step - loss: 2.0673 - accuracy: 0.5611 - val_loss: 2.0336 - val_accuracy: 0.5295\n",
            "Epoch 12/50\n",
            "359/359 [==============================] - 34s 94ms/step - loss: 1.9770 - accuracy: 0.5646 - val_loss: 2.3072 - val_accuracy: 0.5051\n",
            "Epoch 13/50\n",
            "359/359 [==============================] - 34s 94ms/step - loss: 1.9917 - accuracy: 0.5669 - val_loss: 1.9877 - val_accuracy: 0.5325\n",
            "Epoch 14/50\n",
            "359/359 [==============================] - 34s 94ms/step - loss: 1.9136 - accuracy: 0.5801 - val_loss: 2.1678 - val_accuracy: 0.4989\n",
            "Epoch 15/50\n",
            "359/359 [==============================] - 34s 94ms/step - loss: 1.9882 - accuracy: 0.5817 - val_loss: 1.8558 - val_accuracy: 0.5626\n",
            "Epoch 16/50\n",
            "359/359 [==============================] - 34s 96ms/step - loss: 1.9002 - accuracy: 0.5910 - val_loss: 1.9082 - val_accuracy: 0.5544\n",
            "Epoch 17/50\n",
            "359/359 [==============================] - 35s 96ms/step - loss: 1.8875 - accuracy: 0.5963 - val_loss: 1.9475 - val_accuracy: 0.5637\n",
            "Epoch 18/50\n",
            "359/359 [==============================] - 34s 95ms/step - loss: 1.8704 - accuracy: 0.6008 - val_loss: 1.8843 - val_accuracy: 0.5752\n",
            "Epoch 19/50\n",
            "359/359 [==============================] - 34s 95ms/step - loss: 1.7962 - accuracy: 0.6053 - val_loss: 1.8289 - val_accuracy: 0.5853\n",
            "Epoch 20/50\n",
            "359/359 [==============================] - 34s 95ms/step - loss: 1.7545 - accuracy: 0.6073 - val_loss: 1.9200 - val_accuracy: 0.5487\n",
            "Epoch 21/50\n",
            "359/359 [==============================] - 34s 96ms/step - loss: 1.7148 - accuracy: 0.6191 - val_loss: 1.9104 - val_accuracy: 0.5863\n",
            "Epoch 22/50\n",
            "359/359 [==============================] - 34s 95ms/step - loss: 1.7597 - accuracy: 0.6164 - val_loss: 1.7707 - val_accuracy: 0.5518\n",
            "Epoch 23/50\n",
            "359/359 [==============================] - 34s 95ms/step - loss: 1.6821 - accuracy: 0.6215 - val_loss: 1.7985 - val_accuracy: 0.5600\n",
            "Epoch 24/50\n",
            "359/359 [==============================] - 34s 94ms/step - loss: 1.6247 - accuracy: 0.6263 - val_loss: 1.7325 - val_accuracy: 0.5732\n",
            "Epoch 25/50\n",
            "359/359 [==============================] - 34s 94ms/step - loss: 1.5907 - accuracy: 0.6325 - val_loss: 1.7162 - val_accuracy: 0.5910\n",
            "Epoch 26/50\n",
            "359/359 [==============================] - 34s 95ms/step - loss: 1.5686 - accuracy: 0.6385 - val_loss: 1.7196 - val_accuracy: 0.5724\n",
            "Epoch 27/50\n",
            "359/359 [==============================] - 34s 95ms/step - loss: 1.5601 - accuracy: 0.6396 - val_loss: 1.7705 - val_accuracy: 0.5766\n",
            "Epoch 28/50\n",
            "359/359 [==============================] - 34s 94ms/step - loss: 1.5223 - accuracy: 0.6440 - val_loss: 1.6532 - val_accuracy: 0.5814\n",
            "Epoch 29/50\n",
            "359/359 [==============================] - 34s 95ms/step - loss: 1.5080 - accuracy: 0.6549 - val_loss: 1.6554 - val_accuracy: 0.5790\n",
            "Epoch 30/50\n",
            "359/359 [==============================] - 33s 93ms/step - loss: 1.4608 - accuracy: 0.6557 - val_loss: 1.7047 - val_accuracy: 0.5696\n",
            "Epoch 31/50\n",
            "359/359 [==============================] - 34s 94ms/step - loss: 1.4806 - accuracy: 0.6556 - val_loss: 1.7328 - val_accuracy: 0.5863\n",
            "Epoch 32/50\n",
            "359/359 [==============================] - 34s 94ms/step - loss: 1.4812 - accuracy: 0.6584 - val_loss: 1.6413 - val_accuracy: 0.5983\n",
            "Epoch 33/50\n",
            "359/359 [==============================] - 34s 94ms/step - loss: 1.4253 - accuracy: 0.6675 - val_loss: 1.6761 - val_accuracy: 0.5645\n",
            "Epoch 34/50\n",
            "359/359 [==============================] - 34s 95ms/step - loss: 1.3970 - accuracy: 0.6806 - val_loss: 1.6479 - val_accuracy: 0.5783\n",
            "Epoch 35/50\n",
            "359/359 [==============================] - 34s 95ms/step - loss: 1.4048 - accuracy: 0.6772 - val_loss: 1.6847 - val_accuracy: 0.5935\n",
            "Epoch 36/50\n",
            "359/359 [==============================] - 34s 94ms/step - loss: 1.4455 - accuracy: 0.6813 - val_loss: 1.6535 - val_accuracy: 0.5891\n",
            "Epoch 37/50\n",
            "359/359 [==============================] - 34s 94ms/step - loss: 1.3577 - accuracy: 0.6811 - val_loss: 1.6256 - val_accuracy: 0.5987\n",
            "Epoch 38/50\n",
            "359/359 [==============================] - 34s 94ms/step - loss: 1.3581 - accuracy: 0.6896 - val_loss: 1.6279 - val_accuracy: 0.5926\n",
            "Epoch 39/50\n",
            "359/359 [==============================] - 34s 94ms/step - loss: 1.3541 - accuracy: 0.6869 - val_loss: 1.6272 - val_accuracy: 0.6016\n",
            "Epoch 40/50\n",
            "359/359 [==============================] - 34s 94ms/step - loss: 1.3616 - accuracy: 0.6909 - val_loss: 1.8203 - val_accuracy: 0.5710\n",
            "Epoch 41/50\n",
            "359/359 [==============================] - 34s 94ms/step - loss: 1.3109 - accuracy: 0.6970 - val_loss: 1.6537 - val_accuracy: 0.5948\n",
            "Epoch 42/50\n",
            "359/359 [==============================] - 34s 94ms/step - loss: 1.3386 - accuracy: 0.7000 - val_loss: 1.5980 - val_accuracy: 0.5992\n",
            "Epoch 43/50\n",
            "359/359 [==============================] - 35s 97ms/step - loss: 1.3292 - accuracy: 0.6986 - val_loss: 1.6101 - val_accuracy: 0.5992\n",
            "Epoch 44/50\n",
            "359/359 [==============================] - 35s 97ms/step - loss: 1.3171 - accuracy: 0.7040 - val_loss: 1.7688 - val_accuracy: 0.5501\n",
            "Epoch 45/50\n",
            "359/359 [==============================] - 35s 99ms/step - loss: 1.3221 - accuracy: 0.7123 - val_loss: 1.6636 - val_accuracy: 0.5861\n",
            "Epoch 46/50\n",
            "359/359 [==============================] - 35s 98ms/step - loss: 1.3454 - accuracy: 0.7040 - val_loss: 1.6444 - val_accuracy: 0.6058\n",
            "Epoch 47/50\n",
            "359/359 [==============================] - 34s 96ms/step - loss: 1.3039 - accuracy: 0.7127 - val_loss: 1.6831 - val_accuracy: 0.5900\n",
            "Epoch 48/50\n",
            "359/359 [==============================] - 34s 96ms/step - loss: 1.3450 - accuracy: 0.7106 - val_loss: 1.8701 - val_accuracy: 0.5447\n",
            "Epoch 49/50\n",
            "359/359 [==============================] - 34s 96ms/step - loss: 1.3465 - accuracy: 0.7076 - val_loss: 1.6659 - val_accuracy: 0.5903\n",
            "Epoch 50/50\n",
            "359/359 [==============================] - 34s 96ms/step - loss: 1.3050 - accuracy: 0.7198 - val_loss: 1.6492 - val_accuracy: 0.5764\n"
          ],
          "name": "stdout"
        }
      ]
    },
    {
      "cell_type": "code",
      "metadata": {
        "colab": {
          "base_uri": "https://localhost:8080/",
          "height": 573
        },
        "id": "DPZ5qY3C1SAV",
        "outputId": "08c62c1a-bb35-4104-9ea1-7863e348def4"
      },
      "source": [
        "plotting_epochs(history.history['accuracy'], history.history['val_accuracy'], \"Accuracy\")\n",
        "plotting_epochs(history.history['loss'], history.history['val_loss'], \"Loss\")"
      ],
      "execution_count": null,
      "outputs": [
        {
          "output_type": "display_data",
          "data": {
            "image/png": "[encoded data removed]",
            "text/plain": [
              "<Figure size 432x288 with 1 Axes>"
            ]
          },
          "metadata": {
            "tags": [],
            "needs_background": "light"
          }
        },
        {
          "output_type": "display_data",
          "data": {
            "image/png": "[encoded data removed]",
            "text/plain": [
              "<Figure size 432x288 with 1 Axes>"
            ]
          },
          "metadata": {
            "tags": [],
            "needs_background": "light"
          }
        }
      ]
    },
    {
      "cell_type": "code",
      "metadata": {
        "colab": {
          "base_uri": "https://localhost:8080/"
        },
        "id": "9_jrMR8q5ibJ",
        "outputId": "063c4856-f2c4-4d01-cce3-362c34283995"
      },
      "source": [
        "model.fit(x = train_generator, epochs = 5, validation_data = validation_generator)"
      ],
      "execution_count": null,
      "outputs": [
        {
          "output_type": "stream",
          "text": [
            "Epoch 1/5\n",
            "359/359 [==============================] - 35s 97ms/step - loss: 1.2946 - accuracy: 0.7160 - val_loss: 1.6794 - val_accuracy: 0.5999\n",
            "Epoch 2/5\n",
            "359/359 [==============================] - 35s 96ms/step - loss: 1.2792 - accuracy: 0.7201 - val_loss: 1.6123 - val_accuracy: 0.6013\n",
            "Epoch 3/5\n",
            "359/359 [==============================] - 34s 96ms/step - loss: 1.2341 - accuracy: 0.7264 - val_loss: 1.5988 - val_accuracy: 0.6074\n",
            "Epoch 4/5\n",
            "359/359 [==============================] - 34s 96ms/step - loss: 1.2314 - accuracy: 0.7271 - val_loss: 1.5589 - val_accuracy: 0.6157\n",
            "Epoch 5/5\n",
            "359/359 [==============================] - 34s 94ms/step - loss: 1.2095 - accuracy: 0.7252 - val_loss: 1.5844 - val_accuracy: 0.6065\n"
          ],
          "name": "stdout"
        },
        {
          "output_type": "execute_result",
          "data": {
            "text/plain": [
              "<tensorflow.python.keras.callbacks.History at 0x7fb09ea4ba10>"
            ]
          },
          "metadata": {
            "tags": []
          },
          "execution_count": 37
        }
      ]
    },
    {
      "cell_type": "code",
      "metadata": {
        "colab": {
          "base_uri": "https://localhost:8080/"
        },
        "id": "Layn2hE-50rK",
        "outputId": "8d8e7036-2a59-4e6c-a867-e8a75e7d7e22"
      },
      "source": [
        "model.evaluate(test_generator)"
      ],
      "execution_count": null,
      "outputs": [
        {
          "output_type": "stream",
          "text": [
            "113/113 [==============================] - 2410s 22s/step - loss: 1.5704 - accuracy: 0.6090\n"
          ],
          "name": "stdout"
        },
        {
          "output_type": "execute_result",
          "data": {
            "text/plain": [
              "[1.5704418420791626, 0.6089984774589539]"
            ]
          },
          "metadata": {
            "tags": []
          },
          "execution_count": 41
        }
      ]
    },
    {
      "cell_type": "code",
      "metadata": {
        "id": "cEftdrKw4JL-"
      },
      "source": [
        "# model.save('/content/drive/MyDrive/IR/IR_Project_Midsem/Data_Augmentation_Model1.h5')"
      ],
      "execution_count": null,
      "outputs": []
    },
    {
      "cell_type": "markdown",
      "metadata": {
        "id": "xN5LbVwcVsHi"
      },
      "source": [
        "# CNN Model 2 (Best so far)"
      ]
    },
    {
      "cell_type": "code",
      "metadata": {
        "colab": {
          "base_uri": "https://localhost:8080/"
        },
        "id": "n1VsSKCPFomU",
        "outputId": "f7e0542a-1bc5-45db-d703-3dc0c5a63d61"
      },
      "source": [
        "model = Sequential()\n",
        "\n",
        "model.add(layers.Conv2D(32, (3,3), padding='same', activation='relu', input_shape=(48,48,1)))\n",
        "model.add(layers.BatchNormalization())\n",
        "model.add(layers.Conv2D(32, (3,3), padding='same', activation='relu'))\n",
        "model.add(layers.BatchNormalization())\n",
        "model.add(layers.MaxPooling2D(pool_size=(2,2)))\n",
        "model.add(layers.Dropout(0.3))\n",
        "\n",
        "model.add(layers.Conv2D(64, (3,3), padding='same', activation='relu'))\n",
        "model.add(layers.BatchNormalization())\n",
        "model.add(layers.Conv2D(64, (3,3), padding='same', activation='relu'))\n",
        "model.add(layers.BatchNormalization())\n",
        "model.add(layers.MaxPooling2D(pool_size=(2,2)))\n",
        "model.add(layers.Dropout(0.5))\n",
        "\n",
        "model.add(layers.Conv2D(128, (3,3), padding='same', activation='relu'))\n",
        "model.add(layers.BatchNormalization())\n",
        "model.add(layers.Conv2D(128, (3,3), padding='same', activation='relu'))\n",
        "model.add(layers.BatchNormalization())\n",
        "model.add(layers.MaxPooling2D(pool_size=(2,2)))\n",
        "model.add(layers.Dropout(0.5))\n",
        "\n",
        "model.add(layers.Flatten())\n",
        "model.add(layers.Dense(128, activation='relu'))\n",
        "model.add(layers.BatchNormalization())\n",
        "model.add(layers.Dropout(0.5))\n",
        "model.add(layers.Dense(num_classes, activation='softmax'))\n",
        "\n",
        "model.summary()"
      ],
      "execution_count": null,
      "outputs": [
        {
          "output_type": "stream",
          "text": [
            "Model: \"sequential_3\"\n",
            "_________________________________________________________________\n",
            "Layer (type)                 Output Shape              Param #   \n",
            "=================================================================\n",
            "conv2d_15 (Conv2D)           (None, 48, 48, 32)        320       \n",
            "_________________________________________________________________\n",
            "batch_normalization_18 (Batc (None, 48, 48, 32)        128       \n",
            "_________________________________________________________________\n",
            "conv2d_16 (Conv2D)           (None, 48, 48, 32)        9248      \n",
            "_________________________________________________________________\n",
            "batch_normalization_19 (Batc (None, 48, 48, 32)        128       \n",
            "_________________________________________________________________\n",
            "max_pooling2d_12 (MaxPooling (None, 24, 24, 32)        0         \n",
            "_________________________________________________________________\n",
            "dropout_18 (Dropout)         (None, 24, 24, 32)        0         \n",
            "_________________________________________________________________\n",
            "conv2d_17 (Conv2D)           (None, 24, 24, 64)        18496     \n",
            "_________________________________________________________________\n",
            "batch_normalization_20 (Batc (None, 24, 24, 64)        256       \n",
            "_________________________________________________________________\n",
            "conv2d_18 (Conv2D)           (None, 24, 24, 64)        36928     \n",
            "_________________________________________________________________\n",
            "batch_normalization_21 (Batc (None, 24, 24, 64)        256       \n",
            "_________________________________________________________________\n",
            "max_pooling2d_13 (MaxPooling (None, 12, 12, 64)        0         \n",
            "_________________________________________________________________\n",
            "dropout_19 (Dropout)         (None, 12, 12, 64)        0         \n",
            "_________________________________________________________________\n",
            "conv2d_19 (Conv2D)           (None, 12, 12, 128)       73856     \n",
            "_________________________________________________________________\n",
            "batch_normalization_22 (Batc (None, 12, 12, 128)       512       \n",
            "_________________________________________________________________\n",
            "conv2d_20 (Conv2D)           (None, 12, 12, 128)       147584    \n",
            "_________________________________________________________________\n",
            "batch_normalization_23 (Batc (None, 12, 12, 128)       512       \n",
            "_________________________________________________________________\n",
            "max_pooling2d_14 (MaxPooling (None, 6, 6, 128)         0         \n",
            "_________________________________________________________________\n",
            "dropout_20 (Dropout)         (None, 6, 6, 128)         0         \n",
            "_________________________________________________________________\n",
            "flatten_3 (Flatten)          (None, 4608)              0         \n",
            "_________________________________________________________________\n",
            "dense_9 (Dense)              (None, 128)               589952    \n",
            "_________________________________________________________________\n",
            "batch_normalization_24 (Batc (None, 128)               512       \n",
            "_________________________________________________________________\n",
            "dropout_21 (Dropout)         (None, 128)               0         \n",
            "_________________________________________________________________\n",
            "dense_10 (Dense)             (None, 7)                 903       \n",
            "=================================================================\n",
            "Total params: 879,591\n",
            "Trainable params: 878,439\n",
            "Non-trainable params: 1,152\n",
            "_________________________________________________________________\n"
          ],
          "name": "stdout"
        }
      ]
    },
    {
      "cell_type": "code",
      "metadata": {
        "colab": {
          "base_uri": "https://localhost:8080/"
        },
        "id": "6GjKMgCQF-LU",
        "outputId": "578feaf5-5190-43ed-9e10-a15a036a42d6"
      },
      "source": [
        "model.compile(optimizer = 'adam', loss='categorical_crossentropy', metrics=['accuracy'])\n",
        "history = model.fit(X_train, y_train1, batch_size=32, epochs=50, validation_data=(X_test, y_test1))"
      ],
      "execution_count": null,
      "outputs": [
        {
          "output_type": "stream",
          "text": [
            "Epoch 1/50\n",
            "898/898 [==============================] - 11s 11ms/step - loss: 2.1452 - accuracy: 0.2494 - val_loss: 1.5363 - val_accuracy: 0.4076\n",
            "Epoch 2/50\n",
            "898/898 [==============================] - 9s 10ms/step - loss: 1.5282 - accuracy: 0.4097 - val_loss: 1.3634 - val_accuracy: 0.4713\n",
            "Epoch 3/50\n",
            "898/898 [==============================] - 9s 10ms/step - loss: 1.3781 - accuracy: 0.4737 - val_loss: 1.2827 - val_accuracy: 0.5011\n",
            "Epoch 4/50\n",
            "898/898 [==============================] - 9s 10ms/step - loss: 1.3074 - accuracy: 0.5016 - val_loss: 1.2563 - val_accuracy: 0.5157\n",
            "Epoch 5/50\n",
            "898/898 [==============================] - 9s 10ms/step - loss: 1.2555 - accuracy: 0.5250 - val_loss: 1.3634 - val_accuracy: 0.4929\n",
            "Epoch 6/50\n",
            "898/898 [==============================] - 9s 10ms/step - loss: 1.2024 - accuracy: 0.5434 - val_loss: 1.1449 - val_accuracy: 0.5644\n",
            "Epoch 7/50\n",
            "898/898 [==============================] - 9s 10ms/step - loss: 1.1784 - accuracy: 0.5567 - val_loss: 1.1674 - val_accuracy: 0.5432\n",
            "Epoch 8/50\n",
            "898/898 [==============================] - 9s 10ms/step - loss: 1.1352 - accuracy: 0.5721 - val_loss: 1.1170 - val_accuracy: 0.5743\n",
            "Epoch 9/50\n",
            "898/898 [==============================] - 9s 10ms/step - loss: 1.1328 - accuracy: 0.5752 - val_loss: 1.1188 - val_accuracy: 0.5717\n",
            "Epoch 10/50\n",
            "898/898 [==============================] - 9s 10ms/step - loss: 1.1083 - accuracy: 0.5840 - val_loss: 1.1186 - val_accuracy: 0.5722\n",
            "Epoch 11/50\n",
            "898/898 [==============================] - 9s 10ms/step - loss: 1.0882 - accuracy: 0.5964 - val_loss: 1.0921 - val_accuracy: 0.5879\n",
            "Epoch 12/50\n",
            "898/898 [==============================] - 9s 10ms/step - loss: 1.0622 - accuracy: 0.6014 - val_loss: 1.0607 - val_accuracy: 0.6055\n",
            "Epoch 13/50\n",
            "898/898 [==============================] - 9s 10ms/step - loss: 1.0307 - accuracy: 0.6187 - val_loss: 1.0352 - val_accuracy: 0.6126\n",
            "Epoch 14/50\n",
            "898/898 [==============================] - 9s 10ms/step - loss: 1.0214 - accuracy: 0.6205 - val_loss: 1.0457 - val_accuracy: 0.6095\n",
            "Epoch 15/50\n",
            "898/898 [==============================] - 9s 10ms/step - loss: 1.0133 - accuracy: 0.6234 - val_loss: 1.0407 - val_accuracy: 0.6141\n",
            "Epoch 16/50\n",
            "898/898 [==============================] - 9s 10ms/step - loss: 0.9951 - accuracy: 0.6305 - val_loss: 1.0444 - val_accuracy: 0.6071\n",
            "Epoch 17/50\n",
            "898/898 [==============================] - 9s 10ms/step - loss: 0.9714 - accuracy: 0.6420 - val_loss: 1.0185 - val_accuracy: 0.6229\n",
            "Epoch 18/50\n",
            "898/898 [==============================] - 9s 10ms/step - loss: 0.9478 - accuracy: 0.6506 - val_loss: 1.0044 - val_accuracy: 0.6268\n",
            "Epoch 19/50\n",
            "898/898 [==============================] - 9s 10ms/step - loss: 0.9432 - accuracy: 0.6508 - val_loss: 1.0148 - val_accuracy: 0.6233\n",
            "Epoch 20/50\n",
            "898/898 [==============================] - 9s 10ms/step - loss: 0.9267 - accuracy: 0.6557 - val_loss: 1.0484 - val_accuracy: 0.6208\n",
            "Epoch 21/50\n",
            "898/898 [==============================] - 9s 10ms/step - loss: 0.9094 - accuracy: 0.6627 - val_loss: 1.0180 - val_accuracy: 0.6241\n",
            "Epoch 22/50\n",
            "898/898 [==============================] - 9s 10ms/step - loss: 0.9091 - accuracy: 0.6619 - val_loss: 1.0343 - val_accuracy: 0.6199\n",
            "Epoch 23/50\n",
            "898/898 [==============================] - 9s 10ms/step - loss: 0.8983 - accuracy: 0.6653 - val_loss: 1.0256 - val_accuracy: 0.6301\n",
            "Epoch 24/50\n",
            "898/898 [==============================] - 9s 10ms/step - loss: 0.8883 - accuracy: 0.6705 - val_loss: 1.0911 - val_accuracy: 0.5921\n",
            "Epoch 25/50\n",
            "898/898 [==============================] - 9s 10ms/step - loss: 0.8990 - accuracy: 0.6650 - val_loss: 1.0512 - val_accuracy: 0.6160\n",
            "Epoch 26/50\n",
            "898/898 [==============================] - 9s 10ms/step - loss: 0.8659 - accuracy: 0.6774 - val_loss: 1.0159 - val_accuracy: 0.6376\n",
            "Epoch 27/50\n",
            "898/898 [==============================] - 9s 10ms/step - loss: 0.8567 - accuracy: 0.6841 - val_loss: 1.0139 - val_accuracy: 0.6371\n",
            "Epoch 28/50\n",
            "898/898 [==============================] - 9s 10ms/step - loss: 0.8547 - accuracy: 0.6820 - val_loss: 0.9963 - val_accuracy: 0.6322\n",
            "Epoch 29/50\n",
            "898/898 [==============================] - 9s 10ms/step - loss: 0.8410 - accuracy: 0.6877 - val_loss: 1.0245 - val_accuracy: 0.6284\n",
            "Epoch 30/50\n",
            "898/898 [==============================] - 9s 10ms/step - loss: 0.8328 - accuracy: 0.6899 - val_loss: 1.0269 - val_accuracy: 0.6293\n",
            "Epoch 31/50\n",
            "898/898 [==============================] - 9s 10ms/step - loss: 0.8123 - accuracy: 0.7006 - val_loss: 0.9990 - val_accuracy: 0.6378\n",
            "Epoch 32/50\n",
            "898/898 [==============================] - 9s 10ms/step - loss: 0.8159 - accuracy: 0.6958 - val_loss: 0.9980 - val_accuracy: 0.6393\n",
            "Epoch 33/50\n",
            "898/898 [==============================] - 9s 10ms/step - loss: 0.8015 - accuracy: 0.7060 - val_loss: 0.9981 - val_accuracy: 0.6410\n",
            "Epoch 34/50\n",
            "898/898 [==============================] - 9s 10ms/step - loss: 0.8019 - accuracy: 0.7030 - val_loss: 1.0075 - val_accuracy: 0.6421\n",
            "Epoch 35/50\n",
            "898/898 [==============================] - 9s 10ms/step - loss: 0.7965 - accuracy: 0.7018 - val_loss: 1.0141 - val_accuracy: 0.6342\n",
            "Epoch 36/50\n",
            "898/898 [==============================] - 9s 10ms/step - loss: 0.7856 - accuracy: 0.7116 - val_loss: 0.9940 - val_accuracy: 0.6514\n",
            "Epoch 37/50\n",
            "898/898 [==============================] - 9s 10ms/step - loss: 0.7827 - accuracy: 0.7053 - val_loss: 1.0109 - val_accuracy: 0.6399\n",
            "Epoch 38/50\n",
            "898/898 [==============================] - 9s 10ms/step - loss: 0.7715 - accuracy: 0.7189 - val_loss: 0.9978 - val_accuracy: 0.6441\n",
            "Epoch 39/50\n",
            "898/898 [==============================] - 9s 10ms/step - loss: 0.7655 - accuracy: 0.7163 - val_loss: 1.0308 - val_accuracy: 0.6445\n",
            "Epoch 40/50\n",
            "898/898 [==============================] - 9s 10ms/step - loss: 0.7448 - accuracy: 0.7249 - val_loss: 1.0143 - val_accuracy: 0.6478\n",
            "Epoch 41/50\n",
            "898/898 [==============================] - 9s 10ms/step - loss: 0.7717 - accuracy: 0.7174 - val_loss: 0.9975 - val_accuracy: 0.6499\n",
            "Epoch 42/50\n",
            "898/898 [==============================] - 9s 10ms/step - loss: 0.7433 - accuracy: 0.7251 - val_loss: 0.9942 - val_accuracy: 0.6481\n",
            "Epoch 43/50\n",
            "898/898 [==============================] - 9s 10ms/step - loss: 0.7495 - accuracy: 0.7233 - val_loss: 1.0188 - val_accuracy: 0.6535\n",
            "Epoch 44/50\n",
            "898/898 [==============================] - 9s 10ms/step - loss: 0.7349 - accuracy: 0.7274 - val_loss: 1.0068 - val_accuracy: 0.6527\n",
            "Epoch 45/50\n",
            "898/898 [==============================] - 9s 10ms/step - loss: 0.7095 - accuracy: 0.7415 - val_loss: 1.0050 - val_accuracy: 0.6514\n",
            "Epoch 46/50\n",
            "898/898 [==============================] - 9s 10ms/step - loss: 0.7209 - accuracy: 0.7325 - val_loss: 1.0280 - val_accuracy: 0.6408\n",
            "Epoch 47/50\n",
            "898/898 [==============================] - 9s 10ms/step - loss: 0.7128 - accuracy: 0.7364 - val_loss: 1.0339 - val_accuracy: 0.6505\n",
            "Epoch 48/50\n",
            "898/898 [==============================] - 9s 10ms/step - loss: 0.7027 - accuracy: 0.7386 - val_loss: 1.0263 - val_accuracy: 0.6474\n",
            "Epoch 49/50\n",
            "898/898 [==============================] - 9s 10ms/step - loss: 0.7063 - accuracy: 0.7378 - val_loss: 1.0412 - val_accuracy: 0.6530\n",
            "Epoch 50/50\n",
            "898/898 [==============================] - 9s 10ms/step - loss: 0.6979 - accuracy: 0.7403 - val_loss: 1.0119 - val_accuracy: 0.6558\n"
          ],
          "name": "stdout"
        }
      ]
    },
    {
      "cell_type": "code",
      "metadata": {
        "colab": {
          "base_uri": "https://localhost:8080/",
          "height": 573
        },
        "id": "feA7aJXXHnaV",
        "outputId": "56b54200-a21f-48f4-e8a7-ee4785028cfc"
      },
      "source": [
        "plotting_epochs(history.history['accuracy'], history.history['val_accuracy'], \"Accuracy\")\n",
        "plotting_epochs(history.history['loss'], history.history['val_loss'], \"Loss\")"
      ],
      "execution_count": null,
      "outputs": [
        {
          "output_type": "display_data",
          "data": {
            "image/png": "[encoded data removed]",
            "text/plain": [
              "<Figure size 432x288 with 1 Axes>"
            ]
          },
          "metadata": {
            "tags": [],
            "needs_background": "light"
          }
        },
        {
          "output_type": "display_data",
          "data": {
            "image/png": "[encoded data removed]",
            "text/plain": [
              "<Figure size 432x288 with 1 Axes>"
            ]
          },
          "metadata": {
            "tags": [],
            "needs_background": "light"
          }
        }
      ]
    },
    {
      "cell_type": "code",
      "metadata": {
        "id": "MtYIYrOVKFsA"
      },
      "source": [
        "# model.save('/content/drive/MyDrive/IR/IR_Project_Midsem/Model2.h5')"
      ],
      "execution_count": null,
      "outputs": []
    },
    {
      "cell_type": "code",
      "metadata": {
        "id": "HCJAxPsNOgNC"
      },
      "source": [
        "best_model = load_model('/content/drive/MyDrive/IR/IR_Project_Midsem/Model2.h5')"
      ],
      "execution_count": null,
      "outputs": []
    },
    {
      "cell_type": "code",
      "metadata": {
        "colab": {
          "base_uri": "https://localhost:8080/"
        },
        "id": "BLRdiaS5L0Dx",
        "outputId": "141c190c-319b-47fc-af5b-9567c24bd4cf"
      },
      "source": [
        "history = best_model.fit(X_train, y_train1, batch_size=32, epochs=10, validation_data=(X_test, y_test1))"
      ],
      "execution_count": null,
      "outputs": [
        {
          "output_type": "stream",
          "text": [
            "Epoch 1/10\n",
            "898/898 [==============================] - 24s 25ms/step - loss: 0.6947 - accuracy: 0.7454 - val_loss: 1.0074 - val_accuracy: 0.6556\n",
            "Epoch 2/10\n",
            "898/898 [==============================] - 22s 25ms/step - loss: 0.6964 - accuracy: 0.7437 - val_loss: 1.0322 - val_accuracy: 0.6617\n",
            "Epoch 3/10\n",
            "898/898 [==============================] - 22s 25ms/step - loss: 0.6894 - accuracy: 0.7453 - val_loss: 1.0330 - val_accuracy: 0.6505\n",
            "Epoch 4/10\n",
            "898/898 [==============================] - 22s 25ms/step - loss: 0.6831 - accuracy: 0.7457 - val_loss: 1.0433 - val_accuracy: 0.6541\n",
            "Epoch 5/10\n",
            "898/898 [==============================] - 22s 25ms/step - loss: 0.6887 - accuracy: 0.7470 - val_loss: 1.0040 - val_accuracy: 0.6599\n",
            "Epoch 6/10\n",
            "898/898 [==============================] - 22s 25ms/step - loss: 0.6750 - accuracy: 0.7519 - val_loss: 1.0519 - val_accuracy: 0.6531\n",
            "Epoch 7/10\n",
            "898/898 [==============================] - 22s 25ms/step - loss: 0.6822 - accuracy: 0.7497 - val_loss: 1.0320 - val_accuracy: 0.6571\n",
            "Epoch 8/10\n",
            "898/898 [==============================] - 22s 25ms/step - loss: 0.6759 - accuracy: 0.7507 - val_loss: 1.0383 - val_accuracy: 0.6513\n",
            "Epoch 9/10\n",
            "898/898 [==============================] - 22s 25ms/step - loss: 0.6683 - accuracy: 0.7565 - val_loss: 1.0399 - val_accuracy: 0.6530\n",
            "Epoch 10/10\n",
            "898/898 [==============================] - 22s 25ms/step - loss: 0.6683 - accuracy: 0.7520 - val_loss: 1.0385 - val_accuracy: 0.6470\n"
          ],
          "name": "stdout"
        }
      ]
    },
    {
      "cell_type": "code",
      "metadata": {
        "colab": {
          "base_uri": "https://localhost:8080/",
          "height": 573
        },
        "id": "BF17fxP_MSaA",
        "outputId": "ca4fdbc7-95b6-4539-ee2e-c8e2ba34accb"
      },
      "source": [
        "plotting_epochs(history.history['accuracy'], history.history['val_accuracy'], \"Accuracy\")\n",
        "plotting_epochs(history.history['loss'], history.history['val_loss'], \"Loss\")"
      ],
      "execution_count": null,
      "outputs": [
        {
          "output_type": "display_data",
          "data": {
            "image/png": "[encoded data removed]",
            "text/plain": [
              "<Figure size 432x288 with 1 Axes>"
            ]
          },
          "metadata": {
            "tags": [],
            "needs_background": "light"
          }
        },
        {
          "output_type": "display_data",
          "data": {
            "image/png": "[encoded data removed]",
            "text/plain": [
              "<Figure size 432x288 with 1 Axes>"
            ]
          },
          "metadata": {
            "tags": [],
            "needs_background": "light"
          }
        }
      ]
    },
    {
      "cell_type": "markdown",
      "metadata": {
        "id": "O7qc45JX53ec"
      },
      "source": [
        "# CNN Model 3 (Reduced Overfitting)"
      ]
    },
    {
      "cell_type": "code",
      "metadata": {
        "colab": {
          "base_uri": "https://localhost:8080/"
        },
        "id": "1hsp7NPQ558F",
        "outputId": "57552dac-85c1-4c80-e064-9e098949c3a2"
      },
      "source": [
        "model = Sequential()\n",
        "\n",
        "model.add(layers.Conv2D(16,kernel_size=(3,3),padding=\"same\",activation=\"relu\",input_shape=(48,48,1)))\n",
        "model.add(layers.BatchNormalization())\n",
        "model.add(layers.Conv2D(16,kernel_size=(3,3),padding=\"same\",activation=\"relu\"))\n",
        "model.add(layers.BatchNormalization())\n",
        "model.add(layers.MaxPool2D(pool_size=(2,2)))\n",
        "model.add(layers.Dropout(0.25))\n",
        "\n",
        "model.add(layers.Conv2D(32,kernel_size=(3,3),padding=\"same\",activation=\"relu\"))\n",
        "model.add(layers.BatchNormalization())\n",
        "model.add(layers.Conv2D(32,kernel_size=(3,3),padding=\"same\",activation=\"relu\"))\n",
        "model.add(layers.BatchNormalization())\n",
        "model.add(layers.MaxPool2D(pool_size=(2,2)))\n",
        "model.add(layers.Dropout(0.5))\n",
        "\n",
        "model.add(layers.Conv2D(64,kernel_size=(3,3),padding=\"same\",activation=\"relu\"))\n",
        "model.add(layers.BatchNormalization())\n",
        "model.add(layers.Conv2D(64,kernel_size=(3,3),padding=\"same\",activation=\"relu\"))\n",
        "model.add(layers.BatchNormalization())\n",
        "model.add(layers.MaxPool2D(pool_size=(2,2)))\n",
        "model.add(layers.Dropout(0.5))\n",
        "\n",
        "model.add(layers.Flatten())\n",
        "model.add(layers.Dense(128,activation=\"relu\"))\n",
        "model.add(layers.BatchNormalization())\n",
        "model.add(layers.Dropout(0.5))\n",
        "model.add(layers.Dense(num_classes,activation=\"softmax\"))\n",
        "\n",
        "model.summary()"
      ],
      "execution_count": null,
      "outputs": [
        {
          "output_type": "stream",
          "text": [
            "Model: \"sequential\"\n",
            "_________________________________________________________________\n",
            "Layer (type)                 Output Shape              Param #   \n",
            "=================================================================\n",
            "conv2d (Conv2D)              (None, 48, 48, 16)        160       \n",
            "_________________________________________________________________\n",
            "batch_normalization (BatchNo (None, 48, 48, 16)        64        \n",
            "_________________________________________________________________\n",
            "conv2d_1 (Conv2D)            (None, 48, 48, 16)        2320      \n",
            "_________________________________________________________________\n",
            "batch_normalization_1 (Batch (None, 48, 48, 16)        64        \n",
            "_________________________________________________________________\n",
            "max_pooling2d (MaxPooling2D) (None, 24, 24, 16)        0         \n",
            "_________________________________________________________________\n",
            "dropout (Dropout)            (None, 24, 24, 16)        0         \n",
            "_________________________________________________________________\n",
            "conv2d_2 (Conv2D)            (None, 24, 24, 32)        4640      \n",
            "_________________________________________________________________\n",
            "batch_normalization_2 (Batch (None, 24, 24, 32)        128       \n",
            "_________________________________________________________________\n",
            "conv2d_3 (Conv2D)            (None, 24, 24, 32)        9248      \n",
            "_________________________________________________________________\n",
            "batch_normalization_3 (Batch (None, 24, 24, 32)        128       \n",
            "_________________________________________________________________\n",
            "max_pooling2d_1 (MaxPooling2 (None, 12, 12, 32)        0         \n",
            "_________________________________________________________________\n",
            "dropout_1 (Dropout)          (None, 12, 12, 32)        0         \n",
            "_________________________________________________________________\n",
            "conv2d_4 (Conv2D)            (None, 12, 12, 64)        18496     \n",
            "_________________________________________________________________\n",
            "batch_normalization_4 (Batch (None, 12, 12, 64)        256       \n",
            "_________________________________________________________________\n",
            "conv2d_5 (Conv2D)            (None, 12, 12, 64)        36928     \n",
            "_________________________________________________________________\n",
            "batch_normalization_5 (Batch (None, 12, 12, 64)        256       \n",
            "_________________________________________________________________\n",
            "max_pooling2d_2 (MaxPooling2 (None, 6, 6, 64)          0         \n",
            "_________________________________________________________________\n",
            "dropout_2 (Dropout)          (None, 6, 6, 64)          0         \n",
            "_________________________________________________________________\n",
            "flatten (Flatten)            (None, 2304)              0         \n",
            "_________________________________________________________________\n",
            "dense (Dense)                (None, 128)               295040    \n",
            "_________________________________________________________________\n",
            "batch_normalization_6 (Batch (None, 128)               512       \n",
            "_________________________________________________________________\n",
            "dropout_3 (Dropout)          (None, 128)               0         \n",
            "_________________________________________________________________\n",
            "dense_1 (Dense)              (None, 7)                 903       \n",
            "=================================================================\n",
            "Total params: 369,143\n",
            "Trainable params: 368,439\n",
            "Non-trainable params: 704\n",
            "_________________________________________________________________\n"
          ],
          "name": "stdout"
        }
      ]
    },
    {
      "cell_type": "code",
      "metadata": {
        "colab": {
          "base_uri": "https://localhost:8080/"
        },
        "id": "B-Rf-4QhRyVy",
        "outputId": "3c730946-648b-472d-85c1-046608788279"
      },
      "source": [
        "model.compile(optimizer = 'adam', loss='categorical_crossentropy', metrics=['accuracy'])\n",
        "history = model.fit(X_train, y_train1, batch_size=32, epochs=100, validation_data=(X_test, y_test1))"
      ],
      "execution_count": null,
      "outputs": [
        {
          "output_type": "stream",
          "text": [
            "Epoch 1/100\n",
            "898/898 [==============================] - 41s 8ms/step - loss: 2.3096 - accuracy: 0.2269 - val_loss: 1.6139 - val_accuracy: 0.3757\n",
            "Epoch 2/100\n",
            "898/898 [==============================] - 6s 7ms/step - loss: 1.6539 - accuracy: 0.3547 - val_loss: 1.5061 - val_accuracy: 0.4133\n",
            "Epoch 3/100\n",
            "898/898 [==============================] - 6s 7ms/step - loss: 1.5107 - accuracy: 0.4137 - val_loss: 1.4026 - val_accuracy: 0.4494\n",
            "Epoch 4/100\n",
            "898/898 [==============================] - 7s 7ms/step - loss: 1.4154 - accuracy: 0.4541 - val_loss: 1.3533 - val_accuracy: 0.4657\n",
            "Epoch 5/100\n",
            "898/898 [==============================] - 6s 7ms/step - loss: 1.3509 - accuracy: 0.4843 - val_loss: 1.3087 - val_accuracy: 0.4785\n",
            "Epoch 6/100\n",
            "898/898 [==============================] - 7s 7ms/step - loss: 1.3259 - accuracy: 0.4958 - val_loss: 1.2472 - val_accuracy: 0.5224\n",
            "Epoch 7/100\n",
            "898/898 [==============================] - 7s 8ms/step - loss: 1.2803 - accuracy: 0.5129 - val_loss: 1.2527 - val_accuracy: 0.5176\n",
            "Epoch 8/100\n",
            "898/898 [==============================] - 7s 8ms/step - loss: 1.2499 - accuracy: 0.5209 - val_loss: 1.2093 - val_accuracy: 0.5429\n",
            "Epoch 9/100\n",
            "898/898 [==============================] - 7s 7ms/step - loss: 1.2276 - accuracy: 0.5354 - val_loss: 1.1791 - val_accuracy: 0.5549\n",
            "Epoch 10/100\n",
            "898/898 [==============================] - 7s 8ms/step - loss: 1.1995 - accuracy: 0.5466 - val_loss: 1.2147 - val_accuracy: 0.5405\n",
            "Epoch 11/100\n",
            "898/898 [==============================] - 6s 7ms/step - loss: 1.2028 - accuracy: 0.5428 - val_loss: 1.1253 - val_accuracy: 0.5770\n",
            "Epoch 12/100\n",
            "898/898 [==============================] - 7s 7ms/step - loss: 1.1716 - accuracy: 0.5563 - val_loss: 1.1407 - val_accuracy: 0.5711\n",
            "Epoch 13/100\n",
            "898/898 [==============================] - 7s 7ms/step - loss: 1.1626 - accuracy: 0.5647 - val_loss: 1.1383 - val_accuracy: 0.5626\n",
            "Epoch 14/100\n",
            "898/898 [==============================] - 7s 7ms/step - loss: 1.1489 - accuracy: 0.5681 - val_loss: 1.1110 - val_accuracy: 0.5812\n",
            "Epoch 15/100\n",
            "898/898 [==============================] - 7s 7ms/step - loss: 1.1324 - accuracy: 0.5746 - val_loss: 1.1087 - val_accuracy: 0.5773\n",
            "Epoch 16/100\n",
            "898/898 [==============================] - 7s 8ms/step - loss: 1.1282 - accuracy: 0.5785 - val_loss: 1.1490 - val_accuracy: 0.5660\n",
            "Epoch 17/100\n",
            "898/898 [==============================] - 7s 8ms/step - loss: 1.1192 - accuracy: 0.5742 - val_loss: 1.0774 - val_accuracy: 0.5926\n",
            "Epoch 18/100\n",
            "898/898 [==============================] - 7s 8ms/step - loss: 1.0995 - accuracy: 0.5858 - val_loss: 1.1136 - val_accuracy: 0.5780\n",
            "Epoch 19/100\n",
            "898/898 [==============================] - 7s 8ms/step - loss: 1.0999 - accuracy: 0.5939 - val_loss: 1.0816 - val_accuracy: 0.5908\n",
            "Epoch 20/100\n",
            "898/898 [==============================] - 7s 7ms/step - loss: 1.0844 - accuracy: 0.5916 - val_loss: 1.0854 - val_accuracy: 0.5939\n",
            "Epoch 21/100\n",
            "898/898 [==============================] - 7s 7ms/step - loss: 1.0692 - accuracy: 0.5965 - val_loss: 1.0547 - val_accuracy: 0.6032\n",
            "Epoch 22/100\n",
            "898/898 [==============================] - 7s 8ms/step - loss: 1.0563 - accuracy: 0.6052 - val_loss: 1.0748 - val_accuracy: 0.5904\n",
            "Epoch 23/100\n",
            "898/898 [==============================] - 7s 7ms/step - loss: 1.0626 - accuracy: 0.5995 - val_loss: 1.0607 - val_accuracy: 0.5961\n",
            "Epoch 24/100\n",
            "898/898 [==============================] - 7s 7ms/step - loss: 1.0476 - accuracy: 0.6050 - val_loss: 1.0655 - val_accuracy: 0.6030\n",
            "Epoch 25/100\n",
            "898/898 [==============================] - 6s 7ms/step - loss: 1.0536 - accuracy: 0.6107 - val_loss: 1.0542 - val_accuracy: 0.6004\n",
            "Epoch 26/100\n",
            "898/898 [==============================] - 7s 8ms/step - loss: 1.0345 - accuracy: 0.6170 - val_loss: 1.0400 - val_accuracy: 0.6062\n",
            "Epoch 27/100\n",
            "898/898 [==============================] - 6s 7ms/step - loss: 1.0416 - accuracy: 0.6109 - val_loss: 1.0375 - val_accuracy: 0.6059\n",
            "Epoch 28/100\n",
            "898/898 [==============================] - 7s 7ms/step - loss: 1.0339 - accuracy: 0.6153 - val_loss: 1.0427 - val_accuracy: 0.6031\n",
            "Epoch 29/100\n",
            "898/898 [==============================] - 6s 7ms/step - loss: 1.0233 - accuracy: 0.6169 - val_loss: 1.0519 - val_accuracy: 0.6060\n",
            "Epoch 30/100\n",
            "898/898 [==============================] - 6s 7ms/step - loss: 1.0241 - accuracy: 0.6176 - val_loss: 1.0499 - val_accuracy: 0.6124\n",
            "Epoch 31/100\n",
            "898/898 [==============================] - 7s 8ms/step - loss: 1.0205 - accuracy: 0.6187 - val_loss: 1.0199 - val_accuracy: 0.6187\n",
            "Epoch 32/100\n",
            "898/898 [==============================] - 7s 7ms/step - loss: 1.0145 - accuracy: 0.6187 - val_loss: 1.0197 - val_accuracy: 0.6173\n",
            "Epoch 33/100\n",
            "898/898 [==============================] - 7s 7ms/step - loss: 1.0055 - accuracy: 0.6252 - val_loss: 1.0269 - val_accuracy: 0.6105\n",
            "Epoch 34/100\n",
            "898/898 [==============================] - 7s 7ms/step - loss: 1.0044 - accuracy: 0.6228 - val_loss: 1.0355 - val_accuracy: 0.6089\n",
            "Epoch 35/100\n",
            "898/898 [==============================] - 7s 8ms/step - loss: 1.0018 - accuracy: 0.6203 - val_loss: 1.0218 - val_accuracy: 0.6212\n",
            "Epoch 36/100\n",
            "898/898 [==============================] - 7s 7ms/step - loss: 0.9927 - accuracy: 0.6290 - val_loss: 1.0432 - val_accuracy: 0.6099\n",
            "Epoch 37/100\n",
            "898/898 [==============================] - 7s 7ms/step - loss: 0.9879 - accuracy: 0.6281 - val_loss: 1.0164 - val_accuracy: 0.6173\n",
            "Epoch 38/100\n",
            "898/898 [==============================] - 7s 8ms/step - loss: 0.9775 - accuracy: 0.6329 - val_loss: 1.0118 - val_accuracy: 0.6222\n",
            "Epoch 39/100\n",
            "898/898 [==============================] - 7s 8ms/step - loss: 0.9866 - accuracy: 0.6326 - val_loss: 1.0347 - val_accuracy: 0.6194\n",
            "Epoch 40/100\n",
            "898/898 [==============================] - 7s 7ms/step - loss: 0.9848 - accuracy: 0.6323 - val_loss: 1.0162 - val_accuracy: 0.6218\n",
            "Epoch 41/100\n",
            "898/898 [==============================] - 7s 8ms/step - loss: 0.9795 - accuracy: 0.6368 - val_loss: 1.0136 - val_accuracy: 0.6233\n",
            "Epoch 42/100\n",
            "898/898 [==============================] - 7s 8ms/step - loss: 0.9688 - accuracy: 0.6358 - val_loss: 1.0128 - val_accuracy: 0.6250\n",
            "Epoch 43/100\n",
            "898/898 [==============================] - 7s 7ms/step - loss: 0.9747 - accuracy: 0.6320 - val_loss: 1.0096 - val_accuracy: 0.6208\n",
            "Epoch 44/100\n",
            "898/898 [==============================] - 7s 8ms/step - loss: 0.9720 - accuracy: 0.6332 - val_loss: 1.0218 - val_accuracy: 0.6191\n",
            "Epoch 45/100\n",
            "898/898 [==============================] - 7s 7ms/step - loss: 0.9639 - accuracy: 0.6386 - val_loss: 1.0294 - val_accuracy: 0.6180\n",
            "Epoch 46/100\n",
            "898/898 [==============================] - 7s 7ms/step - loss: 0.9505 - accuracy: 0.6448 - val_loss: 1.0029 - val_accuracy: 0.6234\n",
            "Epoch 47/100\n",
            "898/898 [==============================] - 7s 7ms/step - loss: 0.9684 - accuracy: 0.6371 - val_loss: 1.0207 - val_accuracy: 0.6152\n",
            "Epoch 48/100\n",
            "898/898 [==============================] - 7s 8ms/step - loss: 0.9613 - accuracy: 0.6411 - val_loss: 1.0034 - val_accuracy: 0.6271\n",
            "Epoch 49/100\n",
            "898/898 [==============================] - 7s 7ms/step - loss: 0.9565 - accuracy: 0.6394 - val_loss: 1.0064 - val_accuracy: 0.6233\n",
            "Epoch 50/100\n",
            "898/898 [==============================] - 7s 7ms/step - loss: 0.9548 - accuracy: 0.6438 - val_loss: 1.0061 - val_accuracy: 0.6280\n",
            "Epoch 51/100\n",
            "898/898 [==============================] - 7s 7ms/step - loss: 0.9475 - accuracy: 0.6454 - val_loss: 1.0253 - val_accuracy: 0.6218\n",
            "Epoch 52/100\n",
            "898/898 [==============================] - 7s 8ms/step - loss: 0.9414 - accuracy: 0.6524 - val_loss: 1.0112 - val_accuracy: 0.6213\n",
            "Epoch 53/100\n",
            "898/898 [==============================] - 7s 7ms/step - loss: 0.9331 - accuracy: 0.6502 - val_loss: 1.0097 - val_accuracy: 0.6308\n",
            "Epoch 54/100\n",
            "898/898 [==============================] - 7s 8ms/step - loss: 0.9319 - accuracy: 0.6526 - val_loss: 1.0001 - val_accuracy: 0.6282\n",
            "Epoch 55/100\n",
            "898/898 [==============================] - 7s 8ms/step - loss: 0.9297 - accuracy: 0.6547 - val_loss: 1.0224 - val_accuracy: 0.6177\n",
            "Epoch 56/100\n",
            "898/898 [==============================] - 7s 8ms/step - loss: 0.9361 - accuracy: 0.6509 - val_loss: 1.0001 - val_accuracy: 0.6259\n",
            "Epoch 57/100\n",
            "898/898 [==============================] - 7s 8ms/step - loss: 0.9313 - accuracy: 0.6514 - val_loss: 0.9923 - val_accuracy: 0.6344\n",
            "Epoch 58/100\n",
            "898/898 [==============================] - 7s 7ms/step - loss: 0.9297 - accuracy: 0.6485 - val_loss: 1.0027 - val_accuracy: 0.6290\n",
            "Epoch 59/100\n",
            "898/898 [==============================] - 7s 7ms/step - loss: 0.9281 - accuracy: 0.6539 - val_loss: 0.9985 - val_accuracy: 0.6273\n",
            "Epoch 60/100\n",
            "898/898 [==============================] - 7s 7ms/step - loss: 0.9278 - accuracy: 0.6485 - val_loss: 1.0411 - val_accuracy: 0.6201\n",
            "Epoch 61/100\n",
            "898/898 [==============================] - 7s 7ms/step - loss: 0.9694 - accuracy: 0.6410 - val_loss: 1.0045 - val_accuracy: 0.6291\n",
            "Epoch 62/100\n",
            "898/898 [==============================] - 7s 8ms/step - loss: 0.9053 - accuracy: 0.6609 - val_loss: 0.9976 - val_accuracy: 0.6298\n",
            "Epoch 63/100\n",
            "898/898 [==============================] - 7s 7ms/step - loss: 0.9243 - accuracy: 0.6536 - val_loss: 0.9892 - val_accuracy: 0.6283\n",
            "Epoch 64/100\n",
            "898/898 [==============================] - 7s 8ms/step - loss: 0.9153 - accuracy: 0.6591 - val_loss: 0.9984 - val_accuracy: 0.6286\n",
            "Epoch 65/100\n",
            "898/898 [==============================] - 7s 7ms/step - loss: 0.9217 - accuracy: 0.6592 - val_loss: 0.9907 - val_accuracy: 0.6350\n",
            "Epoch 66/100\n",
            "898/898 [==============================] - 7s 7ms/step - loss: 0.8963 - accuracy: 0.6654 - val_loss: 0.9901 - val_accuracy: 0.6321\n",
            "Epoch 67/100\n",
            "898/898 [==============================] - 7s 7ms/step - loss: 0.8936 - accuracy: 0.6669 - val_loss: 1.0008 - val_accuracy: 0.6301\n",
            "Epoch 68/100\n",
            "898/898 [==============================] - 7s 7ms/step - loss: 0.9075 - accuracy: 0.6621 - val_loss: 0.9941 - val_accuracy: 0.6325\n",
            "Epoch 69/100\n",
            "898/898 [==============================] - 7s 8ms/step - loss: 0.9687 - accuracy: 0.6372 - val_loss: 0.9893 - val_accuracy: 0.6332\n",
            "Epoch 70/100\n",
            "898/898 [==============================] - 7s 8ms/step - loss: 0.9118 - accuracy: 0.6654 - val_loss: 1.0168 - val_accuracy: 0.6279\n",
            "Epoch 71/100\n",
            "898/898 [==============================] - 7s 8ms/step - loss: 0.8939 - accuracy: 0.6685 - val_loss: 0.9980 - val_accuracy: 0.6317\n",
            "Epoch 72/100\n",
            "898/898 [==============================] - 7s 7ms/step - loss: 0.8953 - accuracy: 0.6642 - val_loss: 0.9864 - val_accuracy: 0.6368\n",
            "Epoch 73/100\n",
            "898/898 [==============================] - 7s 7ms/step - loss: 0.9027 - accuracy: 0.6615 - val_loss: 0.9957 - val_accuracy: 0.6298\n",
            "Epoch 74/100\n",
            "898/898 [==============================] - 7s 7ms/step - loss: 0.8928 - accuracy: 0.6683 - val_loss: 0.9973 - val_accuracy: 0.6326\n",
            "Epoch 75/100\n",
            "898/898 [==============================] - 7s 7ms/step - loss: 0.8959 - accuracy: 0.6647 - val_loss: 1.0238 - val_accuracy: 0.6240\n",
            "Epoch 76/100\n",
            "898/898 [==============================] - 7s 7ms/step - loss: 0.8963 - accuracy: 0.6606 - val_loss: 0.9878 - val_accuracy: 0.6361\n",
            "Epoch 77/100\n",
            "898/898 [==============================] - 7s 7ms/step - loss: 0.8999 - accuracy: 0.6647 - val_loss: 0.9897 - val_accuracy: 0.6330\n",
            "Epoch 78/100\n",
            "898/898 [==============================] - 6s 7ms/step - loss: 0.8856 - accuracy: 0.6702 - val_loss: 0.9944 - val_accuracy: 0.6346\n",
            "Epoch 79/100\n",
            "898/898 [==============================] - 7s 7ms/step - loss: 0.8935 - accuracy: 0.6678 - val_loss: 0.9919 - val_accuracy: 0.6296\n",
            "Epoch 80/100\n",
            "898/898 [==============================] - 7s 7ms/step - loss: 0.8869 - accuracy: 0.6695 - val_loss: 0.9784 - val_accuracy: 0.6385\n",
            "Epoch 81/100\n",
            "898/898 [==============================] - 7s 7ms/step - loss: 0.8690 - accuracy: 0.6766 - val_loss: 0.9947 - val_accuracy: 0.6346\n",
            "Epoch 82/100\n",
            "898/898 [==============================] - 7s 8ms/step - loss: 0.8840 - accuracy: 0.6705 - val_loss: 0.9785 - val_accuracy: 0.6402\n",
            "Epoch 83/100\n",
            "898/898 [==============================] - 7s 8ms/step - loss: 0.8916 - accuracy: 0.6702 - val_loss: 1.0301 - val_accuracy: 0.6283\n",
            "Epoch 84/100\n",
            "898/898 [==============================] - 7s 8ms/step - loss: 0.8878 - accuracy: 0.6639 - val_loss: 0.9842 - val_accuracy: 0.6375\n",
            "Epoch 85/100\n",
            "898/898 [==============================] - 7s 7ms/step - loss: 0.8820 - accuracy: 0.6728 - val_loss: 0.9856 - val_accuracy: 0.6390\n",
            "Epoch 86/100\n",
            "898/898 [==============================] - 7s 7ms/step - loss: 0.8920 - accuracy: 0.6667 - val_loss: 0.9806 - val_accuracy: 0.6357\n",
            "Epoch 87/100\n",
            "898/898 [==============================] - 7s 8ms/step - loss: 0.8887 - accuracy: 0.6736 - val_loss: 0.9920 - val_accuracy: 0.6418\n",
            "Epoch 88/100\n",
            "898/898 [==============================] - 7s 7ms/step - loss: 0.8760 - accuracy: 0.6718 - val_loss: 0.9907 - val_accuracy: 0.6406\n",
            "Epoch 89/100\n",
            "898/898 [==============================] - 7s 7ms/step - loss: 0.8878 - accuracy: 0.6694 - val_loss: 0.9923 - val_accuracy: 0.6381\n",
            "Epoch 90/100\n",
            "898/898 [==============================] - 7s 7ms/step - loss: 0.8733 - accuracy: 0.6774 - val_loss: 0.9920 - val_accuracy: 0.6404\n",
            "Epoch 91/100\n",
            "898/898 [==============================] - 7s 7ms/step - loss: 0.8683 - accuracy: 0.6710 - val_loss: 0.9772 - val_accuracy: 0.6393\n",
            "Epoch 92/100\n",
            "898/898 [==============================] - 7s 7ms/step - loss: 0.8861 - accuracy: 0.6682 - val_loss: 0.9950 - val_accuracy: 0.6367\n",
            "Epoch 93/100\n",
            "898/898 [==============================] - 7s 7ms/step - loss: 0.8752 - accuracy: 0.6738 - val_loss: 1.0000 - val_accuracy: 0.6367\n",
            "Epoch 94/100\n",
            "898/898 [==============================] - 7s 7ms/step - loss: 0.8777 - accuracy: 0.6746 - val_loss: 0.9959 - val_accuracy: 0.6335\n",
            "Epoch 95/100\n",
            "898/898 [==============================] - 7s 8ms/step - loss: 0.8737 - accuracy: 0.6726 - val_loss: 0.9989 - val_accuracy: 0.6365\n",
            "Epoch 96/100\n",
            "898/898 [==============================] - 7s 7ms/step - loss: 0.8718 - accuracy: 0.6739 - val_loss: 0.9713 - val_accuracy: 0.6428\n",
            "Epoch 97/100\n",
            "898/898 [==============================] - 7s 7ms/step - loss: 0.8766 - accuracy: 0.6726 - val_loss: 0.9862 - val_accuracy: 0.6354\n",
            "Epoch 98/100\n",
            "898/898 [==============================] - 7s 7ms/step - loss: 0.8597 - accuracy: 0.6835 - val_loss: 1.0111 - val_accuracy: 0.6269\n",
            "Epoch 99/100\n",
            "898/898 [==============================] - 7s 7ms/step - loss: 0.8635 - accuracy: 0.6747 - val_loss: 0.9887 - val_accuracy: 0.6340\n",
            "Epoch 100/100\n",
            "898/898 [==============================] - 7s 7ms/step - loss: 0.8693 - accuracy: 0.6726 - val_loss: 0.9871 - val_accuracy: 0.6407\n"
          ],
          "name": "stdout"
        }
      ]
    },
    {
      "cell_type": "code",
      "metadata": {
        "colab": {
          "base_uri": "https://localhost:8080/",
          "height": 573
        },
        "id": "eG9zkqFp7OZN",
        "outputId": "086ff802-5f83-42df-a293-1bc99d069110"
      },
      "source": [
        "plotting_epochs(history.history['accuracy'], history.history['val_accuracy'], \"Accuracy\")\n",
        "plotting_epochs(history.history['loss'], history.history['val_loss'], \"Loss\")"
      ],
      "execution_count": null,
      "outputs": [
        {
          "output_type": "display_data",
          "data": {
            "image/png": "[encoded data removed]",
            "text/plain": [
              "<Figure size 432x288 with 1 Axes>"
            ]
          },
          "metadata": {
            "tags": [],
            "needs_background": "light"
          }
        },
        {
          "output_type": "display_data",
          "data": {
            "image/png": "[encoded data removed]",
            "text/plain": [
              "<Figure size 432x288 with 1 Axes>"
            ]
          },
          "metadata": {
            "tags": [],
            "needs_background": "light"
          }
        }
      ]
    },
    {
      "cell_type": "code",
      "metadata": {
        "id": "L1HeHQD21q-P"
      },
      "source": [
        "model.save('/content/gdrive/MyDrive/IR_mid_project/model_with_64accuracy.h5')"
      ],
      "execution_count": null,
      "outputs": []
    },
    {
      "cell_type": "markdown",
      "metadata": {
        "id": "l9rUWBPDRwa7"
      },
      "source": [
        "# VGG 16"
      ]
    },
    {
      "cell_type": "code",
      "metadata": {
        "colab": {
          "base_uri": "https://localhost:8080/"
        },
        "id": "k8fMWolHRyEp",
        "outputId": "cf38ba3a-002d-4184-ef75-2ee02a3b8a7b"
      },
      "source": [
        "vgg16 = VGG16(include_top = False, weights='imagenet', pooling='avg', classes=7, input_shape=(48, 48, 3))\n",
        "vgg16.summary()"
      ],
      "execution_count": null,
      "outputs": [
        {
          "output_type": "stream",
          "text": [
            "Downloading data from https://storage.googleapis.com/tensorflow/keras-applications/vgg16/vgg16_weights_tf_dim_ordering_tf_kernels_notop.h5\n",
            "58892288/58889256 [==============================] - 1s 0us/step\n",
            "Model: \"vgg16\"\n",
            "_________________________________________________________________\n",
            "Layer (type)                 Output Shape              Param #   \n",
            "=================================================================\n",
            "input_1 (InputLayer)         [(None, 48, 48, 3)]       0         \n",
            "_________________________________________________________________\n",
            "block1_conv1 (Conv2D)        (None, 48, 48, 64)        1792      \n",
            "_________________________________________________________________\n",
            "block1_conv2 (Conv2D)        (None, 48, 48, 64)        36928     \n",
            "_________________________________________________________________\n",
            "block1_pool (MaxPooling2D)   (None, 24, 24, 64)        0         \n",
            "_________________________________________________________________\n",
            "block2_conv1 (Conv2D)        (None, 24, 24, 128)       73856     \n",
            "_________________________________________________________________\n",
            "block2_conv2 (Conv2D)        (None, 24, 24, 128)       147584    \n",
            "_________________________________________________________________\n",
            "block2_pool (MaxPooling2D)   (None, 12, 12, 128)       0         \n",
            "_________________________________________________________________\n",
            "block3_conv1 (Conv2D)        (None, 12, 12, 256)       295168    \n",
            "_________________________________________________________________\n",
            "block3_conv2 (Conv2D)        (None, 12, 12, 256)       590080    \n",
            "_________________________________________________________________\n",
            "block3_conv3 (Conv2D)        (None, 12, 12, 256)       590080    \n",
            "_________________________________________________________________\n",
            "block3_pool (MaxPooling2D)   (None, 6, 6, 256)         0         \n",
            "_________________________________________________________________\n",
            "block4_conv1 (Conv2D)        (None, 6, 6, 512)         1180160   \n",
            "_________________________________________________________________\n",
            "block4_conv2 (Conv2D)        (None, 6, 6, 512)         2359808   \n",
            "_________________________________________________________________\n",
            "block4_conv3 (Conv2D)        (None, 6, 6, 512)         2359808   \n",
            "_________________________________________________________________\n",
            "block4_pool (MaxPooling2D)   (None, 3, 3, 512)         0         \n",
            "_________________________________________________________________\n",
            "block5_conv1 (Conv2D)        (None, 3, 3, 512)         2359808   \n",
            "_________________________________________________________________\n",
            "block5_conv2 (Conv2D)        (None, 3, 3, 512)         2359808   \n",
            "_________________________________________________________________\n",
            "block5_conv3 (Conv2D)        (None, 3, 3, 512)         2359808   \n",
            "_________________________________________________________________\n",
            "block5_pool (MaxPooling2D)   (None, 1, 1, 512)         0         \n",
            "_________________________________________________________________\n",
            "global_average_pooling2d (Gl (None, 512)               0         \n",
            "=================================================================\n",
            "Total params: 14,714,688\n",
            "Trainable params: 14,714,688\n",
            "Non-trainable params: 0\n",
            "_________________________________________________________________\n"
          ],
          "name": "stdout"
        }
      ]
    },
    {
      "cell_type": "code",
      "metadata": {
        "id": "I2aXnyIFShTG"
      },
      "source": [
        "model_vgg = Sequential()\n",
        "model_vgg.add(vgg16)\n",
        "model_vgg.add(keras.layers.Flatten())\n",
        "model_vgg.add(Dense(512, activation='relu'))\n",
        "model_vgg.add(Dropout(0.5))\n",
        "model_vgg.add(Dense(7, activation = 'softmax'))\n",
        "\n",
        "for layer in vgg16.layers[:-10]:\n",
        "        layer.trainable = False"
      ],
      "execution_count": null,
      "outputs": []
    },
    {
      "cell_type": "code",
      "metadata": {
        "colab": {
          "base_uri": "https://localhost:8080/"
        },
        "id": "b7kHJbXME4jG",
        "outputId": "d645707a-2d0b-4867-cff0-cbf88d10566a"
      },
      "source": [
        "model_vgg.summary()"
      ],
      "execution_count": null,
      "outputs": [
        {
          "output_type": "stream",
          "text": [
            "Model: \"sequential_1\"\n",
            "_________________________________________________________________\n",
            "Layer (type)                 Output Shape              Param #   \n",
            "=================================================================\n",
            "vgg16 (Functional)           (None, 512)               14714688  \n",
            "_________________________________________________________________\n",
            "flatten_1 (Flatten)          (None, 512)               0         \n",
            "_________________________________________________________________\n",
            "dense_2 (Dense)              (None, 512)               262656    \n",
            "_________________________________________________________________\n",
            "dropout_1 (Dropout)          (None, 512)               0         \n",
            "_________________________________________________________________\n",
            "dense_3 (Dense)              (None, 7)                 3591      \n",
            "=================================================================\n",
            "Total params: 14,980,935\n",
            "Trainable params: 13,245,447\n",
            "Non-trainable params: 1,735,488\n",
            "_________________________________________________________________\n"
          ],
          "name": "stdout"
        }
      ]
    },
    {
      "cell_type": "code",
      "metadata": {
        "colab": {
          "base_uri": "https://localhost:8080/"
        },
        "id": "Ga3xpLAOSekf",
        "outputId": "8b487c03-8ae0-46af-a5f9-e68f3713cd09"
      },
      "source": [
        "adam = Adam(lr=0.0001)\n",
        "model_vgg.compile(optimizer = adam, loss = 'sparse_categorical_crossentropy', metrics = ['accuracy'])\n",
        "# cb_checkpointer_vgg = ModelCheckpoint(filepath = '../best_vgg.h5', monitor = 'val_loss', save_best_only = True)\n",
        "fit_history = model_vgg.fit(train_generator, epochs = 10, validation_data=validation_generator)"
      ],
      "execution_count": null,
      "outputs": [
        {
          "output_type": "stream",
          "text": [
            "Epoch 1/10\n",
            "449/449 [==============================] - 12444s 28s/step - loss: 1.6816 - accuracy: 0.3370 - val_loss: 1.2980 - val_accuracy: 0.4967\n",
            "Epoch 2/10\n",
            "449/449 [==============================] - 44s 99ms/step - loss: 1.2586 - accuracy: 0.5304 - val_loss: 1.1635 - val_accuracy: 0.5704\n",
            "Epoch 3/10\n",
            "449/449 [==============================] - 45s 99ms/step - loss: 1.0753 - accuracy: 0.6019 - val_loss: 1.1208 - val_accuracy: 0.5798\n",
            "Epoch 4/10\n",
            "449/449 [==============================] - 45s 100ms/step - loss: 0.9192 - accuracy: 0.6642 - val_loss: 1.0915 - val_accuracy: 0.5931\n",
            "Epoch 5/10\n",
            "449/449 [==============================] - 44s 98ms/step - loss: 0.7184 - accuracy: 0.7447 - val_loss: 1.1406 - val_accuracy: 0.6219\n",
            "Epoch 6/10\n",
            "449/449 [==============================] - 44s 97ms/step - loss: 0.5104 - accuracy: 0.8198 - val_loss: 1.2033 - val_accuracy: 0.6358\n",
            "Epoch 7/10\n",
            "449/449 [==============================] - 44s 98ms/step - loss: 0.3405 - accuracy: 0.8841 - val_loss: 1.3889 - val_accuracy: 0.6030\n",
            "Epoch 8/10\n",
            "449/449 [==============================] - 44s 98ms/step - loss: 0.2308 - accuracy: 0.9242 - val_loss: 1.4531 - val_accuracy: 0.6396\n",
            "Epoch 9/10\n",
            "449/449 [==============================] - 44s 99ms/step - loss: 0.1690 - accuracy: 0.9473 - val_loss: 1.5853 - val_accuracy: 0.6209\n",
            "Epoch 10/10\n",
            "449/449 [==============================] - 44s 98ms/step - loss: 0.1311 - accuracy: 0.9573 - val_loss: 1.6656 - val_accuracy: 0.6329\n"
          ],
          "name": "stdout"
        }
      ]
    },
    {
      "cell_type": "code",
      "metadata": {
        "colab": {
          "base_uri": "https://localhost:8080/",
          "height": 573
        },
        "id": "VaHASgZCEaIy",
        "outputId": "17786eb3-b01a-4c60-dda3-94f3b5a203dc"
      },
      "source": [
        "plotting_epochs(fit_history.history['accuracy'], fit_history.history['val_accuracy'], \"Accuracy\")\n",
        "plotting_epochs(fit_history.history['loss'], fit_history.history['val_loss'], \"Loss\")"
      ],
      "execution_count": null,
      "outputs": [
        {
          "output_type": "display_data",
          "data": {
            "image/png": "[encoded data removed]",
            "text/plain": [
              "<Figure size 432x288 with 1 Axes>"
            ]
          },
          "metadata": {
            "tags": [],
            "needs_background": "light"
          }
        },
        {
          "output_type": "display_data",
          "data": {
            "image/png": "[encoded data removed]",
            "text/plain": [
              "<Figure size 432x288 with 1 Axes>"
            ]
          },
          "metadata": {
            "tags": [],
            "needs_background": "light"
          }
        }
      ]
    },
    {
      "cell_type": "markdown",
      "metadata": {
        "id": "sdYNBaVBY-F3"
      },
      "source": [
        "# VGG19"
      ]
    },
    {
      "cell_type": "code",
      "metadata": {
        "colab": {
          "base_uri": "https://localhost:8080/"
        },
        "id": "A2ZwlxC5ZDjw",
        "outputId": "c2053fda-428c-4c72-8beb-20803eefef16"
      },
      "source": [
        "from keras.applications.vgg19 import VGG19\n",
        "vgg19 = VGG19(weights='imagenet', include_top=False,pooling='avg', classes=7, input_shape=(48,48,3))\n",
        "vgg19.summary()\n"
      ],
      "execution_count": null,
      "outputs": [
        {
          "output_type": "stream",
          "text": [
            "Downloading data from https://storage.googleapis.com/tensorflow/keras-applications/vgg19/vgg19_weights_tf_dim_ordering_tf_kernels_notop.h5\n",
            "80142336/80134624 [==============================] - 1s 0us/step\n",
            "Model: \"vgg19\"\n",
            "_________________________________________________________________\n",
            "Layer (type)                 Output Shape              Param #   \n",
            "=================================================================\n",
            "input_1 (InputLayer)         [(None, 48, 48, 3)]       0         \n",
            "_________________________________________________________________\n",
            "block1_conv1 (Conv2D)        (None, 48, 48, 64)        1792      \n",
            "_________________________________________________________________\n",
            "block1_conv2 (Conv2D)        (None, 48, 48, 64)        36928     \n",
            "_________________________________________________________________\n",
            "block1_pool (MaxPooling2D)   (None, 24, 24, 64)        0         \n",
            "_________________________________________________________________\n",
            "block2_conv1 (Conv2D)        (None, 24, 24, 128)       73856     \n",
            "_________________________________________________________________\n",
            "block2_conv2 (Conv2D)        (None, 24, 24, 128)       147584    \n",
            "_________________________________________________________________\n",
            "block2_pool (MaxPooling2D)   (None, 12, 12, 128)       0         \n",
            "_________________________________________________________________\n",
            "block3_conv1 (Conv2D)        (None, 12, 12, 256)       295168    \n",
            "_________________________________________________________________\n",
            "block3_conv2 (Conv2D)        (None, 12, 12, 256)       590080    \n",
            "_________________________________________________________________\n",
            "block3_conv3 (Conv2D)        (None, 12, 12, 256)       590080    \n",
            "_________________________________________________________________\n",
            "block3_conv4 (Conv2D)        (None, 12, 12, 256)       590080    \n",
            "_________________________________________________________________\n",
            "block3_pool (MaxPooling2D)   (None, 6, 6, 256)         0         \n",
            "_________________________________________________________________\n",
            "block4_conv1 (Conv2D)        (None, 6, 6, 512)         1180160   \n",
            "_________________________________________________________________\n",
            "block4_conv2 (Conv2D)        (None, 6, 6, 512)         2359808   \n",
            "_________________________________________________________________\n",
            "block4_conv3 (Conv2D)        (None, 6, 6, 512)         2359808   \n",
            "_________________________________________________________________\n",
            "block4_conv4 (Conv2D)        (None, 6, 6, 512)         2359808   \n",
            "_________________________________________________________________\n",
            "block4_pool (MaxPooling2D)   (None, 3, 3, 512)         0         \n",
            "_________________________________________________________________\n",
            "block5_conv1 (Conv2D)        (None, 3, 3, 512)         2359808   \n",
            "_________________________________________________________________\n",
            "block5_conv2 (Conv2D)        (None, 3, 3, 512)         2359808   \n",
            "_________________________________________________________________\n",
            "block5_conv3 (Conv2D)        (None, 3, 3, 512)         2359808   \n",
            "_________________________________________________________________\n",
            "block5_conv4 (Conv2D)        (None, 3, 3, 512)         2359808   \n",
            "_________________________________________________________________\n",
            "block5_pool (MaxPooling2D)   (None, 1, 1, 512)         0         \n",
            "_________________________________________________________________\n",
            "global_average_pooling2d (Gl (None, 512)               0         \n",
            "=================================================================\n",
            "Total params: 20,024,384\n",
            "Trainable params: 20,024,384\n",
            "Non-trainable params: 0\n",
            "_________________________________________________________________\n"
          ],
          "name": "stdout"
        }
      ]
    },
    {
      "cell_type": "code",
      "metadata": {
        "id": "9NMiD2nWy5ul"
      },
      "source": [
        "model_vgg19 = Sequential()\n",
        "model_vgg19.add(vgg19)\n",
        "model_vgg19.add(keras.layers.Flatten())\n",
        "model_vgg19.add(Dense(512, activation='relu'))\n",
        "model_vgg19.add(Dropout(0.6))\n",
        "model_vgg19.add(Dense(7, activation = 'softmax'))\n",
        "\n",
        "for layer in vgg19.layers[:-10]:\n",
        "        layer.trainable = False"
      ],
      "execution_count": null,
      "outputs": []
    },
    {
      "cell_type": "code",
      "metadata": {
        "colab": {
          "base_uri": "https://localhost:8080/"
        },
        "id": "bKQAIGK3zVZK",
        "outputId": "f9a4c9d8-c8b0-42e3-b8bd-170902d8add9"
      },
      "source": [
        "adam = Adam(lr=0.0001)\n",
        "model_vgg19.compile(optimizer = adam, loss = 'sparse_categorical_crossentropy', metrics = ['accuracy'])\n",
        "# cb_checkpointer_vgg = ModelCheckpoint(filepath = '../best_vgg.h5', monitor = 'val_loss', save_best_only = True)\n",
        "fit_history = model_vgg19.fit(train_generator, epochs = 20, validation_data=validation_generator)"
      ],
      "execution_count": null,
      "outputs": [
        {
          "output_type": "stream",
          "text": [
            "Epoch 1/20\n",
            "460/460 [==============================] - 3484s 8s/step - loss: 1.5128 - accuracy: 0.4123 - val_loss: 1.3334 - val_accuracy: 0.4940\n",
            "Epoch 2/20\n",
            "460/460 [==============================] - 42s 91ms/step - loss: 1.3215 - accuracy: 0.5044 - val_loss: 1.3094 - val_accuracy: 0.5125\n",
            "Epoch 3/20\n",
            "460/460 [==============================] - 42s 91ms/step - loss: 1.2045 - accuracy: 0.5577 - val_loss: 1.1915 - val_accuracy: 0.5555\n",
            "Epoch 4/20\n",
            "460/460 [==============================] - 41s 89ms/step - loss: 1.0438 - accuracy: 0.6212 - val_loss: 1.1847 - val_accuracy: 0.5586\n",
            "Epoch 5/20\n",
            "460/460 [==============================] - 42s 91ms/step - loss: 0.8949 - accuracy: 0.6808 - val_loss: 1.2192 - val_accuracy: 0.5678\n",
            "Epoch 6/20\n",
            "460/460 [==============================] - 41s 89ms/step - loss: 0.7259 - accuracy: 0.7505 - val_loss: 1.2598 - val_accuracy: 0.5671\n",
            "Epoch 7/20\n",
            "460/460 [==============================] - 41s 90ms/step - loss: 0.5336 - accuracy: 0.8232 - val_loss: 1.3421 - val_accuracy: 0.5774\n",
            "Epoch 8/20\n",
            "460/460 [==============================] - 41s 89ms/step - loss: 0.3955 - accuracy: 0.8720 - val_loss: 1.5474 - val_accuracy: 0.5786\n",
            "Epoch 9/20\n",
            "460/460 [==============================] - 41s 89ms/step - loss: 0.2912 - accuracy: 0.9025 - val_loss: 1.7603 - val_accuracy: 0.5642\n",
            "Epoch 10/20\n",
            "460/460 [==============================] - 42s 90ms/step - loss: 0.2231 - accuracy: 0.9284 - val_loss: 2.0166 - val_accuracy: 0.5687\n",
            "Epoch 11/20\n",
            "460/460 [==============================] - 41s 90ms/step - loss: 0.1724 - accuracy: 0.9424 - val_loss: 1.8904 - val_accuracy: 0.5771\n",
            "Epoch 12/20\n",
            "460/460 [==============================] - 41s 90ms/step - loss: 0.1454 - accuracy: 0.9516 - val_loss: 1.9038 - val_accuracy: 0.5755\n",
            "Epoch 13/20\n",
            "460/460 [==============================] - 41s 90ms/step - loss: 0.1078 - accuracy: 0.9651 - val_loss: 2.0793 - val_accuracy: 0.5785\n",
            "Epoch 14/20\n",
            "460/460 [==============================] - 42s 90ms/step - loss: 0.1147 - accuracy: 0.9651 - val_loss: 1.9737 - val_accuracy: 0.5799\n",
            "Epoch 15/20\n",
            "460/460 [==============================] - 42s 90ms/step - loss: 0.0934 - accuracy: 0.9716 - val_loss: 2.2300 - val_accuracy: 0.5712\n",
            "Epoch 16/20\n",
            "460/460 [==============================] - 42s 90ms/step - loss: 0.0897 - accuracy: 0.9715 - val_loss: 2.1421 - val_accuracy: 0.5752\n",
            "Epoch 17/20\n",
            "460/460 [==============================] - 42s 91ms/step - loss: 0.0711 - accuracy: 0.9764 - val_loss: 2.3398 - val_accuracy: 0.5825\n",
            "Epoch 18/20\n",
            "460/460 [==============================] - 42s 91ms/step - loss: 0.0902 - accuracy: 0.9707 - val_loss: 2.3091 - val_accuracy: 0.5701\n",
            "Epoch 19/20\n",
            "460/460 [==============================] - 42s 92ms/step - loss: 0.0738 - accuracy: 0.9749 - val_loss: 2.4976 - val_accuracy: 0.5649\n",
            "Epoch 20/20\n",
            "460/460 [==============================] - 42s 91ms/step - loss: 0.0784 - accuracy: 0.9753 - val_loss: 2.3747 - val_accuracy: 0.5692\n"
          ],
          "name": "stdout"
        }
      ]
    },
    {
      "cell_type": "code",
      "metadata": {
        "colab": {
          "base_uri": "https://localhost:8080/",
          "height": 573
        },
        "id": "fxIshtqe4qac",
        "outputId": "af756b96-923d-4e28-f86d-6facaeea05e2"
      },
      "source": [
        "plotting_epochs(fit_history.history['accuracy'], fit_history.history['val_accuracy'], \"Accuracy\")\n",
        "plotting_epochs(fit_history.history['loss'], fit_history.history['val_loss'], \"Loss\")"
      ],
      "execution_count": null,
      "outputs": [
        {
          "output_type": "display_data",
          "data": {
            "image/png": "[encoded data removed]",
            "text/plain": [
              "<Figure size 432x288 with 1 Axes>"
            ]
          },
          "metadata": {
            "tags": [],
            "needs_background": "light"
          }
        },
        {
          "output_type": "display_data",
          "data": {
            "image/png": "[encoded data removed]",
            "text/plain": [
              "<Figure size 432x288 with 1 Axes>"
            ]
          },
          "metadata": {
            "tags": [],
            "needs_background": "light"
          }
        }
      ]
    },
    {
      "cell_type": "markdown",
      "metadata": {
        "id": "A1q7hfkfFBiV"
      },
      "source": [
        "# Resnet50"
      ]
    },
    {
      "cell_type": "code",
      "metadata": {
        "colab": {
          "base_uri": "https://localhost:8080/"
        },
        "id": "WLSLxTlF9oKe",
        "outputId": "67328fbd-5b26-47ac-8a0c-70e27a9d0dcc"
      },
      "source": [
        "from keras.applications.resnet50 import ResNet50\n",
        "res = ResNet50(include_top=False,input_shape=(48, 48, 3),weights='imagenet', pooling='avg', classes=7)\n",
        "res.summary()"
      ],
      "execution_count": null,
      "outputs": [
        {
          "output_type": "stream",
          "text": [
            "Model: \"resnet50\"\n",
            "__________________________________________________________________________________________________\n",
            "Layer (type)                    Output Shape         Param #     Connected to                     \n",
            "==================================================================================================\n",
            "input_1 (InputLayer)            [(None, 48, 48, 3)]  0                                            \n",
            "__________________________________________________________________________________________________\n",
            "conv1_pad (ZeroPadding2D)       (None, 54, 54, 3)    0           input_1[0][0]                    \n",
            "__________________________________________________________________________________________________\n",
            "conv1_conv (Conv2D)             (None, 24, 24, 64)   9472        conv1_pad[0][0]                  \n",
            "__________________________________________________________________________________________________\n",
            "conv1_bn (BatchNormalization)   (None, 24, 24, 64)   256         conv1_conv[0][0]                 \n",
            "__________________________________________________________________________________________________\n",
            "conv1_relu (Activation)         (None, 24, 24, 64)   0           conv1_bn[0][0]                   \n",
            "__________________________________________________________________________________________________\n",
            "pool1_pad (ZeroPadding2D)       (None, 26, 26, 64)   0           conv1_relu[0][0]                 \n",
            "__________________________________________________________________________________________________\n",
            "pool1_pool (MaxPooling2D)       (None, 12, 12, 64)   0           pool1_pad[0][0]                  \n",
            "__________________________________________________________________________________________________\n",
            "conv2_block1_1_conv (Conv2D)    (None, 12, 12, 64)   4160        pool1_pool[0][0]                 \n",
            "__________________________________________________________________________________________________\n",
            "conv2_block1_1_bn (BatchNormali (None, 12, 12, 64)   256         conv2_block1_1_conv[0][0]        \n",
            "__________________________________________________________________________________________________\n",
            "conv2_block1_1_relu (Activation (None, 12, 12, 64)   0           conv2_block1_1_bn[0][0]          \n",
            "__________________________________________________________________________________________________\n",
            "conv2_block1_2_conv (Conv2D)    (None, 12, 12, 64)   36928       conv2_block1_1_relu[0][0]        \n",
            "__________________________________________________________________________________________________\n",
            "conv2_block1_2_bn (BatchNormali (None, 12, 12, 64)   256         conv2_block1_2_conv[0][0]        \n",
            "__________________________________________________________________________________________________\n",
            "conv2_block1_2_relu (Activation (None, 12, 12, 64)   0           conv2_block1_2_bn[0][0]          \n",
            "__________________________________________________________________________________________________\n",
            "conv2_block1_0_conv (Conv2D)    (None, 12, 12, 256)  16640       pool1_pool[0][0]                 \n",
            "__________________________________________________________________________________________________\n",
            "conv2_block1_3_conv (Conv2D)    (None, 12, 12, 256)  16640       conv2_block1_2_relu[0][0]        \n",
            "__________________________________________________________________________________________________\n",
            "conv2_block1_0_bn (BatchNormali (None, 12, 12, 256)  1024        conv2_block1_0_conv[0][0]        \n",
            "__________________________________________________________________________________________________\n",
            "conv2_block1_3_bn (BatchNormali (None, 12, 12, 256)  1024        conv2_block1_3_conv[0][0]        \n",
            "__________________________________________________________________________________________________\n",
            "conv2_block1_add (Add)          (None, 12, 12, 256)  0           conv2_block1_0_bn[0][0]          \n",
            "                                                                 conv2_block1_3_bn[0][0]          \n",
            "__________________________________________________________________________________________________\n",
            "conv2_block1_out (Activation)   (None, 12, 12, 256)  0           conv2_block1_add[0][0]           \n",
            "__________________________________________________________________________________________________\n",
            "conv2_block2_1_conv (Conv2D)    (None, 12, 12, 64)   16448       conv2_block1_out[0][0]           \n",
            "__________________________________________________________________________________________________\n",
            "conv2_block2_1_bn (BatchNormali (None, 12, 12, 64)   256         conv2_block2_1_conv[0][0]        \n",
            "__________________________________________________________________________________________________\n",
            "conv2_block2_1_relu (Activation (None, 12, 12, 64)   0           conv2_block2_1_bn[0][0]          \n",
            "__________________________________________________________________________________________________\n",
            "conv2_block2_2_conv (Conv2D)    (None, 12, 12, 64)   36928       conv2_block2_1_relu[0][0]        \n",
            "__________________________________________________________________________________________________\n",
            "conv2_block2_2_bn (BatchNormali (None, 12, 12, 64)   256         conv2_block2_2_conv[0][0]        \n",
            "__________________________________________________________________________________________________\n",
            "conv2_block2_2_relu (Activation (None, 12, 12, 64)   0           conv2_block2_2_bn[0][0]          \n",
            "__________________________________________________________________________________________________\n",
            "conv2_block2_3_conv (Conv2D)    (None, 12, 12, 256)  16640       conv2_block2_2_relu[0][0]        \n",
            "__________________________________________________________________________________________________\n",
            "conv2_block2_3_bn (BatchNormali (None, 12, 12, 256)  1024        conv2_block2_3_conv[0][0]        \n",
            "__________________________________________________________________________________________________\n",
            "conv2_block2_add (Add)          (None, 12, 12, 256)  0           conv2_block1_out[0][0]           \n",
            "                                                                 conv2_block2_3_bn[0][0]          \n",
            "__________________________________________________________________________________________________\n",
            "conv2_block2_out (Activation)   (None, 12, 12, 256)  0           conv2_block2_add[0][0]           \n",
            "__________________________________________________________________________________________________\n",
            "conv2_block3_1_conv (Conv2D)    (None, 12, 12, 64)   16448       conv2_block2_out[0][0]           \n",
            "__________________________________________________________________________________________________\n",
            "conv2_block3_1_bn (BatchNormali (None, 12, 12, 64)   256         conv2_block3_1_conv[0][0]        \n",
            "__________________________________________________________________________________________________\n",
            "conv2_block3_1_relu (Activation (None, 12, 12, 64)   0           conv2_block3_1_bn[0][0]          \n",
            "__________________________________________________________________________________________________\n",
            "conv2_block3_2_conv (Conv2D)    (None, 12, 12, 64)   36928       conv2_block3_1_relu[0][0]        \n",
            "__________________________________________________________________________________________________\n",
            "conv2_block3_2_bn (BatchNormali (None, 12, 12, 64)   256         conv2_block3_2_conv[0][0]        \n",
            "__________________________________________________________________________________________________\n",
            "conv2_block3_2_relu (Activation (None, 12, 12, 64)   0           conv2_block3_2_bn[0][0]          \n",
            "__________________________________________________________________________________________________\n",
            "conv2_block3_3_conv (Conv2D)    (None, 12, 12, 256)  16640       conv2_block3_2_relu[0][0]        \n",
            "__________________________________________________________________________________________________\n",
            "conv2_block3_3_bn (BatchNormali (None, 12, 12, 256)  1024        conv2_block3_3_conv[0][0]        \n",
            "__________________________________________________________________________________________________\n",
            "conv2_block3_add (Add)          (None, 12, 12, 256)  0           conv2_block2_out[0][0]           \n",
            "                                                                 conv2_block3_3_bn[0][0]          \n",
            "__________________________________________________________________________________________________\n",
            "conv2_block3_out (Activation)   (None, 12, 12, 256)  0           conv2_block3_add[0][0]           \n",
            "__________________________________________________________________________________________________\n",
            "conv3_block1_1_conv (Conv2D)    (None, 6, 6, 128)    32896       conv2_block3_out[0][0]           \n",
            "__________________________________________________________________________________________________\n",
            "conv3_block1_1_bn (BatchNormali (None, 6, 6, 128)    512         conv3_block1_1_conv[0][0]        \n",
            "__________________________________________________________________________________________________\n",
            "conv3_block1_1_relu (Activation (None, 6, 6, 128)    0           conv3_block1_1_bn[0][0]          \n",
            "__________________________________________________________________________________________________\n",
            "conv3_block1_2_conv (Conv2D)    (None, 6, 6, 128)    147584      conv3_block1_1_relu[0][0]        \n",
            "__________________________________________________________________________________________________\n",
            "conv3_block1_2_bn (BatchNormali (None, 6, 6, 128)    512         conv3_block1_2_conv[0][0]        \n",
            "__________________________________________________________________________________________________\n",
            "conv3_block1_2_relu (Activation (None, 6, 6, 128)    0           conv3_block1_2_bn[0][0]          \n",
            "__________________________________________________________________________________________________\n",
            "conv3_block1_0_conv (Conv2D)    (None, 6, 6, 512)    131584      conv2_block3_out[0][0]           \n",
            "__________________________________________________________________________________________________\n",
            "conv3_block1_3_conv (Conv2D)    (None, 6, 6, 512)    66048       conv3_block1_2_relu[0][0]        \n",
            "__________________________________________________________________________________________________\n",
            "conv3_block1_0_bn (BatchNormali (None, 6, 6, 512)    2048        conv3_block1_0_conv[0][0]        \n",
            "__________________________________________________________________________________________________\n",
            "conv3_block1_3_bn (BatchNormali (None, 6, 6, 512)    2048        conv3_block1_3_conv[0][0]        \n",
            "__________________________________________________________________________________________________\n",
            "conv3_block1_add (Add)          (None, 6, 6, 512)    0           conv3_block1_0_bn[0][0]          \n",
            "                                                                 conv3_block1_3_bn[0][0]          \n",
            "__________________________________________________________________________________________________\n",
            "conv3_block1_out (Activation)   (None, 6, 6, 512)    0           conv3_block1_add[0][0]           \n",
            "__________________________________________________________________________________________________\n",
            "conv3_block2_1_conv (Conv2D)    (None, 6, 6, 128)    65664       conv3_block1_out[0][0]           \n",
            "__________________________________________________________________________________________________\n",
            "conv3_block2_1_bn (BatchNormali (None, 6, 6, 128)    512         conv3_block2_1_conv[0][0]        \n",
            "__________________________________________________________________________________________________\n",
            "conv3_block2_1_relu (Activation (None, 6, 6, 128)    0           conv3_block2_1_bn[0][0]          \n",
            "__________________________________________________________________________________________________\n",
            "conv3_block2_2_conv (Conv2D)    (None, 6, 6, 128)    147584      conv3_block2_1_relu[0][0]        \n",
            "__________________________________________________________________________________________________\n",
            "conv3_block2_2_bn (BatchNormali (None, 6, 6, 128)    512         conv3_block2_2_conv[0][0]        \n",
            "__________________________________________________________________________________________________\n",
            "conv3_block2_2_relu (Activation (None, 6, 6, 128)    0           conv3_block2_2_bn[0][0]          \n",
            "__________________________________________________________________________________________________\n",
            "conv3_block2_3_conv (Conv2D)    (None, 6, 6, 512)    66048       conv3_block2_2_relu[0][0]        \n",
            "__________________________________________________________________________________________________\n",
            "conv3_block2_3_bn (BatchNormali (None, 6, 6, 512)    2048        conv3_block2_3_conv[0][0]        \n",
            "__________________________________________________________________________________________________\n",
            "conv3_block2_add (Add)          (None, 6, 6, 512)    0           conv3_block1_out[0][0]           \n",
            "                                                                 conv3_block2_3_bn[0][0]          \n",
            "__________________________________________________________________________________________________\n",
            "conv3_block2_out (Activation)   (None, 6, 6, 512)    0           conv3_block2_add[0][0]           \n",
            "__________________________________________________________________________________________________\n",
            "conv3_block3_1_conv (Conv2D)    (None, 6, 6, 128)    65664       conv3_block2_out[0][0]           \n",
            "__________________________________________________________________________________________________\n",
            "conv3_block3_1_bn (BatchNormali (None, 6, 6, 128)    512         conv3_block3_1_conv[0][0]        \n",
            "__________________________________________________________________________________________________\n",
            "conv3_block3_1_relu (Activation (None, 6, 6, 128)    0           conv3_block3_1_bn[0][0]          \n",
            "__________________________________________________________________________________________________\n",
            "conv3_block3_2_conv (Conv2D)    (None, 6, 6, 128)    147584      conv3_block3_1_relu[0][0]        \n",
            "__________________________________________________________________________________________________\n",
            "conv3_block3_2_bn (BatchNormali (None, 6, 6, 128)    512         conv3_block3_2_conv[0][0]        \n",
            "__________________________________________________________________________________________________\n",
            "conv3_block3_2_relu (Activation (None, 6, 6, 128)    0           conv3_block3_2_bn[0][0]          \n",
            "__________________________________________________________________________________________________\n",
            "conv3_block3_3_conv (Conv2D)    (None, 6, 6, 512)    66048       conv3_block3_2_relu[0][0]        \n",
            "__________________________________________________________________________________________________\n",
            "conv3_block3_3_bn (BatchNormali (None, 6, 6, 512)    2048        conv3_block3_3_conv[0][0]        \n",
            "__________________________________________________________________________________________________\n",
            "conv3_block3_add (Add)          (None, 6, 6, 512)    0           conv3_block2_out[0][0]           \n",
            "                                                                 conv3_block3_3_bn[0][0]          \n",
            "__________________________________________________________________________________________________\n",
            "conv3_block3_out (Activation)   (None, 6, 6, 512)    0           conv3_block3_add[0][0]           \n",
            "__________________________________________________________________________________________________\n",
            "conv3_block4_1_conv (Conv2D)    (None, 6, 6, 128)    65664       conv3_block3_out[0][0]           \n",
            "__________________________________________________________________________________________________\n",
            "conv3_block4_1_bn (BatchNormali (None, 6, 6, 128)    512         conv3_block4_1_conv[0][0]        \n",
            "__________________________________________________________________________________________________\n",
            "conv3_block4_1_relu (Activation (None, 6, 6, 128)    0           conv3_block4_1_bn[0][0]          \n",
            "__________________________________________________________________________________________________\n",
            "conv3_block4_2_conv (Conv2D)    (None, 6, 6, 128)    147584      conv3_block4_1_relu[0][0]        \n",
            "__________________________________________________________________________________________________\n",
            "conv3_block4_2_bn (BatchNormali (None, 6, 6, 128)    512         conv3_block4_2_conv[0][0]        \n",
            "__________________________________________________________________________________________________\n",
            "conv3_block4_2_relu (Activation (None, 6, 6, 128)    0           conv3_block4_2_bn[0][0]          \n",
            "__________________________________________________________________________________________________\n",
            "conv3_block4_3_conv (Conv2D)    (None, 6, 6, 512)    66048       conv3_block4_2_relu[0][0]        \n",
            "__________________________________________________________________________________________________\n",
            "conv3_block4_3_bn (BatchNormali (None, 6, 6, 512)    2048        conv3_block4_3_conv[0][0]        \n",
            "__________________________________________________________________________________________________\n",
            "conv3_block4_add (Add)          (None, 6, 6, 512)    0           conv3_block3_out[0][0]           \n",
            "                                                                 conv3_block4_3_bn[0][0]          \n",
            "__________________________________________________________________________________________________\n",
            "conv3_block4_out (Activation)   (None, 6, 6, 512)    0           conv3_block4_add[0][0]           \n",
            "__________________________________________________________________________________________________\n",
            "conv4_block1_1_conv (Conv2D)    (None, 3, 3, 256)    131328      conv3_block4_out[0][0]           \n",
            "__________________________________________________________________________________________________\n",
            "conv4_block1_1_bn (BatchNormali (None, 3, 3, 256)    1024        conv4_block1_1_conv[0][0]        \n",
            "__________________________________________________________________________________________________\n",
            "conv4_block1_1_relu (Activation (None, 3, 3, 256)    0           conv4_block1_1_bn[0][0]          \n",
            "__________________________________________________________________________________________________\n",
            "conv4_block1_2_conv (Conv2D)    (None, 3, 3, 256)    590080      conv4_block1_1_relu[0][0]        \n",
            "__________________________________________________________________________________________________\n",
            "conv4_block1_2_bn (BatchNormali (None, 3, 3, 256)    1024        conv4_block1_2_conv[0][0]        \n",
            "__________________________________________________________________________________________________\n",
            "conv4_block1_2_relu (Activation (None, 3, 3, 256)    0           conv4_block1_2_bn[0][0]          \n",
            "__________________________________________________________________________________________________\n",
            "conv4_block1_0_conv (Conv2D)    (None, 3, 3, 1024)   525312      conv3_block4_out[0][0]           \n",
            "__________________________________________________________________________________________________\n",
            "conv4_block1_3_conv (Conv2D)    (None, 3, 3, 1024)   263168      conv4_block1_2_relu[0][0]        \n",
            "__________________________________________________________________________________________________\n",
            "conv4_block1_0_bn (BatchNormali (None, 3, 3, 1024)   4096        conv4_block1_0_conv[0][0]        \n",
            "__________________________________________________________________________________________________\n",
            "conv4_block1_3_bn (BatchNormali (None, 3, 3, 1024)   4096        conv4_block1_3_conv[0][0]        \n",
            "__________________________________________________________________________________________________\n",
            "conv4_block1_add (Add)          (None, 3, 3, 1024)   0           conv4_block1_0_bn[0][0]          \n",
            "                                                                 conv4_block1_3_bn[0][0]          \n",
            "__________________________________________________________________________________________________\n",
            "conv4_block1_out (Activation)   (None, 3, 3, 1024)   0           conv4_block1_add[0][0]           \n",
            "__________________________________________________________________________________________________\n",
            "conv4_block2_1_conv (Conv2D)    (None, 3, 3, 256)    262400      conv4_block1_out[0][0]           \n",
            "__________________________________________________________________________________________________\n",
            "conv4_block2_1_bn (BatchNormali (None, 3, 3, 256)    1024        conv4_block2_1_conv[0][0]        \n",
            "__________________________________________________________________________________________________\n",
            "conv4_block2_1_relu (Activation (None, 3, 3, 256)    0           conv4_block2_1_bn[0][0]          \n",
            "__________________________________________________________________________________________________\n",
            "conv4_block2_2_conv (Conv2D)    (None, 3, 3, 256)    590080      conv4_block2_1_relu[0][0]        \n",
            "__________________________________________________________________________________________________\n",
            "conv4_block2_2_bn (BatchNormali (None, 3, 3, 256)    1024        conv4_block2_2_conv[0][0]        \n",
            "__________________________________________________________________________________________________\n",
            "conv4_block2_2_relu (Activation (None, 3, 3, 256)    0           conv4_block2_2_bn[0][0]          \n",
            "__________________________________________________________________________________________________\n",
            "conv4_block2_3_conv (Conv2D)    (None, 3, 3, 1024)   263168      conv4_block2_2_relu[0][0]        \n",
            "__________________________________________________________________________________________________\n",
            "conv4_block2_3_bn (BatchNormali (None, 3, 3, 1024)   4096        conv4_block2_3_conv[0][0]        \n",
            "__________________________________________________________________________________________________\n",
            "conv4_block2_add (Add)          (None, 3, 3, 1024)   0           conv4_block1_out[0][0]           \n",
            "                                                                 conv4_block2_3_bn[0][0]          \n",
            "__________________________________________________________________________________________________\n",
            "conv4_block2_out (Activation)   (None, 3, 3, 1024)   0           conv4_block2_add[0][0]           \n",
            "__________________________________________________________________________________________________\n",
            "conv4_block3_1_conv (Conv2D)    (None, 3, 3, 256)    262400      conv4_block2_out[0][0]           \n",
            "__________________________________________________________________________________________________\n",
            "conv4_block3_1_bn (BatchNormali (None, 3, 3, 256)    1024        conv4_block3_1_conv[0][0]        \n",
            "__________________________________________________________________________________________________\n",
            "conv4_block3_1_relu (Activation (None, 3, 3, 256)    0           conv4_block3_1_bn[0][0]          \n",
            "__________________________________________________________________________________________________\n",
            "conv4_block3_2_conv (Conv2D)    (None, 3, 3, 256)    590080      conv4_block3_1_relu[0][0]        \n",
            "__________________________________________________________________________________________________\n",
            "conv4_block3_2_bn (BatchNormali (None, 3, 3, 256)    1024        conv4_block3_2_conv[0][0]        \n",
            "__________________________________________________________________________________________________\n",
            "conv4_block3_2_relu (Activation (None, 3, 3, 256)    0           conv4_block3_2_bn[0][0]          \n",
            "__________________________________________________________________________________________________\n",
            "conv4_block3_3_conv (Conv2D)    (None, 3, 3, 1024)   263168      conv4_block3_2_relu[0][0]        \n",
            "__________________________________________________________________________________________________\n",
            "conv4_block3_3_bn (BatchNormali (None, 3, 3, 1024)   4096        conv4_block3_3_conv[0][0]        \n",
            "__________________________________________________________________________________________________\n",
            "conv4_block3_add (Add)          (None, 3, 3, 1024)   0           conv4_block2_out[0][0]           \n",
            "                                                                 conv4_block3_3_bn[0][0]          \n",
            "__________________________________________________________________________________________________\n",
            "conv4_block3_out (Activation)   (None, 3, 3, 1024)   0           conv4_block3_add[0][0]           \n",
            "__________________________________________________________________________________________________\n",
            "conv4_block4_1_conv (Conv2D)    (None, 3, 3, 256)    262400      conv4_block3_out[0][0]           \n",
            "__________________________________________________________________________________________________\n",
            "conv4_block4_1_bn (BatchNormali (None, 3, 3, 256)    1024        conv4_block4_1_conv[0][0]        \n",
            "__________________________________________________________________________________________________\n",
            "conv4_block4_1_relu (Activation (None, 3, 3, 256)    0           conv4_block4_1_bn[0][0]          \n",
            "__________________________________________________________________________________________________\n",
            "conv4_block4_2_conv (Conv2D)    (None, 3, 3, 256)    590080      conv4_block4_1_relu[0][0]        \n",
            "__________________________________________________________________________________________________\n",
            "conv4_block4_2_bn (BatchNormali (None, 3, 3, 256)    1024        conv4_block4_2_conv[0][0]        \n",
            "__________________________________________________________________________________________________\n",
            "conv4_block4_2_relu (Activation (None, 3, 3, 256)    0           conv4_block4_2_bn[0][0]          \n",
            "__________________________________________________________________________________________________\n",
            "conv4_block4_3_conv (Conv2D)    (None, 3, 3, 1024)   263168      conv4_block4_2_relu[0][0]        \n",
            "__________________________________________________________________________________________________\n",
            "conv4_block4_3_bn (BatchNormali (None, 3, 3, 1024)   4096        conv4_block4_3_conv[0][0]        \n",
            "__________________________________________________________________________________________________\n",
            "conv4_block4_add (Add)          (None, 3, 3, 1024)   0           conv4_block3_out[0][0]           \n",
            "                                                                 conv4_block4_3_bn[0][0]          \n",
            "__________________________________________________________________________________________________\n",
            "conv4_block4_out (Activation)   (None, 3, 3, 1024)   0           conv4_block4_add[0][0]           \n",
            "__________________________________________________________________________________________________\n",
            "conv4_block5_1_conv (Conv2D)    (None, 3, 3, 256)    262400      conv4_block4_out[0][0]           \n",
            "__________________________________________________________________________________________________\n",
            "conv4_block5_1_bn (BatchNormali (None, 3, 3, 256)    1024        conv4_block5_1_conv[0][0]        \n",
            "__________________________________________________________________________________________________\n",
            "conv4_block5_1_relu (Activation (None, 3, 3, 256)    0           conv4_block5_1_bn[0][0]          \n",
            "__________________________________________________________________________________________________\n",
            "conv4_block5_2_conv (Conv2D)    (None, 3, 3, 256)    590080      conv4_block5_1_relu[0][0]        \n",
            "__________________________________________________________________________________________________\n",
            "conv4_block5_2_bn (BatchNormali (None, 3, 3, 256)    1024        conv4_block5_2_conv[0][0]        \n",
            "__________________________________________________________________________________________________\n",
            "conv4_block5_2_relu (Activation (None, 3, 3, 256)    0           conv4_block5_2_bn[0][0]          \n",
            "__________________________________________________________________________________________________\n",
            "conv4_block5_3_conv (Conv2D)    (None, 3, 3, 1024)   263168      conv4_block5_2_relu[0][0]        \n",
            "__________________________________________________________________________________________________\n",
            "conv4_block5_3_bn (BatchNormali (None, 3, 3, 1024)   4096        conv4_block5_3_conv[0][0]        \n",
            "__________________________________________________________________________________________________\n",
            "conv4_block5_add (Add)          (None, 3, 3, 1024)   0           conv4_block4_out[0][0]           \n",
            "                                                                 conv4_block5_3_bn[0][0]          \n",
            "__________________________________________________________________________________________________\n",
            "conv4_block5_out (Activation)   (None, 3, 3, 1024)   0           conv4_block5_add[0][0]           \n",
            "__________________________________________________________________________________________________\n",
            "conv4_block6_1_conv (Conv2D)    (None, 3, 3, 256)    262400      conv4_block5_out[0][0]           \n",
            "__________________________________________________________________________________________________\n",
            "conv4_block6_1_bn (BatchNormali (None, 3, 3, 256)    1024        conv4_block6_1_conv[0][0]        \n",
            "__________________________________________________________________________________________________\n",
            "conv4_block6_1_relu (Activation (None, 3, 3, 256)    0           conv4_block6_1_bn[0][0]          \n",
            "__________________________________________________________________________________________________\n",
            "conv4_block6_2_conv (Conv2D)    (None, 3, 3, 256)    590080      conv4_block6_1_relu[0][0]        \n",
            "__________________________________________________________________________________________________\n",
            "conv4_block6_2_bn (BatchNormali (None, 3, 3, 256)    1024        conv4_block6_2_conv[0][0]        \n",
            "__________________________________________________________________________________________________\n",
            "conv4_block6_2_relu (Activation (None, 3, 3, 256)    0           conv4_block6_2_bn[0][0]          \n",
            "__________________________________________________________________________________________________\n",
            "conv4_block6_3_conv (Conv2D)    (None, 3, 3, 1024)   263168      conv4_block6_2_relu[0][0]        \n",
            "__________________________________________________________________________________________________\n",
            "conv4_block6_3_bn (BatchNormali (None, 3, 3, 1024)   4096        conv4_block6_3_conv[0][0]        \n",
            "__________________________________________________________________________________________________\n",
            "conv4_block6_add (Add)          (None, 3, 3, 1024)   0           conv4_block5_out[0][0]           \n",
            "                                                                 conv4_block6_3_bn[0][0]          \n",
            "__________________________________________________________________________________________________\n",
            "conv4_block6_out (Activation)   (None, 3, 3, 1024)   0           conv4_block6_add[0][0]           \n",
            "__________________________________________________________________________________________________\n",
            "conv5_block1_1_conv (Conv2D)    (None, 2, 2, 512)    524800      conv4_block6_out[0][0]           \n",
            "__________________________________________________________________________________________________\n",
            "conv5_block1_1_bn (BatchNormali (None, 2, 2, 512)    2048        conv5_block1_1_conv[0][0]        \n",
            "__________________________________________________________________________________________________\n",
            "conv5_block1_1_relu (Activation (None, 2, 2, 512)    0           conv5_block1_1_bn[0][0]          \n",
            "__________________________________________________________________________________________________\n",
            "conv5_block1_2_conv (Conv2D)    (None, 2, 2, 512)    2359808     conv5_block1_1_relu[0][0]        \n",
            "__________________________________________________________________________________________________\n",
            "conv5_block1_2_bn (BatchNormali (None, 2, 2, 512)    2048        conv5_block1_2_conv[0][0]        \n",
            "__________________________________________________________________________________________________\n",
            "conv5_block1_2_relu (Activation (None, 2, 2, 512)    0           conv5_block1_2_bn[0][0]          \n",
            "__________________________________________________________________________________________________\n",
            "conv5_block1_0_conv (Conv2D)    (None, 2, 2, 2048)   2099200     conv4_block6_out[0][0]           \n",
            "__________________________________________________________________________________________________\n",
            "conv5_block1_3_conv (Conv2D)    (None, 2, 2, 2048)   1050624     conv5_block1_2_relu[0][0]        \n",
            "__________________________________________________________________________________________________\n",
            "conv5_block1_0_bn (BatchNormali (None, 2, 2, 2048)   8192        conv5_block1_0_conv[0][0]        \n",
            "__________________________________________________________________________________________________\n",
            "conv5_block1_3_bn (BatchNormali (None, 2, 2, 2048)   8192        conv5_block1_3_conv[0][0]        \n",
            "__________________________________________________________________________________________________\n",
            "conv5_block1_add (Add)          (None, 2, 2, 2048)   0           conv5_block1_0_bn[0][0]          \n",
            "                                                                 conv5_block1_3_bn[0][0]          \n",
            "__________________________________________________________________________________________________\n",
            "conv5_block1_out (Activation)   (None, 2, 2, 2048)   0           conv5_block1_add[0][0]           \n",
            "__________________________________________________________________________________________________\n",
            "conv5_block2_1_conv (Conv2D)    (None, 2, 2, 512)    1049088     conv5_block1_out[0][0]           \n",
            "__________________________________________________________________________________________________\n",
            "conv5_block2_1_bn (BatchNormali (None, 2, 2, 512)    2048        conv5_block2_1_conv[0][0]        \n",
            "__________________________________________________________________________________________________\n",
            "conv5_block2_1_relu (Activation (None, 2, 2, 512)    0           conv5_block2_1_bn[0][0]          \n",
            "__________________________________________________________________________________________________\n",
            "conv5_block2_2_conv (Conv2D)    (None, 2, 2, 512)    2359808     conv5_block2_1_relu[0][0]        \n",
            "__________________________________________________________________________________________________\n",
            "conv5_block2_2_bn (BatchNormali (None, 2, 2, 512)    2048        conv5_block2_2_conv[0][0]        \n",
            "__________________________________________________________________________________________________\n",
            "conv5_block2_2_relu (Activation (None, 2, 2, 512)    0           conv5_block2_2_bn[0][0]          \n",
            "__________________________________________________________________________________________________\n",
            "conv5_block2_3_conv (Conv2D)    (None, 2, 2, 2048)   1050624     conv5_block2_2_relu[0][0]        \n",
            "__________________________________________________________________________________________________\n",
            "conv5_block2_3_bn (BatchNormali (None, 2, 2, 2048)   8192        conv5_block2_3_conv[0][0]        \n",
            "__________________________________________________________________________________________________\n",
            "conv5_block2_add (Add)          (None, 2, 2, 2048)   0           conv5_block1_out[0][0]           \n",
            "                                                                 conv5_block2_3_bn[0][0]          \n",
            "__________________________________________________________________________________________________\n",
            "conv5_block2_out (Activation)   (None, 2, 2, 2048)   0           conv5_block2_add[0][0]           \n",
            "__________________________________________________________________________________________________\n",
            "conv5_block3_1_conv (Conv2D)    (None, 2, 2, 512)    1049088     conv5_block2_out[0][0]           \n",
            "__________________________________________________________________________________________________\n",
            "conv5_block3_1_bn (BatchNormali (None, 2, 2, 512)    2048        conv5_block3_1_conv[0][0]        \n",
            "__________________________________________________________________________________________________\n",
            "conv5_block3_1_relu (Activation (None, 2, 2, 512)    0           conv5_block3_1_bn[0][0]          \n",
            "__________________________________________________________________________________________________\n",
            "conv5_block3_2_conv (Conv2D)    (None, 2, 2, 512)    2359808     conv5_block3_1_relu[0][0]        \n",
            "__________________________________________________________________________________________________\n",
            "conv5_block3_2_bn (BatchNormali (None, 2, 2, 512)    2048        conv5_block3_2_conv[0][0]        \n",
            "__________________________________________________________________________________________________\n",
            "conv5_block3_2_relu (Activation (None, 2, 2, 512)    0           conv5_block3_2_bn[0][0]          \n",
            "__________________________________________________________________________________________________\n",
            "conv5_block3_3_conv (Conv2D)    (None, 2, 2, 2048)   1050624     conv5_block3_2_relu[0][0]        \n",
            "__________________________________________________________________________________________________\n",
            "conv5_block3_3_bn (BatchNormali (None, 2, 2, 2048)   8192        conv5_block3_3_conv[0][0]        \n",
            "__________________________________________________________________________________________________\n",
            "conv5_block3_add (Add)          (None, 2, 2, 2048)   0           conv5_block2_out[0][0]           \n",
            "                                                                 conv5_block3_3_bn[0][0]          \n",
            "__________________________________________________________________________________________________\n",
            "conv5_block3_out (Activation)   (None, 2, 2, 2048)   0           conv5_block3_add[0][0]           \n",
            "__________________________________________________________________________________________________\n",
            "avg_pool (GlobalAveragePooling2 (None, 2048)         0           conv5_block3_out[0][0]           \n",
            "==================================================================================================\n",
            "Total params: 23,587,712\n",
            "Trainable params: 23,534,592\n",
            "Non-trainable params: 53,120\n",
            "__________________________________________________________________________________________________\n"
          ],
          "name": "stdout"
        }
      ]
    },
    {
      "cell_type": "code",
      "metadata": {
        "id": "Z0ZAbpocHeKU"
      },
      "source": [
        "model_res = Sequential()\n",
        "model_res.add(res)\n",
        "model_res.add(keras.layers.Flatten())\n",
        "model_res.add(Dense(512, activation='relu'))\n",
        "model_res.add(Dropout(0.5))\n",
        "model_res.add(Dense(7, activation = 'softmax'))\n",
        "\n",
        "for layer in res.layers[:-10]:\n",
        "        layer.trainable = False"
      ],
      "execution_count": null,
      "outputs": []
    },
    {
      "cell_type": "code",
      "metadata": {
        "colab": {
          "base_uri": "https://localhost:8080/"
        },
        "id": "PtDPQjNMal99",
        "outputId": "021fea8d-d451-4d5a-931a-eb76c64d5fb5"
      },
      "source": [
        "model_res.summary()"
      ],
      "execution_count": null,
      "outputs": [
        {
          "output_type": "stream",
          "text": [
            "Model: \"sequential\"\n",
            "_________________________________________________________________\n",
            "Layer (type)                 Output Shape              Param #   \n",
            "=================================================================\n",
            "resnet50 (Functional)        (None, 2048)              23587712  \n",
            "_________________________________________________________________\n",
            "flatten (Flatten)            (None, 2048)              0         \n",
            "_________________________________________________________________\n",
            "dense_4 (Dense)              (None, 512)               1049088   \n",
            "_________________________________________________________________\n",
            "dropout (Dropout)            (None, 512)               0         \n",
            "_________________________________________________________________\n",
            "dense_5 (Dense)              (None, 7)                 3591      \n",
            "=================================================================\n",
            "Total params: 24,640,391\n",
            "Trainable params: 4,469,255\n",
            "Non-trainable params: 20,171,136\n",
            "_________________________________________________________________\n"
          ],
          "name": "stdout"
        }
      ]
    },
    {
      "cell_type": "code",
      "metadata": {
        "colab": {
          "base_uri": "https://localhost:8080/"
        },
        "id": "bVmKyKMmHqFj",
        "outputId": "503fba9d-5775-49fe-d116-bf2beb7f5924"
      },
      "source": [
        "type(train_generator)"
      ],
      "execution_count": null,
      "outputs": [
        {
          "output_type": "execute_result",
          "data": {
            "text/plain": [
              "tensorflow.python.keras.preprocessing.image.DirectoryIterator"
            ]
          },
          "metadata": {
            "tags": []
          },
          "execution_count": 29
        }
      ]
    },
    {
      "cell_type": "code",
      "metadata": {
        "id": "8XaW5afWHxyE"
      },
      "source": [
        "iter = (i for i in range(50))"
      ],
      "execution_count": null,
      "outputs": []
    },
    {
      "cell_type": "code",
      "metadata": {
        "colab": {
          "base_uri": "https://localhost:8080/"
        },
        "id": "eYfOQFwKJJji",
        "outputId": "059b5fd5-2f6a-4623-fa93-633c6e80062b"
      },
      "source": [
        "iterator"
      ],
      "execution_count": null,
      "outputs": [
        {
          "output_type": "execute_result",
          "data": {
            "text/plain": [
              "<generator object gen at 0x7efed2f2bed0>"
            ]
          },
          "metadata": {
            "tags": []
          },
          "execution_count": 31
        }
      ]
    },
    {
      "cell_type": "code",
      "metadata": {
        "colab": {
          "base_uri": "https://localhost:8080/"
        },
        "id": "AGx_eJGma58n",
        "outputId": "333eeb9f-9e9c-491c-df2e-963c388bf285"
      },
      "source": [
        "adam = Adam(lr=0.0001)\n",
        "model_res.compile(optimizer = adam, loss = 'sparse_categorical_crossentropy', metrics = ['accuracy'])\n",
        "# cb_checkpointer_vgg = ModelCheckpoint(filepath = '../best_vgg.h5', monitor = 'val_loss', save_best_only = True)\n",
        "fit_history = model_res.fit(train_generator, epochs = 50, validation_data=validation_generator)"
      ],
      "execution_count": null,
      "outputs": [
        {
          "output_type": "stream",
          "text": [
            "Epoch 1/50\n",
            "460/460 [==============================] - 62s 128ms/step - loss: 1.2005 - accuracy: 0.5422 - val_loss: 1.6325 - val_accuracy: 0.4111\n",
            "Epoch 2/50\n",
            "460/460 [==============================] - 58s 126ms/step - loss: 1.1730 - accuracy: 0.5495 - val_loss: 1.6766 - val_accuracy: 0.4027\n",
            "Epoch 3/50\n",
            "460/460 [==============================] - 58s 126ms/step - loss: 1.1475 - accuracy: 0.5654 - val_loss: 1.6557 - val_accuracy: 0.4065\n",
            "Epoch 4/50\n",
            "460/460 [==============================] - 58s 126ms/step - loss: 1.1271 - accuracy: 0.5700 - val_loss: 1.6562 - val_accuracy: 0.4200\n",
            "Epoch 5/50\n",
            "460/460 [==============================] - 58s 126ms/step - loss: 1.0955 - accuracy: 0.5893 - val_loss: 1.7451 - val_accuracy: 0.4024\n",
            "Epoch 6/50\n",
            "460/460 [==============================] - 57s 123ms/step - loss: 1.0744 - accuracy: 0.5930 - val_loss: 1.6682 - val_accuracy: 0.4297\n",
            "Epoch 7/50\n",
            "460/460 [==============================] - 57s 123ms/step - loss: 1.0479 - accuracy: 0.6061 - val_loss: 1.7000 - val_accuracy: 0.4330\n",
            "Epoch 8/50\n",
            "460/460 [==============================] - 58s 125ms/step - loss: 1.0136 - accuracy: 0.6171 - val_loss: 1.7743 - val_accuracy: 0.4092\n",
            "Epoch 9/50\n",
            "460/460 [==============================] - 57s 124ms/step - loss: 0.9940 - accuracy: 0.6282 - val_loss: 1.7667 - val_accuracy: 0.4259\n",
            "Epoch 10/50\n",
            "460/460 [==============================] - 57s 124ms/step - loss: 0.9457 - accuracy: 0.6428 - val_loss: 1.7904 - val_accuracy: 0.4144\n",
            "Epoch 11/50\n",
            "460/460 [==============================] - 57s 124ms/step - loss: 0.9411 - accuracy: 0.6477 - val_loss: 1.7946 - val_accuracy: 0.4341\n",
            "Epoch 12/50\n",
            "460/460 [==============================] - 57s 123ms/step - loss: 0.8924 - accuracy: 0.6728 - val_loss: 1.8161 - val_accuracy: 0.4353\n",
            "Epoch 13/50\n",
            "460/460 [==============================] - 57s 123ms/step - loss: 0.8694 - accuracy: 0.6754 - val_loss: 1.8749 - val_accuracy: 0.4304\n",
            "Epoch 14/50\n",
            "460/460 [==============================] - 57s 123ms/step - loss: 0.8401 - accuracy: 0.6885 - val_loss: 1.9325 - val_accuracy: 0.4111\n",
            "Epoch 15/50\n",
            "460/460 [==============================] - 58s 125ms/step - loss: 0.8127 - accuracy: 0.7010 - val_loss: 1.9352 - val_accuracy: 0.4313\n",
            "Epoch 16/50\n",
            "460/460 [==============================] - 57s 125ms/step - loss: 0.7875 - accuracy: 0.7119 - val_loss: 1.9483 - val_accuracy: 0.4342\n",
            "Epoch 17/50\n",
            "460/460 [==============================] - 57s 124ms/step - loss: 0.7420 - accuracy: 0.7259 - val_loss: 2.0227 - val_accuracy: 0.4308\n",
            "Epoch 18/50\n",
            "460/460 [==============================] - 57s 124ms/step - loss: 0.7014 - accuracy: 0.7423 - val_loss: 1.9849 - val_accuracy: 0.4452\n",
            "Epoch 19/50\n",
            "460/460 [==============================] - 57s 124ms/step - loss: 0.6911 - accuracy: 0.7470 - val_loss: 2.0003 - val_accuracy: 0.4391\n",
            "Epoch 20/50\n",
            "460/460 [==============================] - 57s 124ms/step - loss: 0.6521 - accuracy: 0.7600 - val_loss: 2.0808 - val_accuracy: 0.4308\n",
            "Epoch 21/50\n",
            "460/460 [==============================] - 58s 125ms/step - loss: 0.6145 - accuracy: 0.7755 - val_loss: 2.1955 - val_accuracy: 0.4349\n",
            "Epoch 22/50\n",
            "460/460 [==============================] - 57s 124ms/step - loss: 0.6104 - accuracy: 0.7775 - val_loss: 2.1002 - val_accuracy: 0.4355\n",
            "Epoch 23/50\n",
            "460/460 [==============================] - 57s 125ms/step - loss: 0.5751 - accuracy: 0.7906 - val_loss: 2.1579 - val_accuracy: 0.4355\n",
            "Epoch 24/50\n",
            "460/460 [==============================] - 57s 124ms/step - loss: 0.5304 - accuracy: 0.8098 - val_loss: 2.1625 - val_accuracy: 0.4288\n",
            "Epoch 25/50\n",
            "460/460 [==============================] - 58s 125ms/step - loss: 0.5241 - accuracy: 0.8115 - val_loss: 2.3084 - val_accuracy: 0.4473\n",
            "Epoch 26/50\n",
            "460/460 [==============================] - 58s 127ms/step - loss: 0.4927 - accuracy: 0.8280 - val_loss: 2.3138 - val_accuracy: 0.4330\n",
            "Epoch 27/50\n",
            "460/460 [==============================] - 57s 124ms/step - loss: 0.4575 - accuracy: 0.8385 - val_loss: 2.3395 - val_accuracy: 0.4391\n",
            "Epoch 28/50\n",
            "460/460 [==============================] - 58s 126ms/step - loss: 0.4436 - accuracy: 0.8443 - val_loss: 2.4585 - val_accuracy: 0.4351\n",
            "Epoch 29/50\n",
            "460/460 [==============================] - 58s 126ms/step - loss: 0.4260 - accuracy: 0.8509 - val_loss: 2.3938 - val_accuracy: 0.4315\n",
            "Epoch 30/50\n",
            "460/460 [==============================] - 58s 126ms/step - loss: 0.3970 - accuracy: 0.8603 - val_loss: 2.4605 - val_accuracy: 0.4362\n",
            "Epoch 31/50\n",
            "460/460 [==============================] - 58s 126ms/step - loss: 0.3975 - accuracy: 0.8581 - val_loss: 2.5126 - val_accuracy: 0.4275\n",
            "Epoch 32/50\n",
            "460/460 [==============================] - 57s 123ms/step - loss: 0.3713 - accuracy: 0.8688 - val_loss: 2.5093 - val_accuracy: 0.4407\n",
            "Epoch 33/50\n",
            "460/460 [==============================] - 57s 125ms/step - loss: 0.3394 - accuracy: 0.8816 - val_loss: 2.5758 - val_accuracy: 0.4275\n",
            "Epoch 34/50\n",
            "460/460 [==============================] - 57s 124ms/step - loss: 0.3474 - accuracy: 0.8780 - val_loss: 2.7268 - val_accuracy: 0.4226\n",
            "Epoch 35/50\n",
            "460/460 [==============================] - 57s 124ms/step - loss: 0.3319 - accuracy: 0.8830 - val_loss: 2.7294 - val_accuracy: 0.4337\n",
            "Epoch 36/50\n",
            "460/460 [==============================] - 57s 124ms/step - loss: 0.3081 - accuracy: 0.8911 - val_loss: 2.7478 - val_accuracy: 0.4283\n",
            "Epoch 37/50\n",
            "460/460 [==============================] - 58s 126ms/step - loss: 0.2935 - accuracy: 0.8996 - val_loss: 2.7368 - val_accuracy: 0.4410\n",
            "Epoch 38/50\n",
            "460/460 [==============================] - 57s 125ms/step - loss: 0.2787 - accuracy: 0.9037 - val_loss: 2.8792 - val_accuracy: 0.4431\n",
            "Epoch 39/50\n",
            "460/460 [==============================] - 57s 124ms/step - loss: 0.2768 - accuracy: 0.9037 - val_loss: 2.7935 - val_accuracy: 0.4435\n",
            "Epoch 40/50\n",
            "460/460 [==============================] - 57s 125ms/step - loss: 0.2574 - accuracy: 0.9087 - val_loss: 2.7800 - val_accuracy: 0.4426\n",
            "Epoch 41/50\n",
            "460/460 [==============================] - 57s 123ms/step - loss: 0.2424 - accuracy: 0.9166 - val_loss: 2.8748 - val_accuracy: 0.4309\n",
            "Epoch 42/50\n",
            "460/460 [==============================] - 58s 126ms/step - loss: 0.2405 - accuracy: 0.9189 - val_loss: 3.0550 - val_accuracy: 0.4163\n",
            "Epoch 43/50\n",
            "460/460 [==============================] - 57s 124ms/step - loss: 0.2276 - accuracy: 0.9218 - val_loss: 3.0399 - val_accuracy: 0.4273\n",
            "Epoch 44/50\n",
            "460/460 [==============================] - 57s 124ms/step - loss: 0.2219 - accuracy: 0.9212 - val_loss: 3.0054 - val_accuracy: 0.4308\n",
            "Epoch 45/50\n",
            "460/460 [==============================] - 57s 125ms/step - loss: 0.2062 - accuracy: 0.9290 - val_loss: 3.0036 - val_accuracy: 0.4419\n",
            "Epoch 46/50\n",
            "460/460 [==============================] - 57s 124ms/step - loss: 0.2054 - accuracy: 0.9297 - val_loss: 3.0535 - val_accuracy: 0.4342\n",
            "Epoch 47/50\n",
            "460/460 [==============================] - 59s 127ms/step - loss: 0.2063 - accuracy: 0.9306 - val_loss: 3.0830 - val_accuracy: 0.4414\n",
            "Epoch 48/50\n",
            "460/460 [==============================] - 57s 125ms/step - loss: 0.1872 - accuracy: 0.9341 - val_loss: 3.1340 - val_accuracy: 0.4393\n",
            "Epoch 49/50\n",
            "460/460 [==============================] - 57s 124ms/step - loss: 0.1787 - accuracy: 0.9382 - val_loss: 3.2303 - val_accuracy: 0.4356\n",
            "Epoch 50/50\n",
            "460/460 [==============================] - 57s 124ms/step - loss: 0.1723 - accuracy: 0.9433 - val_loss: 3.2128 - val_accuracy: 0.4255\n"
          ],
          "name": "stdout"
        }
      ]
    },
    {
      "cell_type": "code",
      "metadata": {
        "colab": {
          "base_uri": "https://localhost:8080/",
          "height": 573
        },
        "id": "w3Pz-ZKwnn6V",
        "outputId": "ab3eb9fd-2c03-4dfe-a372-d7a09faf14dd"
      },
      "source": [
        "plotting_epochs(fit_history.history['accuracy'], fit_history.history['val_accuracy'], \"Accuracy\")\n",
        "plotting_epochs(fit_history.history['loss'], fit_history.history['val_loss'], \"Loss\")"
      ],
      "execution_count": null,
      "outputs": [
        {
          "output_type": "display_data",
          "data": {
            "image/png": "[encoded data removed]",
            "text/plain": [
              "<Figure size 432x288 with 1 Axes>"
            ]
          },
          "metadata": {
            "tags": [],
            "needs_background": "light"
          }
        },
        {
          "output_type": "display_data",
          "data": {
            "image/png": "[encoded data removed]",
            "text/plain": [
              "<Figure size 432x288 with 1 Axes>"
            ]
          },
          "metadata": {
            "tags": [],
            "needs_background": "light"
          }
        }
      ]
    },
    {
      "cell_type": "markdown",
      "metadata": {
        "id": "n3gIel0WjlFI"
      },
      "source": [
        "# INCEPTION V3 Model"
      ]
    },
    {
      "cell_type": "code",
      "metadata": {
        "id": "0QLK8XGZHP6t"
      },
      "source": [
        "# importing the inception model\n",
        "from tensorflow.keras.applications.inception_v3 import InceptionV3"
      ],
      "execution_count": null,
      "outputs": []
    },
    {
      "cell_type": "code",
      "metadata": {
        "colab": {
          "base_uri": "https://localhost:8080/"
        },
        "id": "H2BDm2PqH-Jl",
        "outputId": "a4c5e097-adb1-41eb-e114-17fea3061748"
      },
      "source": [
        "incepv3 = InceptionV3(include_top = False, weights='imagenet', pooling = 'avg', classes = 7, input_shape=(75, 75, 3))\n",
        "# input shape includes shape of our images\n",
        "# include top = false means leave out the last fully connected layer\n",
        "incepv3.summary()"
      ],
      "execution_count": null,
      "outputs": [
        {
          "output_type": "stream",
          "text": [
            "Model: \"inception_v3\"\n",
            "__________________________________________________________________________________________________\n",
            "Layer (type)                    Output Shape         Param #     Connected to                     \n",
            "==================================================================================================\n",
            "input_2 (InputLayer)            [(None, 75, 75, 3)]  0                                            \n",
            "__________________________________________________________________________________________________\n",
            "conv2d_94 (Conv2D)              (None, 37, 37, 32)   864         input_2[0][0]                    \n",
            "__________________________________________________________________________________________________\n",
            "batch_normalization_94 (BatchNo (None, 37, 37, 32)   96          conv2d_94[0][0]                  \n",
            "__________________________________________________________________________________________________\n",
            "activation_94 (Activation)      (None, 37, 37, 32)   0           batch_normalization_94[0][0]     \n",
            "__________________________________________________________________________________________________\n",
            "conv2d_95 (Conv2D)              (None, 35, 35, 32)   9216        activation_94[0][0]              \n",
            "__________________________________________________________________________________________________\n",
            "batch_normalization_95 (BatchNo (None, 35, 35, 32)   96          conv2d_95[0][0]                  \n",
            "__________________________________________________________________________________________________\n",
            "activation_95 (Activation)      (None, 35, 35, 32)   0           batch_normalization_95[0][0]     \n",
            "__________________________________________________________________________________________________\n",
            "conv2d_96 (Conv2D)              (None, 35, 35, 64)   18432       activation_95[0][0]              \n",
            "__________________________________________________________________________________________________\n",
            "batch_normalization_96 (BatchNo (None, 35, 35, 64)   192         conv2d_96[0][0]                  \n",
            "__________________________________________________________________________________________________\n",
            "activation_96 (Activation)      (None, 35, 35, 64)   0           batch_normalization_96[0][0]     \n",
            "__________________________________________________________________________________________________\n",
            "max_pooling2d_4 (MaxPooling2D)  (None, 17, 17, 64)   0           activation_96[0][0]              \n",
            "__________________________________________________________________________________________________\n",
            "conv2d_97 (Conv2D)              (None, 17, 17, 80)   5120        max_pooling2d_4[0][0]            \n",
            "__________________________________________________________________________________________________\n",
            "batch_normalization_97 (BatchNo (None, 17, 17, 80)   240         conv2d_97[0][0]                  \n",
            "__________________________________________________________________________________________________\n",
            "activation_97 (Activation)      (None, 17, 17, 80)   0           batch_normalization_97[0][0]     \n",
            "__________________________________________________________________________________________________\n",
            "conv2d_98 (Conv2D)              (None, 15, 15, 192)  138240      activation_97[0][0]              \n",
            "__________________________________________________________________________________________________\n",
            "batch_normalization_98 (BatchNo (None, 15, 15, 192)  576         conv2d_98[0][0]                  \n",
            "__________________________________________________________________________________________________\n",
            "activation_98 (Activation)      (None, 15, 15, 192)  0           batch_normalization_98[0][0]     \n",
            "__________________________________________________________________________________________________\n",
            "max_pooling2d_5 (MaxPooling2D)  (None, 7, 7, 192)    0           activation_98[0][0]              \n",
            "__________________________________________________________________________________________________\n",
            "conv2d_102 (Conv2D)             (None, 7, 7, 64)     12288       max_pooling2d_5[0][0]            \n",
            "__________________________________________________________________________________________________\n",
            "batch_normalization_102 (BatchN (None, 7, 7, 64)     192         conv2d_102[0][0]                 \n",
            "__________________________________________________________________________________________________\n",
            "activation_102 (Activation)     (None, 7, 7, 64)     0           batch_normalization_102[0][0]    \n",
            "__________________________________________________________________________________________________\n",
            "conv2d_100 (Conv2D)             (None, 7, 7, 48)     9216        max_pooling2d_5[0][0]            \n",
            "__________________________________________________________________________________________________\n",
            "conv2d_103 (Conv2D)             (None, 7, 7, 96)     55296       activation_102[0][0]             \n",
            "__________________________________________________________________________________________________\n",
            "batch_normalization_100 (BatchN (None, 7, 7, 48)     144         conv2d_100[0][0]                 \n",
            "__________________________________________________________________________________________________\n",
            "batch_normalization_103 (BatchN (None, 7, 7, 96)     288         conv2d_103[0][0]                 \n",
            "__________________________________________________________________________________________________\n",
            "activation_100 (Activation)     (None, 7, 7, 48)     0           batch_normalization_100[0][0]    \n",
            "__________________________________________________________________________________________________\n",
            "activation_103 (Activation)     (None, 7, 7, 96)     0           batch_normalization_103[0][0]    \n",
            "__________________________________________________________________________________________________\n",
            "average_pooling2d_9 (AveragePoo (None, 7, 7, 192)    0           max_pooling2d_5[0][0]            \n",
            "__________________________________________________________________________________________________\n",
            "conv2d_99 (Conv2D)              (None, 7, 7, 64)     12288       max_pooling2d_5[0][0]            \n",
            "__________________________________________________________________________________________________\n",
            "conv2d_101 (Conv2D)             (None, 7, 7, 64)     76800       activation_100[0][0]             \n",
            "__________________________________________________________________________________________________\n",
            "conv2d_104 (Conv2D)             (None, 7, 7, 96)     82944       activation_103[0][0]             \n",
            "__________________________________________________________________________________________________\n",
            "conv2d_105 (Conv2D)             (None, 7, 7, 32)     6144        average_pooling2d_9[0][0]        \n",
            "__________________________________________________________________________________________________\n",
            "batch_normalization_99 (BatchNo (None, 7, 7, 64)     192         conv2d_99[0][0]                  \n",
            "__________________________________________________________________________________________________\n",
            "batch_normalization_101 (BatchN (None, 7, 7, 64)     192         conv2d_101[0][0]                 \n",
            "__________________________________________________________________________________________________\n",
            "batch_normalization_104 (BatchN (None, 7, 7, 96)     288         conv2d_104[0][0]                 \n",
            "__________________________________________________________________________________________________\n",
            "batch_normalization_105 (BatchN (None, 7, 7, 32)     96          conv2d_105[0][0]                 \n",
            "__________________________________________________________________________________________________\n",
            "activation_99 (Activation)      (None, 7, 7, 64)     0           batch_normalization_99[0][0]     \n",
            "__________________________________________________________________________________________________\n",
            "activation_101 (Activation)     (None, 7, 7, 64)     0           batch_normalization_101[0][0]    \n",
            "__________________________________________________________________________________________________\n",
            "activation_104 (Activation)     (None, 7, 7, 96)     0           batch_normalization_104[0][0]    \n",
            "__________________________________________________________________________________________________\n",
            "activation_105 (Activation)     (None, 7, 7, 32)     0           batch_normalization_105[0][0]    \n",
            "__________________________________________________________________________________________________\n",
            "mixed0 (Concatenate)            (None, 7, 7, 256)    0           activation_99[0][0]              \n",
            "                                                                 activation_101[0][0]             \n",
            "                                                                 activation_104[0][0]             \n",
            "                                                                 activation_105[0][0]             \n",
            "__________________________________________________________________________________________________\n",
            "conv2d_109 (Conv2D)             (None, 7, 7, 64)     16384       mixed0[0][0]                     \n",
            "__________________________________________________________________________________________________\n",
            "batch_normalization_109 (BatchN (None, 7, 7, 64)     192         conv2d_109[0][0]                 \n",
            "__________________________________________________________________________________________________\n",
            "activation_109 (Activation)     (None, 7, 7, 64)     0           batch_normalization_109[0][0]    \n",
            "__________________________________________________________________________________________________\n",
            "conv2d_107 (Conv2D)             (None, 7, 7, 48)     12288       mixed0[0][0]                     \n",
            "__________________________________________________________________________________________________\n",
            "conv2d_110 (Conv2D)             (None, 7, 7, 96)     55296       activation_109[0][0]             \n",
            "__________________________________________________________________________________________________\n",
            "batch_normalization_107 (BatchN (None, 7, 7, 48)     144         conv2d_107[0][0]                 \n",
            "__________________________________________________________________________________________________\n",
            "batch_normalization_110 (BatchN (None, 7, 7, 96)     288         conv2d_110[0][0]                 \n",
            "__________________________________________________________________________________________________\n",
            "activation_107 (Activation)     (None, 7, 7, 48)     0           batch_normalization_107[0][0]    \n",
            "__________________________________________________________________________________________________\n",
            "activation_110 (Activation)     (None, 7, 7, 96)     0           batch_normalization_110[0][0]    \n",
            "__________________________________________________________________________________________________\n",
            "average_pooling2d_10 (AveragePo (None, 7, 7, 256)    0           mixed0[0][0]                     \n",
            "__________________________________________________________________________________________________\n",
            "conv2d_106 (Conv2D)             (None, 7, 7, 64)     16384       mixed0[0][0]                     \n",
            "__________________________________________________________________________________________________\n",
            "conv2d_108 (Conv2D)             (None, 7, 7, 64)     76800       activation_107[0][0]             \n",
            "__________________________________________________________________________________________________\n",
            "conv2d_111 (Conv2D)             (None, 7, 7, 96)     82944       activation_110[0][0]             \n",
            "__________________________________________________________________________________________________\n",
            "conv2d_112 (Conv2D)             (None, 7, 7, 64)     16384       average_pooling2d_10[0][0]       \n",
            "__________________________________________________________________________________________________\n",
            "batch_normalization_106 (BatchN (None, 7, 7, 64)     192         conv2d_106[0][0]                 \n",
            "__________________________________________________________________________________________________\n",
            "batch_normalization_108 (BatchN (None, 7, 7, 64)     192         conv2d_108[0][0]                 \n",
            "__________________________________________________________________________________________________\n",
            "batch_normalization_111 (BatchN (None, 7, 7, 96)     288         conv2d_111[0][0]                 \n",
            "__________________________________________________________________________________________________\n",
            "batch_normalization_112 (BatchN (None, 7, 7, 64)     192         conv2d_112[0][0]                 \n",
            "__________________________________________________________________________________________________\n",
            "activation_106 (Activation)     (None, 7, 7, 64)     0           batch_normalization_106[0][0]    \n",
            "__________________________________________________________________________________________________\n",
            "activation_108 (Activation)     (None, 7, 7, 64)     0           batch_normalization_108[0][0]    \n",
            "__________________________________________________________________________________________________\n",
            "activation_111 (Activation)     (None, 7, 7, 96)     0           batch_normalization_111[0][0]    \n",
            "__________________________________________________________________________________________________\n",
            "activation_112 (Activation)     (None, 7, 7, 64)     0           batch_normalization_112[0][0]    \n",
            "__________________________________________________________________________________________________\n",
            "mixed1 (Concatenate)            (None, 7, 7, 288)    0           activation_106[0][0]             \n",
            "                                                                 activation_108[0][0]             \n",
            "                                                                 activation_111[0][0]             \n",
            "                                                                 activation_112[0][0]             \n",
            "__________________________________________________________________________________________________\n",
            "conv2d_116 (Conv2D)             (None, 7, 7, 64)     18432       mixed1[0][0]                     \n",
            "__________________________________________________________________________________________________\n",
            "batch_normalization_116 (BatchN (None, 7, 7, 64)     192         conv2d_116[0][0]                 \n",
            "__________________________________________________________________________________________________\n",
            "activation_116 (Activation)     (None, 7, 7, 64)     0           batch_normalization_116[0][0]    \n",
            "__________________________________________________________________________________________________\n",
            "conv2d_114 (Conv2D)             (None, 7, 7, 48)     13824       mixed1[0][0]                     \n",
            "__________________________________________________________________________________________________\n",
            "conv2d_117 (Conv2D)             (None, 7, 7, 96)     55296       activation_116[0][0]             \n",
            "__________________________________________________________________________________________________\n",
            "batch_normalization_114 (BatchN (None, 7, 7, 48)     144         conv2d_114[0][0]                 \n",
            "__________________________________________________________________________________________________\n",
            "batch_normalization_117 (BatchN (None, 7, 7, 96)     288         conv2d_117[0][0]                 \n",
            "__________________________________________________________________________________________________\n",
            "activation_114 (Activation)     (None, 7, 7, 48)     0           batch_normalization_114[0][0]    \n",
            "__________________________________________________________________________________________________\n",
            "activation_117 (Activation)     (None, 7, 7, 96)     0           batch_normalization_117[0][0]    \n",
            "__________________________________________________________________________________________________\n",
            "average_pooling2d_11 (AveragePo (None, 7, 7, 288)    0           mixed1[0][0]                     \n",
            "__________________________________________________________________________________________________\n",
            "conv2d_113 (Conv2D)             (None, 7, 7, 64)     18432       mixed1[0][0]                     \n",
            "__________________________________________________________________________________________________\n",
            "conv2d_115 (Conv2D)             (None, 7, 7, 64)     76800       activation_114[0][0]             \n",
            "__________________________________________________________________________________________________\n",
            "conv2d_118 (Conv2D)             (None, 7, 7, 96)     82944       activation_117[0][0]             \n",
            "__________________________________________________________________________________________________\n",
            "conv2d_119 (Conv2D)             (None, 7, 7, 64)     18432       average_pooling2d_11[0][0]       \n",
            "__________________________________________________________________________________________________\n",
            "batch_normalization_113 (BatchN (None, 7, 7, 64)     192         conv2d_113[0][0]                 \n",
            "__________________________________________________________________________________________________\n",
            "batch_normalization_115 (BatchN (None, 7, 7, 64)     192         conv2d_115[0][0]                 \n",
            "__________________________________________________________________________________________________\n",
            "batch_normalization_118 (BatchN (None, 7, 7, 96)     288         conv2d_118[0][0]                 \n",
            "__________________________________________________________________________________________________\n",
            "batch_normalization_119 (BatchN (None, 7, 7, 64)     192         conv2d_119[0][0]                 \n",
            "__________________________________________________________________________________________________\n",
            "activation_113 (Activation)     (None, 7, 7, 64)     0           batch_normalization_113[0][0]    \n",
            "__________________________________________________________________________________________________\n",
            "activation_115 (Activation)     (None, 7, 7, 64)     0           batch_normalization_115[0][0]    \n",
            "__________________________________________________________________________________________________\n",
            "activation_118 (Activation)     (None, 7, 7, 96)     0           batch_normalization_118[0][0]    \n",
            "__________________________________________________________________________________________________\n",
            "activation_119 (Activation)     (None, 7, 7, 64)     0           batch_normalization_119[0][0]    \n",
            "__________________________________________________________________________________________________\n",
            "mixed2 (Concatenate)            (None, 7, 7, 288)    0           activation_113[0][0]             \n",
            "                                                                 activation_115[0][0]             \n",
            "                                                                 activation_118[0][0]             \n",
            "                                                                 activation_119[0][0]             \n",
            "__________________________________________________________________________________________________\n",
            "conv2d_121 (Conv2D)             (None, 7, 7, 64)     18432       mixed2[0][0]                     \n",
            "__________________________________________________________________________________________________\n",
            "batch_normalization_121 (BatchN (None, 7, 7, 64)     192         conv2d_121[0][0]                 \n",
            "__________________________________________________________________________________________________\n",
            "activation_121 (Activation)     (None, 7, 7, 64)     0           batch_normalization_121[0][0]    \n",
            "__________________________________________________________________________________________________\n",
            "conv2d_122 (Conv2D)             (None, 7, 7, 96)     55296       activation_121[0][0]             \n",
            "__________________________________________________________________________________________________\n",
            "batch_normalization_122 (BatchN (None, 7, 7, 96)     288         conv2d_122[0][0]                 \n",
            "__________________________________________________________________________________________________\n",
            "activation_122 (Activation)     (None, 7, 7, 96)     0           batch_normalization_122[0][0]    \n",
            "__________________________________________________________________________________________________\n",
            "conv2d_120 (Conv2D)             (None, 3, 3, 384)    995328      mixed2[0][0]                     \n",
            "__________________________________________________________________________________________________\n",
            "conv2d_123 (Conv2D)             (None, 3, 3, 96)     82944       activation_122[0][0]             \n",
            "__________________________________________________________________________________________________\n",
            "batch_normalization_120 (BatchN (None, 3, 3, 384)    1152        conv2d_120[0][0]                 \n",
            "__________________________________________________________________________________________________\n",
            "batch_normalization_123 (BatchN (None, 3, 3, 96)     288         conv2d_123[0][0]                 \n",
            "__________________________________________________________________________________________________\n",
            "activation_120 (Activation)     (None, 3, 3, 384)    0           batch_normalization_120[0][0]    \n",
            "__________________________________________________________________________________________________\n",
            "activation_123 (Activation)     (None, 3, 3, 96)     0           batch_normalization_123[0][0]    \n",
            "__________________________________________________________________________________________________\n",
            "max_pooling2d_6 (MaxPooling2D)  (None, 3, 3, 288)    0           mixed2[0][0]                     \n",
            "__________________________________________________________________________________________________\n",
            "mixed3 (Concatenate)            (None, 3, 3, 768)    0           activation_120[0][0]             \n",
            "                                                                 activation_123[0][0]             \n",
            "                                                                 max_pooling2d_6[0][0]            \n",
            "__________________________________________________________________________________________________\n",
            "conv2d_128 (Conv2D)             (None, 3, 3, 128)    98304       mixed3[0][0]                     \n",
            "__________________________________________________________________________________________________\n",
            "batch_normalization_128 (BatchN (None, 3, 3, 128)    384         conv2d_128[0][0]                 \n",
            "__________________________________________________________________________________________________\n",
            "activation_128 (Activation)     (None, 3, 3, 128)    0           batch_normalization_128[0][0]    \n",
            "__________________________________________________________________________________________________\n",
            "conv2d_129 (Conv2D)             (None, 3, 3, 128)    114688      activation_128[0][0]             \n",
            "__________________________________________________________________________________________________\n",
            "batch_normalization_129 (BatchN (None, 3, 3, 128)    384         conv2d_129[0][0]                 \n",
            "__________________________________________________________________________________________________\n",
            "activation_129 (Activation)     (None, 3, 3, 128)    0           batch_normalization_129[0][0]    \n",
            "__________________________________________________________________________________________________\n",
            "conv2d_125 (Conv2D)             (None, 3, 3, 128)    98304       mixed3[0][0]                     \n",
            "__________________________________________________________________________________________________\n",
            "conv2d_130 (Conv2D)             (None, 3, 3, 128)    114688      activation_129[0][0]             \n",
            "__________________________________________________________________________________________________\n",
            "batch_normalization_125 (BatchN (None, 3, 3, 128)    384         conv2d_125[0][0]                 \n",
            "__________________________________________________________________________________________________\n",
            "batch_normalization_130 (BatchN (None, 3, 3, 128)    384         conv2d_130[0][0]                 \n",
            "__________________________________________________________________________________________________\n",
            "activation_125 (Activation)     (None, 3, 3, 128)    0           batch_normalization_125[0][0]    \n",
            "__________________________________________________________________________________________________\n",
            "activation_130 (Activation)     (None, 3, 3, 128)    0           batch_normalization_130[0][0]    \n",
            "__________________________________________________________________________________________________\n",
            "conv2d_126 (Conv2D)             (None, 3, 3, 128)    114688      activation_125[0][0]             \n",
            "__________________________________________________________________________________________________\n",
            "conv2d_131 (Conv2D)             (None, 3, 3, 128)    114688      activation_130[0][0]             \n",
            "__________________________________________________________________________________________________\n",
            "batch_normalization_126 (BatchN (None, 3, 3, 128)    384         conv2d_126[0][0]                 \n",
            "__________________________________________________________________________________________________\n",
            "batch_normalization_131 (BatchN (None, 3, 3, 128)    384         conv2d_131[0][0]                 \n",
            "__________________________________________________________________________________________________\n",
            "activation_126 (Activation)     (None, 3, 3, 128)    0           batch_normalization_126[0][0]    \n",
            "__________________________________________________________________________________________________\n",
            "activation_131 (Activation)     (None, 3, 3, 128)    0           batch_normalization_131[0][0]    \n",
            "__________________________________________________________________________________________________\n",
            "average_pooling2d_12 (AveragePo (None, 3, 3, 768)    0           mixed3[0][0]                     \n",
            "__________________________________________________________________________________________________\n",
            "conv2d_124 (Conv2D)             (None, 3, 3, 192)    147456      mixed3[0][0]                     \n",
            "__________________________________________________________________________________________________\n",
            "conv2d_127 (Conv2D)             (None, 3, 3, 192)    172032      activation_126[0][0]             \n",
            "__________________________________________________________________________________________________\n",
            "conv2d_132 (Conv2D)             (None, 3, 3, 192)    172032      activation_131[0][0]             \n",
            "__________________________________________________________________________________________________\n",
            "conv2d_133 (Conv2D)             (None, 3, 3, 192)    147456      average_pooling2d_12[0][0]       \n",
            "__________________________________________________________________________________________________\n",
            "batch_normalization_124 (BatchN (None, 3, 3, 192)    576         conv2d_124[0][0]                 \n",
            "__________________________________________________________________________________________________\n",
            "batch_normalization_127 (BatchN (None, 3, 3, 192)    576         conv2d_127[0][0]                 \n",
            "__________________________________________________________________________________________________\n",
            "batch_normalization_132 (BatchN (None, 3, 3, 192)    576         conv2d_132[0][0]                 \n",
            "__________________________________________________________________________________________________\n",
            "batch_normalization_133 (BatchN (None, 3, 3, 192)    576         conv2d_133[0][0]                 \n",
            "__________________________________________________________________________________________________\n",
            "activation_124 (Activation)     (None, 3, 3, 192)    0           batch_normalization_124[0][0]    \n",
            "__________________________________________________________________________________________________\n",
            "activation_127 (Activation)     (None, 3, 3, 192)    0           batch_normalization_127[0][0]    \n",
            "__________________________________________________________________________________________________\n",
            "activation_132 (Activation)     (None, 3, 3, 192)    0           batch_normalization_132[0][0]    \n",
            "__________________________________________________________________________________________________\n",
            "activation_133 (Activation)     (None, 3, 3, 192)    0           batch_normalization_133[0][0]    \n",
            "__________________________________________________________________________________________________\n",
            "mixed4 (Concatenate)            (None, 3, 3, 768)    0           activation_124[0][0]             \n",
            "                                                                 activation_127[0][0]             \n",
            "                                                                 activation_132[0][0]             \n",
            "                                                                 activation_133[0][0]             \n",
            "__________________________________________________________________________________________________\n",
            "conv2d_138 (Conv2D)             (None, 3, 3, 160)    122880      mixed4[0][0]                     \n",
            "__________________________________________________________________________________________________\n",
            "batch_normalization_138 (BatchN (None, 3, 3, 160)    480         conv2d_138[0][0]                 \n",
            "__________________________________________________________________________________________________\n",
            "activation_138 (Activation)     (None, 3, 3, 160)    0           batch_normalization_138[0][0]    \n",
            "__________________________________________________________________________________________________\n",
            "conv2d_139 (Conv2D)             (None, 3, 3, 160)    179200      activation_138[0][0]             \n",
            "__________________________________________________________________________________________________\n",
            "batch_normalization_139 (BatchN (None, 3, 3, 160)    480         conv2d_139[0][0]                 \n",
            "__________________________________________________________________________________________________\n",
            "activation_139 (Activation)     (None, 3, 3, 160)    0           batch_normalization_139[0][0]    \n",
            "__________________________________________________________________________________________________\n",
            "conv2d_135 (Conv2D)             (None, 3, 3, 160)    122880      mixed4[0][0]                     \n",
            "__________________________________________________________________________________________________\n",
            "conv2d_140 (Conv2D)             (None, 3, 3, 160)    179200      activation_139[0][0]             \n",
            "__________________________________________________________________________________________________\n",
            "batch_normalization_135 (BatchN (None, 3, 3, 160)    480         conv2d_135[0][0]                 \n",
            "__________________________________________________________________________________________________\n",
            "batch_normalization_140 (BatchN (None, 3, 3, 160)    480         conv2d_140[0][0]                 \n",
            "__________________________________________________________________________________________________\n",
            "activation_135 (Activation)     (None, 3, 3, 160)    0           batch_normalization_135[0][0]    \n",
            "__________________________________________________________________________________________________\n",
            "activation_140 (Activation)     (None, 3, 3, 160)    0           batch_normalization_140[0][0]    \n",
            "__________________________________________________________________________________________________\n",
            "conv2d_136 (Conv2D)             (None, 3, 3, 160)    179200      activation_135[0][0]             \n",
            "__________________________________________________________________________________________________\n",
            "conv2d_141 (Conv2D)             (None, 3, 3, 160)    179200      activation_140[0][0]             \n",
            "__________________________________________________________________________________________________\n",
            "batch_normalization_136 (BatchN (None, 3, 3, 160)    480         conv2d_136[0][0]                 \n",
            "__________________________________________________________________________________________________\n",
            "batch_normalization_141 (BatchN (None, 3, 3, 160)    480         conv2d_141[0][0]                 \n",
            "__________________________________________________________________________________________________\n",
            "activation_136 (Activation)     (None, 3, 3, 160)    0           batch_normalization_136[0][0]    \n",
            "__________________________________________________________________________________________________\n",
            "activation_141 (Activation)     (None, 3, 3, 160)    0           batch_normalization_141[0][0]    \n",
            "__________________________________________________________________________________________________\n",
            "average_pooling2d_13 (AveragePo (None, 3, 3, 768)    0           mixed4[0][0]                     \n",
            "__________________________________________________________________________________________________\n",
            "conv2d_134 (Conv2D)             (None, 3, 3, 192)    147456      mixed4[0][0]                     \n",
            "__________________________________________________________________________________________________\n",
            "conv2d_137 (Conv2D)             (None, 3, 3, 192)    215040      activation_136[0][0]             \n",
            "__________________________________________________________________________________________________\n",
            "conv2d_142 (Conv2D)             (None, 3, 3, 192)    215040      activation_141[0][0]             \n",
            "__________________________________________________________________________________________________\n",
            "conv2d_143 (Conv2D)             (None, 3, 3, 192)    147456      average_pooling2d_13[0][0]       \n",
            "__________________________________________________________________________________________________\n",
            "batch_normalization_134 (BatchN (None, 3, 3, 192)    576         conv2d_134[0][0]                 \n",
            "__________________________________________________________________________________________________\n",
            "batch_normalization_137 (BatchN (None, 3, 3, 192)    576         conv2d_137[0][0]                 \n",
            "__________________________________________________________________________________________________\n",
            "batch_normalization_142 (BatchN (None, 3, 3, 192)    576         conv2d_142[0][0]                 \n",
            "__________________________________________________________________________________________________\n",
            "batch_normalization_143 (BatchN (None, 3, 3, 192)    576         conv2d_143[0][0]                 \n",
            "__________________________________________________________________________________________________\n",
            "activation_134 (Activation)     (None, 3, 3, 192)    0           batch_normalization_134[0][0]    \n",
            "__________________________________________________________________________________________________\n",
            "activation_137 (Activation)     (None, 3, 3, 192)    0           batch_normalization_137[0][0]    \n",
            "__________________________________________________________________________________________________\n",
            "activation_142 (Activation)     (None, 3, 3, 192)    0           batch_normalization_142[0][0]    \n",
            "__________________________________________________________________________________________________\n",
            "activation_143 (Activation)     (None, 3, 3, 192)    0           batch_normalization_143[0][0]    \n",
            "__________________________________________________________________________________________________\n",
            "mixed5 (Concatenate)            (None, 3, 3, 768)    0           activation_134[0][0]             \n",
            "                                                                 activation_137[0][0]             \n",
            "                                                                 activation_142[0][0]             \n",
            "                                                                 activation_143[0][0]             \n",
            "__________________________________________________________________________________________________\n",
            "conv2d_148 (Conv2D)             (None, 3, 3, 160)    122880      mixed5[0][0]                     \n",
            "__________________________________________________________________________________________________\n",
            "batch_normalization_148 (BatchN (None, 3, 3, 160)    480         conv2d_148[0][0]                 \n",
            "__________________________________________________________________________________________________\n",
            "activation_148 (Activation)     (None, 3, 3, 160)    0           batch_normalization_148[0][0]    \n",
            "__________________________________________________________________________________________________\n",
            "conv2d_149 (Conv2D)             (None, 3, 3, 160)    179200      activation_148[0][0]             \n",
            "__________________________________________________________________________________________________\n",
            "batch_normalization_149 (BatchN (None, 3, 3, 160)    480         conv2d_149[0][0]                 \n",
            "__________________________________________________________________________________________________\n",
            "activation_149 (Activation)     (None, 3, 3, 160)    0           batch_normalization_149[0][0]    \n",
            "__________________________________________________________________________________________________\n",
            "conv2d_145 (Conv2D)             (None, 3, 3, 160)    122880      mixed5[0][0]                     \n",
            "__________________________________________________________________________________________________\n",
            "conv2d_150 (Conv2D)             (None, 3, 3, 160)    179200      activation_149[0][0]             \n",
            "__________________________________________________________________________________________________\n",
            "batch_normalization_145 (BatchN (None, 3, 3, 160)    480         conv2d_145[0][0]                 \n",
            "__________________________________________________________________________________________________\n",
            "batch_normalization_150 (BatchN (None, 3, 3, 160)    480         conv2d_150[0][0]                 \n",
            "__________________________________________________________________________________________________\n",
            "activation_145 (Activation)     (None, 3, 3, 160)    0           batch_normalization_145[0][0]    \n",
            "__________________________________________________________________________________________________\n",
            "activation_150 (Activation)     (None, 3, 3, 160)    0           batch_normalization_150[0][0]    \n",
            "__________________________________________________________________________________________________\n",
            "conv2d_146 (Conv2D)             (None, 3, 3, 160)    179200      activation_145[0][0]             \n",
            "__________________________________________________________________________________________________\n",
            "conv2d_151 (Conv2D)             (None, 3, 3, 160)    179200      activation_150[0][0]             \n",
            "__________________________________________________________________________________________________\n",
            "batch_normalization_146 (BatchN (None, 3, 3, 160)    480         conv2d_146[0][0]                 \n",
            "__________________________________________________________________________________________________\n",
            "batch_normalization_151 (BatchN (None, 3, 3, 160)    480         conv2d_151[0][0]                 \n",
            "__________________________________________________________________________________________________\n",
            "activation_146 (Activation)     (None, 3, 3, 160)    0           batch_normalization_146[0][0]    \n",
            "__________________________________________________________________________________________________\n",
            "activation_151 (Activation)     (None, 3, 3, 160)    0           batch_normalization_151[0][0]    \n",
            "__________________________________________________________________________________________________\n",
            "average_pooling2d_14 (AveragePo (None, 3, 3, 768)    0           mixed5[0][0]                     \n",
            "__________________________________________________________________________________________________\n",
            "conv2d_144 (Conv2D)             (None, 3, 3, 192)    147456      mixed5[0][0]                     \n",
            "__________________________________________________________________________________________________\n",
            "conv2d_147 (Conv2D)             (None, 3, 3, 192)    215040      activation_146[0][0]             \n",
            "__________________________________________________________________________________________________\n",
            "conv2d_152 (Conv2D)             (None, 3, 3, 192)    215040      activation_151[0][0]             \n",
            "__________________________________________________________________________________________________\n",
            "conv2d_153 (Conv2D)             (None, 3, 3, 192)    147456      average_pooling2d_14[0][0]       \n",
            "__________________________________________________________________________________________________\n",
            "batch_normalization_144 (BatchN (None, 3, 3, 192)    576         conv2d_144[0][0]                 \n",
            "__________________________________________________________________________________________________\n",
            "batch_normalization_147 (BatchN (None, 3, 3, 192)    576         conv2d_147[0][0]                 \n",
            "__________________________________________________________________________________________________\n",
            "batch_normalization_152 (BatchN (None, 3, 3, 192)    576         conv2d_152[0][0]                 \n",
            "__________________________________________________________________________________________________\n",
            "batch_normalization_153 (BatchN (None, 3, 3, 192)    576         conv2d_153[0][0]                 \n",
            "__________________________________________________________________________________________________\n",
            "activation_144 (Activation)     (None, 3, 3, 192)    0           batch_normalization_144[0][0]    \n",
            "__________________________________________________________________________________________________\n",
            "activation_147 (Activation)     (None, 3, 3, 192)    0           batch_normalization_147[0][0]    \n",
            "__________________________________________________________________________________________________\n",
            "activation_152 (Activation)     (None, 3, 3, 192)    0           batch_normalization_152[0][0]    \n",
            "__________________________________________________________________________________________________\n",
            "activation_153 (Activation)     (None, 3, 3, 192)    0           batch_normalization_153[0][0]    \n",
            "__________________________________________________________________________________________________\n",
            "mixed6 (Concatenate)            (None, 3, 3, 768)    0           activation_144[0][0]             \n",
            "                                                                 activation_147[0][0]             \n",
            "                                                                 activation_152[0][0]             \n",
            "                                                                 activation_153[0][0]             \n",
            "__________________________________________________________________________________________________\n",
            "conv2d_158 (Conv2D)             (None, 3, 3, 192)    147456      mixed6[0][0]                     \n",
            "__________________________________________________________________________________________________\n",
            "batch_normalization_158 (BatchN (None, 3, 3, 192)    576         conv2d_158[0][0]                 \n",
            "__________________________________________________________________________________________________\n",
            "activation_158 (Activation)     (None, 3, 3, 192)    0           batch_normalization_158[0][0]    \n",
            "__________________________________________________________________________________________________\n",
            "conv2d_159 (Conv2D)             (None, 3, 3, 192)    258048      activation_158[0][0]             \n",
            "__________________________________________________________________________________________________\n",
            "batch_normalization_159 (BatchN (None, 3, 3, 192)    576         conv2d_159[0][0]                 \n",
            "__________________________________________________________________________________________________\n",
            "activation_159 (Activation)     (None, 3, 3, 192)    0           batch_normalization_159[0][0]    \n",
            "__________________________________________________________________________________________________\n",
            "conv2d_155 (Conv2D)             (None, 3, 3, 192)    147456      mixed6[0][0]                     \n",
            "__________________________________________________________________________________________________\n",
            "conv2d_160 (Conv2D)             (None, 3, 3, 192)    258048      activation_159[0][0]             \n",
            "__________________________________________________________________________________________________\n",
            "batch_normalization_155 (BatchN (None, 3, 3, 192)    576         conv2d_155[0][0]                 \n",
            "__________________________________________________________________________________________________\n",
            "batch_normalization_160 (BatchN (None, 3, 3, 192)    576         conv2d_160[0][0]                 \n",
            "__________________________________________________________________________________________________\n",
            "activation_155 (Activation)     (None, 3, 3, 192)    0           batch_normalization_155[0][0]    \n",
            "__________________________________________________________________________________________________\n",
            "activation_160 (Activation)     (None, 3, 3, 192)    0           batch_normalization_160[0][0]    \n",
            "__________________________________________________________________________________________________\n",
            "conv2d_156 (Conv2D)             (None, 3, 3, 192)    258048      activation_155[0][0]             \n",
            "__________________________________________________________________________________________________\n",
            "conv2d_161 (Conv2D)             (None, 3, 3, 192)    258048      activation_160[0][0]             \n",
            "__________________________________________________________________________________________________\n",
            "batch_normalization_156 (BatchN (None, 3, 3, 192)    576         conv2d_156[0][0]                 \n",
            "__________________________________________________________________________________________________\n",
            "batch_normalization_161 (BatchN (None, 3, 3, 192)    576         conv2d_161[0][0]                 \n",
            "__________________________________________________________________________________________________\n",
            "activation_156 (Activation)     (None, 3, 3, 192)    0           batch_normalization_156[0][0]    \n",
            "__________________________________________________________________________________________________\n",
            "activation_161 (Activation)     (None, 3, 3, 192)    0           batch_normalization_161[0][0]    \n",
            "__________________________________________________________________________________________________\n",
            "average_pooling2d_15 (AveragePo (None, 3, 3, 768)    0           mixed6[0][0]                     \n",
            "__________________________________________________________________________________________________\n",
            "conv2d_154 (Conv2D)             (None, 3, 3, 192)    147456      mixed6[0][0]                     \n",
            "__________________________________________________________________________________________________\n",
            "conv2d_157 (Conv2D)             (None, 3, 3, 192)    258048      activation_156[0][0]             \n",
            "__________________________________________________________________________________________________\n",
            "conv2d_162 (Conv2D)             (None, 3, 3, 192)    258048      activation_161[0][0]             \n",
            "__________________________________________________________________________________________________\n",
            "conv2d_163 (Conv2D)             (None, 3, 3, 192)    147456      average_pooling2d_15[0][0]       \n",
            "__________________________________________________________________________________________________\n",
            "batch_normalization_154 (BatchN (None, 3, 3, 192)    576         conv2d_154[0][0]                 \n",
            "__________________________________________________________________________________________________\n",
            "batch_normalization_157 (BatchN (None, 3, 3, 192)    576         conv2d_157[0][0]                 \n",
            "__________________________________________________________________________________________________\n",
            "batch_normalization_162 (BatchN (None, 3, 3, 192)    576         conv2d_162[0][0]                 \n",
            "__________________________________________________________________________________________________\n",
            "batch_normalization_163 (BatchN (None, 3, 3, 192)    576         conv2d_163[0][0]                 \n",
            "__________________________________________________________________________________________________\n",
            "activation_154 (Activation)     (None, 3, 3, 192)    0           batch_normalization_154[0][0]    \n",
            "__________________________________________________________________________________________________\n",
            "activation_157 (Activation)     (None, 3, 3, 192)    0           batch_normalization_157[0][0]    \n",
            "__________________________________________________________________________________________________\n",
            "activation_162 (Activation)     (None, 3, 3, 192)    0           batch_normalization_162[0][0]    \n",
            "__________________________________________________________________________________________________\n",
            "activation_163 (Activation)     (None, 3, 3, 192)    0           batch_normalization_163[0][0]    \n",
            "__________________________________________________________________________________________________\n",
            "mixed7 (Concatenate)            (None, 3, 3, 768)    0           activation_154[0][0]             \n",
            "                                                                 activation_157[0][0]             \n",
            "                                                                 activation_162[0][0]             \n",
            "                                                                 activation_163[0][0]             \n",
            "__________________________________________________________________________________________________\n",
            "conv2d_166 (Conv2D)             (None, 3, 3, 192)    147456      mixed7[0][0]                     \n",
            "__________________________________________________________________________________________________\n",
            "batch_normalization_166 (BatchN (None, 3, 3, 192)    576         conv2d_166[0][0]                 \n",
            "__________________________________________________________________________________________________\n",
            "activation_166 (Activation)     (None, 3, 3, 192)    0           batch_normalization_166[0][0]    \n",
            "__________________________________________________________________________________________________\n",
            "conv2d_167 (Conv2D)             (None, 3, 3, 192)    258048      activation_166[0][0]             \n",
            "__________________________________________________________________________________________________\n",
            "batch_normalization_167 (BatchN (None, 3, 3, 192)    576         conv2d_167[0][0]                 \n",
            "__________________________________________________________________________________________________\n",
            "activation_167 (Activation)     (None, 3, 3, 192)    0           batch_normalization_167[0][0]    \n",
            "__________________________________________________________________________________________________\n",
            "conv2d_164 (Conv2D)             (None, 3, 3, 192)    147456      mixed7[0][0]                     \n",
            "__________________________________________________________________________________________________\n",
            "conv2d_168 (Conv2D)             (None, 3, 3, 192)    258048      activation_167[0][0]             \n",
            "__________________________________________________________________________________________________\n",
            "batch_normalization_164 (BatchN (None, 3, 3, 192)    576         conv2d_164[0][0]                 \n",
            "__________________________________________________________________________________________________\n",
            "batch_normalization_168 (BatchN (None, 3, 3, 192)    576         conv2d_168[0][0]                 \n",
            "__________________________________________________________________________________________________\n",
            "activation_164 (Activation)     (None, 3, 3, 192)    0           batch_normalization_164[0][0]    \n",
            "__________________________________________________________________________________________________\n",
            "activation_168 (Activation)     (None, 3, 3, 192)    0           batch_normalization_168[0][0]    \n",
            "__________________________________________________________________________________________________\n",
            "conv2d_165 (Conv2D)             (None, 1, 1, 320)    552960      activation_164[0][0]             \n",
            "__________________________________________________________________________________________________\n",
            "conv2d_169 (Conv2D)             (None, 1, 1, 192)    331776      activation_168[0][0]             \n",
            "__________________________________________________________________________________________________\n",
            "batch_normalization_165 (BatchN (None, 1, 1, 320)    960         conv2d_165[0][0]                 \n",
            "__________________________________________________________________________________________________\n",
            "batch_normalization_169 (BatchN (None, 1, 1, 192)    576         conv2d_169[0][0]                 \n",
            "__________________________________________________________________________________________________\n",
            "activation_165 (Activation)     (None, 1, 1, 320)    0           batch_normalization_165[0][0]    \n",
            "__________________________________________________________________________________________________\n",
            "activation_169 (Activation)     (None, 1, 1, 192)    0           batch_normalization_169[0][0]    \n",
            "__________________________________________________________________________________________________\n",
            "max_pooling2d_7 (MaxPooling2D)  (None, 1, 1, 768)    0           mixed7[0][0]                     \n",
            "__________________________________________________________________________________________________\n",
            "mixed8 (Concatenate)            (None, 1, 1, 1280)   0           activation_165[0][0]             \n",
            "                                                                 activation_169[0][0]             \n",
            "                                                                 max_pooling2d_7[0][0]            \n",
            "__________________________________________________________________________________________________\n",
            "conv2d_174 (Conv2D)             (None, 1, 1, 448)    573440      mixed8[0][0]                     \n",
            "__________________________________________________________________________________________________\n",
            "batch_normalization_174 (BatchN (None, 1, 1, 448)    1344        conv2d_174[0][0]                 \n",
            "__________________________________________________________________________________________________\n",
            "activation_174 (Activation)     (None, 1, 1, 448)    0           batch_normalization_174[0][0]    \n",
            "__________________________________________________________________________________________________\n",
            "conv2d_171 (Conv2D)             (None, 1, 1, 384)    491520      mixed8[0][0]                     \n",
            "__________________________________________________________________________________________________\n",
            "conv2d_175 (Conv2D)             (None, 1, 1, 384)    1548288     activation_174[0][0]             \n",
            "__________________________________________________________________________________________________\n",
            "batch_normalization_171 (BatchN (None, 1, 1, 384)    1152        conv2d_171[0][0]                 \n",
            "__________________________________________________________________________________________________\n",
            "batch_normalization_175 (BatchN (None, 1, 1, 384)    1152        conv2d_175[0][0]                 \n",
            "__________________________________________________________________________________________________\n",
            "activation_171 (Activation)     (None, 1, 1, 384)    0           batch_normalization_171[0][0]    \n",
            "__________________________________________________________________________________________________\n",
            "activation_175 (Activation)     (None, 1, 1, 384)    0           batch_normalization_175[0][0]    \n",
            "__________________________________________________________________________________________________\n",
            "conv2d_172 (Conv2D)             (None, 1, 1, 384)    442368      activation_171[0][0]             \n",
            "__________________________________________________________________________________________________\n",
            "conv2d_173 (Conv2D)             (None, 1, 1, 384)    442368      activation_171[0][0]             \n",
            "__________________________________________________________________________________________________\n",
            "conv2d_176 (Conv2D)             (None, 1, 1, 384)    442368      activation_175[0][0]             \n",
            "__________________________________________________________________________________________________\n",
            "conv2d_177 (Conv2D)             (None, 1, 1, 384)    442368      activation_175[0][0]             \n",
            "__________________________________________________________________________________________________\n",
            "average_pooling2d_16 (AveragePo (None, 1, 1, 1280)   0           mixed8[0][0]                     \n",
            "__________________________________________________________________________________________________\n",
            "conv2d_170 (Conv2D)             (None, 1, 1, 320)    409600      mixed8[0][0]                     \n",
            "__________________________________________________________________________________________________\n",
            "batch_normalization_172 (BatchN (None, 1, 1, 384)    1152        conv2d_172[0][0]                 \n",
            "__________________________________________________________________________________________________\n",
            "batch_normalization_173 (BatchN (None, 1, 1, 384)    1152        conv2d_173[0][0]                 \n",
            "__________________________________________________________________________________________________\n",
            "batch_normalization_176 (BatchN (None, 1, 1, 384)    1152        conv2d_176[0][0]                 \n",
            "__________________________________________________________________________________________________\n",
            "batch_normalization_177 (BatchN (None, 1, 1, 384)    1152        conv2d_177[0][0]                 \n",
            "__________________________________________________________________________________________________\n",
            "conv2d_178 (Conv2D)             (None, 1, 1, 192)    245760      average_pooling2d_16[0][0]       \n",
            "__________________________________________________________________________________________________\n",
            "batch_normalization_170 (BatchN (None, 1, 1, 320)    960         conv2d_170[0][0]                 \n",
            "__________________________________________________________________________________________________\n",
            "activation_172 (Activation)     (None, 1, 1, 384)    0           batch_normalization_172[0][0]    \n",
            "__________________________________________________________________________________________________\n",
            "activation_173 (Activation)     (None, 1, 1, 384)    0           batch_normalization_173[0][0]    \n",
            "__________________________________________________________________________________________________\n",
            "activation_176 (Activation)     (None, 1, 1, 384)    0           batch_normalization_176[0][0]    \n",
            "__________________________________________________________________________________________________\n",
            "activation_177 (Activation)     (None, 1, 1, 384)    0           batch_normalization_177[0][0]    \n",
            "__________________________________________________________________________________________________\n",
            "batch_normalization_178 (BatchN (None, 1, 1, 192)    576         conv2d_178[0][0]                 \n",
            "__________________________________________________________________________________________________\n",
            "activation_170 (Activation)     (None, 1, 1, 320)    0           batch_normalization_170[0][0]    \n",
            "__________________________________________________________________________________________________\n",
            "mixed9_0 (Concatenate)          (None, 1, 1, 768)    0           activation_172[0][0]             \n",
            "                                                                 activation_173[0][0]             \n",
            "__________________________________________________________________________________________________\n",
            "concatenate_2 (Concatenate)     (None, 1, 1, 768)    0           activation_176[0][0]             \n",
            "                                                                 activation_177[0][0]             \n",
            "__________________________________________________________________________________________________\n",
            "activation_178 (Activation)     (None, 1, 1, 192)    0           batch_normalization_178[0][0]    \n",
            "__________________________________________________________________________________________________\n",
            "mixed9 (Concatenate)            (None, 1, 1, 2048)   0           activation_170[0][0]             \n",
            "                                                                 mixed9_0[0][0]                   \n",
            "                                                                 concatenate_2[0][0]              \n",
            "                                                                 activation_178[0][0]             \n",
            "__________________________________________________________________________________________________\n",
            "conv2d_183 (Conv2D)             (None, 1, 1, 448)    917504      mixed9[0][0]                     \n",
            "__________________________________________________________________________________________________\n",
            "batch_normalization_183 (BatchN (None, 1, 1, 448)    1344        conv2d_183[0][0]                 \n",
            "__________________________________________________________________________________________________\n",
            "activation_183 (Activation)     (None, 1, 1, 448)    0           batch_normalization_183[0][0]    \n",
            "__________________________________________________________________________________________________\n",
            "conv2d_180 (Conv2D)             (None, 1, 1, 384)    786432      mixed9[0][0]                     \n",
            "__________________________________________________________________________________________________\n",
            "conv2d_184 (Conv2D)             (None, 1, 1, 384)    1548288     activation_183[0][0]             \n",
            "__________________________________________________________________________________________________\n",
            "batch_normalization_180 (BatchN (None, 1, 1, 384)    1152        conv2d_180[0][0]                 \n",
            "__________________________________________________________________________________________________\n",
            "batch_normalization_184 (BatchN (None, 1, 1, 384)    1152        conv2d_184[0][0]                 \n",
            "__________________________________________________________________________________________________\n",
            "activation_180 (Activation)     (None, 1, 1, 384)    0           batch_normalization_180[0][0]    \n",
            "__________________________________________________________________________________________________\n",
            "activation_184 (Activation)     (None, 1, 1, 384)    0           batch_normalization_184[0][0]    \n",
            "__________________________________________________________________________________________________\n",
            "conv2d_181 (Conv2D)             (None, 1, 1, 384)    442368      activation_180[0][0]             \n",
            "__________________________________________________________________________________________________\n",
            "conv2d_182 (Conv2D)             (None, 1, 1, 384)    442368      activation_180[0][0]             \n",
            "__________________________________________________________________________________________________\n",
            "conv2d_185 (Conv2D)             (None, 1, 1, 384)    442368      activation_184[0][0]             \n",
            "__________________________________________________________________________________________________\n",
            "conv2d_186 (Conv2D)             (None, 1, 1, 384)    442368      activation_184[0][0]             \n",
            "__________________________________________________________________________________________________\n",
            "average_pooling2d_17 (AveragePo (None, 1, 1, 2048)   0           mixed9[0][0]                     \n",
            "__________________________________________________________________________________________________\n",
            "conv2d_179 (Conv2D)             (None, 1, 1, 320)    655360      mixed9[0][0]                     \n",
            "__________________________________________________________________________________________________\n",
            "batch_normalization_181 (BatchN (None, 1, 1, 384)    1152        conv2d_181[0][0]                 \n",
            "__________________________________________________________________________________________________\n",
            "batch_normalization_182 (BatchN (None, 1, 1, 384)    1152        conv2d_182[0][0]                 \n",
            "__________________________________________________________________________________________________\n",
            "batch_normalization_185 (BatchN (None, 1, 1, 384)    1152        conv2d_185[0][0]                 \n",
            "__________________________________________________________________________________________________\n",
            "batch_normalization_186 (BatchN (None, 1, 1, 384)    1152        conv2d_186[0][0]                 \n",
            "__________________________________________________________________________________________________\n",
            "conv2d_187 (Conv2D)             (None, 1, 1, 192)    393216      average_pooling2d_17[0][0]       \n",
            "__________________________________________________________________________________________________\n",
            "batch_normalization_179 (BatchN (None, 1, 1, 320)    960         conv2d_179[0][0]                 \n",
            "__________________________________________________________________________________________________\n",
            "activation_181 (Activation)     (None, 1, 1, 384)    0           batch_normalization_181[0][0]    \n",
            "__________________________________________________________________________________________________\n",
            "activation_182 (Activation)     (None, 1, 1, 384)    0           batch_normalization_182[0][0]    \n",
            "__________________________________________________________________________________________________\n",
            "activation_185 (Activation)     (None, 1, 1, 384)    0           batch_normalization_185[0][0]    \n",
            "__________________________________________________________________________________________________\n",
            "activation_186 (Activation)     (None, 1, 1, 384)    0           batch_normalization_186[0][0]    \n",
            "__________________________________________________________________________________________________\n",
            "batch_normalization_187 (BatchN (None, 1, 1, 192)    576         conv2d_187[0][0]                 \n",
            "__________________________________________________________________________________________________\n",
            "activation_179 (Activation)     (None, 1, 1, 320)    0           batch_normalization_179[0][0]    \n",
            "__________________________________________________________________________________________________\n",
            "mixed9_1 (Concatenate)          (None, 1, 1, 768)    0           activation_181[0][0]             \n",
            "                                                                 activation_182[0][0]             \n",
            "__________________________________________________________________________________________________\n",
            "concatenate_3 (Concatenate)     (None, 1, 1, 768)    0           activation_185[0][0]             \n",
            "                                                                 activation_186[0][0]             \n",
            "__________________________________________________________________________________________________\n",
            "activation_187 (Activation)     (None, 1, 1, 192)    0           batch_normalization_187[0][0]    \n",
            "__________________________________________________________________________________________________\n",
            "mixed10 (Concatenate)           (None, 1, 1, 2048)   0           activation_179[0][0]             \n",
            "                                                                 mixed9_1[0][0]                   \n",
            "                                                                 concatenate_3[0][0]              \n",
            "                                                                 activation_187[0][0]             \n",
            "__________________________________________________________________________________________________\n",
            "global_average_pooling2d_1 (Glo (None, 2048)         0           mixed10[0][0]                    \n",
            "==================================================================================================\n",
            "Total params: 21,802,784\n",
            "Trainable params: 21,768,352\n",
            "Non-trainable params: 34,432\n",
            "__________________________________________________________________________________________________\n"
          ],
          "name": "stdout"
        }
      ]
    },
    {
      "cell_type": "code",
      "metadata": {
        "id": "aVhtoDUzImXv"
      },
      "source": [
        "# Making all layers non-trainable; we are retraining some of lower layers to increase performance but it may lead to overfitting\n",
        "for layer in incepv3.layers:\n",
        "  layer.trainable = False"
      ],
      "execution_count": null,
      "outputs": []
    },
    {
      "cell_type": "code",
      "metadata": {
        "id": "aDw4dbkkJScE"
      },
      "source": [
        "# Optimiser = RMSprop with laerning rate of 0.0001\n",
        "from tensorflow.keras.optimizers import RMSprop\n",
        "\n",
        "x = layers.Flatten()(incepv3.output)\n",
        "x = layers.Dense(512, activation= 'relu')(x)\n",
        "x = Dropout(0.7)(x)\n",
        "x = layers.Dense(7, activation= 'sigmoid')(x)\n",
        "\n",
        "model = Model(incepv3.input, x)\n",
        "model.compile(optimizer = RMSprop(lr = 0.0001), loss = 'categorical_crossentropy', metrics = ['acc'])\n",
        "# sgd = SGD(lr=lrate, momentum=0.9, decay=decay, nesterov=False)\n",
        "#adam = Adam(lr=0.0001)\n",
        "#model.compile(optimizer= adam, loss='sparse_categorical_crossentropy', metrics=['accuracy'])"
      ],
      "execution_count": null,
      "outputs": []
    },
    {
      "cell_type": "markdown",
      "metadata": {
        "id": "UGLyFvYqiQJ8"
      },
      "source": [
        "Data Augmentation "
      ]
    },
    {
      "cell_type": "code",
      "metadata": {
        "colab": {
          "base_uri": "https://localhost:8080/"
        },
        "id": "9clgkzTKLJOC",
        "outputId": "3a398667-3849-46fb-a76c-95119f3ead80"
      },
      "source": [
        "# Data Augmentation :\n",
        "train_datagen = ImageDataGenerator(rescale = 1./255.,\n",
        "                                   rotation_range = 40,\n",
        "                                   width_shift_range = 0.2,\n",
        "                                   height_shift_range = 0.2,\n",
        "                                   zoom_range = 0.2,\n",
        "                                   horizontal_flip = True)\n",
        "                                   #validation_split = 0.2)\n",
        "\n",
        "test_datagen = ImageDataGenerator(rescale = 1.0/255. )\n",
        "\n",
        "train_generator = train_datagen.flow_from_directory(directory = '/content/drive/MyDrive/IR_project/IR_Project_Midsem/IR_Data/train',\n",
        "                                                    target_size = (75, 75),\n",
        "                                                    batch_size = 64,\n",
        "                                                    class_mode = \"categorical\")\n",
        "\n",
        "validation_generator = test_datagen.flow_from_directory( directory = '/content/drive/MyDrive/IR_project/IR_Project_Midsem/IR_Data/test',\n",
        "                                                          target_size = (75,75),\n",
        "                                                          batch_size = 64,\n",
        "                                                          class_mode = \"categorical\")"
      ],
      "execution_count": null,
      "outputs": [
        {
          "output_type": "stream",
          "text": [
            "Found 28709 images belonging to 7 classes.\n",
            "Found 7179 images belonging to 7 classes.\n"
          ],
          "name": "stdout"
        }
      ]
    },
    {
      "cell_type": "code",
      "metadata": {
        "id": "0Nyp1XQPPGUy"
      },
      "source": [
        "#test_generator = test_datagen.flow_from_directory(directory = '/content/drive/MyDrive/IR_project/IR_Project_Midsem/IR_Data/test',\n",
        "#                                                  target_size = (img_size,img_size),\n",
        "#                                                  batch_size = 64,\n",
        "#                                                  class_mode = \"categorical\")"
      ],
      "execution_count": null,
      "outputs": []
    },
    {
      "cell_type": "code",
      "metadata": {
        "colab": {
          "base_uri": "https://localhost:8080/"
        },
        "id": "yzfx55IAeTr0",
        "outputId": "106bdb99-6306-4514-add4-f945c6a87b82"
      },
      "source": [
        "model.summary()"
      ],
      "execution_count": null,
      "outputs": [
        {
          "output_type": "stream",
          "text": [
            "Model: \"model_1\"\n",
            "__________________________________________________________________________________________________\n",
            "Layer (type)                    Output Shape         Param #     Connected to                     \n",
            "==================================================================================================\n",
            "input_2 (InputLayer)            [(None, 75, 75, 3)]  0                                            \n",
            "__________________________________________________________________________________________________\n",
            "conv2d_94 (Conv2D)              (None, 37, 37, 32)   864         input_2[0][0]                    \n",
            "__________________________________________________________________________________________________\n",
            "batch_normalization_94 (BatchNo (None, 37, 37, 32)   96          conv2d_94[0][0]                  \n",
            "__________________________________________________________________________________________________\n",
            "activation_94 (Activation)      (None, 37, 37, 32)   0           batch_normalization_94[0][0]     \n",
            "__________________________________________________________________________________________________\n",
            "conv2d_95 (Conv2D)              (None, 35, 35, 32)   9216        activation_94[0][0]              \n",
            "__________________________________________________________________________________________________\n",
            "batch_normalization_95 (BatchNo (None, 35, 35, 32)   96          conv2d_95[0][0]                  \n",
            "__________________________________________________________________________________________________\n",
            "activation_95 (Activation)      (None, 35, 35, 32)   0           batch_normalization_95[0][0]     \n",
            "__________________________________________________________________________________________________\n",
            "conv2d_96 (Conv2D)              (None, 35, 35, 64)   18432       activation_95[0][0]              \n",
            "__________________________________________________________________________________________________\n",
            "batch_normalization_96 (BatchNo (None, 35, 35, 64)   192         conv2d_96[0][0]                  \n",
            "__________________________________________________________________________________________________\n",
            "activation_96 (Activation)      (None, 35, 35, 64)   0           batch_normalization_96[0][0]     \n",
            "__________________________________________________________________________________________________\n",
            "max_pooling2d_4 (MaxPooling2D)  (None, 17, 17, 64)   0           activation_96[0][0]              \n",
            "__________________________________________________________________________________________________\n",
            "conv2d_97 (Conv2D)              (None, 17, 17, 80)   5120        max_pooling2d_4[0][0]            \n",
            "__________________________________________________________________________________________________\n",
            "batch_normalization_97 (BatchNo (None, 17, 17, 80)   240         conv2d_97[0][0]                  \n",
            "__________________________________________________________________________________________________\n",
            "activation_97 (Activation)      (None, 17, 17, 80)   0           batch_normalization_97[0][0]     \n",
            "__________________________________________________________________________________________________\n",
            "conv2d_98 (Conv2D)              (None, 15, 15, 192)  138240      activation_97[0][0]              \n",
            "__________________________________________________________________________________________________\n",
            "batch_normalization_98 (BatchNo (None, 15, 15, 192)  576         conv2d_98[0][0]                  \n",
            "__________________________________________________________________________________________________\n",
            "activation_98 (Activation)      (None, 15, 15, 192)  0           batch_normalization_98[0][0]     \n",
            "__________________________________________________________________________________________________\n",
            "max_pooling2d_5 (MaxPooling2D)  (None, 7, 7, 192)    0           activation_98[0][0]              \n",
            "__________________________________________________________________________________________________\n",
            "conv2d_102 (Conv2D)             (None, 7, 7, 64)     12288       max_pooling2d_5[0][0]            \n",
            "__________________________________________________________________________________________________\n",
            "batch_normalization_102 (BatchN (None, 7, 7, 64)     192         conv2d_102[0][0]                 \n",
            "__________________________________________________________________________________________________\n",
            "activation_102 (Activation)     (None, 7, 7, 64)     0           batch_normalization_102[0][0]    \n",
            "__________________________________________________________________________________________________\n",
            "conv2d_100 (Conv2D)             (None, 7, 7, 48)     9216        max_pooling2d_5[0][0]            \n",
            "__________________________________________________________________________________________________\n",
            "conv2d_103 (Conv2D)             (None, 7, 7, 96)     55296       activation_102[0][0]             \n",
            "__________________________________________________________________________________________________\n",
            "batch_normalization_100 (BatchN (None, 7, 7, 48)     144         conv2d_100[0][0]                 \n",
            "__________________________________________________________________________________________________\n",
            "batch_normalization_103 (BatchN (None, 7, 7, 96)     288         conv2d_103[0][0]                 \n",
            "__________________________________________________________________________________________________\n",
            "activation_100 (Activation)     (None, 7, 7, 48)     0           batch_normalization_100[0][0]    \n",
            "__________________________________________________________________________________________________\n",
            "activation_103 (Activation)     (None, 7, 7, 96)     0           batch_normalization_103[0][0]    \n",
            "__________________________________________________________________________________________________\n",
            "average_pooling2d_9 (AveragePoo (None, 7, 7, 192)    0           max_pooling2d_5[0][0]            \n",
            "__________________________________________________________________________________________________\n",
            "conv2d_99 (Conv2D)              (None, 7, 7, 64)     12288       max_pooling2d_5[0][0]            \n",
            "__________________________________________________________________________________________________\n",
            "conv2d_101 (Conv2D)             (None, 7, 7, 64)     76800       activation_100[0][0]             \n",
            "__________________________________________________________________________________________________\n",
            "conv2d_104 (Conv2D)             (None, 7, 7, 96)     82944       activation_103[0][0]             \n",
            "__________________________________________________________________________________________________\n",
            "conv2d_105 (Conv2D)             (None, 7, 7, 32)     6144        average_pooling2d_9[0][0]        \n",
            "__________________________________________________________________________________________________\n",
            "batch_normalization_99 (BatchNo (None, 7, 7, 64)     192         conv2d_99[0][0]                  \n",
            "__________________________________________________________________________________________________\n",
            "batch_normalization_101 (BatchN (None, 7, 7, 64)     192         conv2d_101[0][0]                 \n",
            "__________________________________________________________________________________________________\n",
            "batch_normalization_104 (BatchN (None, 7, 7, 96)     288         conv2d_104[0][0]                 \n",
            "__________________________________________________________________________________________________\n",
            "batch_normalization_105 (BatchN (None, 7, 7, 32)     96          conv2d_105[0][0]                 \n",
            "__________________________________________________________________________________________________\n",
            "activation_99 (Activation)      (None, 7, 7, 64)     0           batch_normalization_99[0][0]     \n",
            "__________________________________________________________________________________________________\n",
            "activation_101 (Activation)     (None, 7, 7, 64)     0           batch_normalization_101[0][0]    \n",
            "__________________________________________________________________________________________________\n",
            "activation_104 (Activation)     (None, 7, 7, 96)     0           batch_normalization_104[0][0]    \n",
            "__________________________________________________________________________________________________\n",
            "activation_105 (Activation)     (None, 7, 7, 32)     0           batch_normalization_105[0][0]    \n",
            "__________________________________________________________________________________________________\n",
            "mixed0 (Concatenate)            (None, 7, 7, 256)    0           activation_99[0][0]              \n",
            "                                                                 activation_101[0][0]             \n",
            "                                                                 activation_104[0][0]             \n",
            "                                                                 activation_105[0][0]             \n",
            "__________________________________________________________________________________________________\n",
            "conv2d_109 (Conv2D)             (None, 7, 7, 64)     16384       mixed0[0][0]                     \n",
            "__________________________________________________________________________________________________\n",
            "batch_normalization_109 (BatchN (None, 7, 7, 64)     192         conv2d_109[0][0]                 \n",
            "__________________________________________________________________________________________________\n",
            "activation_109 (Activation)     (None, 7, 7, 64)     0           batch_normalization_109[0][0]    \n",
            "__________________________________________________________________________________________________\n",
            "conv2d_107 (Conv2D)             (None, 7, 7, 48)     12288       mixed0[0][0]                     \n",
            "__________________________________________________________________________________________________\n",
            "conv2d_110 (Conv2D)             (None, 7, 7, 96)     55296       activation_109[0][0]             \n",
            "__________________________________________________________________________________________________\n",
            "batch_normalization_107 (BatchN (None, 7, 7, 48)     144         conv2d_107[0][0]                 \n",
            "__________________________________________________________________________________________________\n",
            "batch_normalization_110 (BatchN (None, 7, 7, 96)     288         conv2d_110[0][0]                 \n",
            "__________________________________________________________________________________________________\n",
            "activation_107 (Activation)     (None, 7, 7, 48)     0           batch_normalization_107[0][0]    \n",
            "__________________________________________________________________________________________________\n",
            "activation_110 (Activation)     (None, 7, 7, 96)     0           batch_normalization_110[0][0]    \n",
            "__________________________________________________________________________________________________\n",
            "average_pooling2d_10 (AveragePo (None, 7, 7, 256)    0           mixed0[0][0]                     \n",
            "__________________________________________________________________________________________________\n",
            "conv2d_106 (Conv2D)             (None, 7, 7, 64)     16384       mixed0[0][0]                     \n",
            "__________________________________________________________________________________________________\n",
            "conv2d_108 (Conv2D)             (None, 7, 7, 64)     76800       activation_107[0][0]             \n",
            "__________________________________________________________________________________________________\n",
            "conv2d_111 (Conv2D)             (None, 7, 7, 96)     82944       activation_110[0][0]             \n",
            "__________________________________________________________________________________________________\n",
            "conv2d_112 (Conv2D)             (None, 7, 7, 64)     16384       average_pooling2d_10[0][0]       \n",
            "__________________________________________________________________________________________________\n",
            "batch_normalization_106 (BatchN (None, 7, 7, 64)     192         conv2d_106[0][0]                 \n",
            "__________________________________________________________________________________________________\n",
            "batch_normalization_108 (BatchN (None, 7, 7, 64)     192         conv2d_108[0][0]                 \n",
            "__________________________________________________________________________________________________\n",
            "batch_normalization_111 (BatchN (None, 7, 7, 96)     288         conv2d_111[0][0]                 \n",
            "__________________________________________________________________________________________________\n",
            "batch_normalization_112 (BatchN (None, 7, 7, 64)     192         conv2d_112[0][0]                 \n",
            "__________________________________________________________________________________________________\n",
            "activation_106 (Activation)     (None, 7, 7, 64)     0           batch_normalization_106[0][0]    \n",
            "__________________________________________________________________________________________________\n",
            "activation_108 (Activation)     (None, 7, 7, 64)     0           batch_normalization_108[0][0]    \n",
            "__________________________________________________________________________________________________\n",
            "activation_111 (Activation)     (None, 7, 7, 96)     0           batch_normalization_111[0][0]    \n",
            "__________________________________________________________________________________________________\n",
            "activation_112 (Activation)     (None, 7, 7, 64)     0           batch_normalization_112[0][0]    \n",
            "__________________________________________________________________________________________________\n",
            "mixed1 (Concatenate)            (None, 7, 7, 288)    0           activation_106[0][0]             \n",
            "                                                                 activation_108[0][0]             \n",
            "                                                                 activation_111[0][0]             \n",
            "                                                                 activation_112[0][0]             \n",
            "__________________________________________________________________________________________________\n",
            "conv2d_116 (Conv2D)             (None, 7, 7, 64)     18432       mixed1[0][0]                     \n",
            "__________________________________________________________________________________________________\n",
            "batch_normalization_116 (BatchN (None, 7, 7, 64)     192         conv2d_116[0][0]                 \n",
            "__________________________________________________________________________________________________\n",
            "activation_116 (Activation)     (None, 7, 7, 64)     0           batch_normalization_116[0][0]    \n",
            "__________________________________________________________________________________________________\n",
            "conv2d_114 (Conv2D)             (None, 7, 7, 48)     13824       mixed1[0][0]                     \n",
            "__________________________________________________________________________________________________\n",
            "conv2d_117 (Conv2D)             (None, 7, 7, 96)     55296       activation_116[0][0]             \n",
            "__________________________________________________________________________________________________\n",
            "batch_normalization_114 (BatchN (None, 7, 7, 48)     144         conv2d_114[0][0]                 \n",
            "__________________________________________________________________________________________________\n",
            "batch_normalization_117 (BatchN (None, 7, 7, 96)     288         conv2d_117[0][0]                 \n",
            "__________________________________________________________________________________________________\n",
            "activation_114 (Activation)     (None, 7, 7, 48)     0           batch_normalization_114[0][0]    \n",
            "__________________________________________________________________________________________________\n",
            "activation_117 (Activation)     (None, 7, 7, 96)     0           batch_normalization_117[0][0]    \n",
            "__________________________________________________________________________________________________\n",
            "average_pooling2d_11 (AveragePo (None, 7, 7, 288)    0           mixed1[0][0]                     \n",
            "__________________________________________________________________________________________________\n",
            "conv2d_113 (Conv2D)             (None, 7, 7, 64)     18432       mixed1[0][0]                     \n",
            "__________________________________________________________________________________________________\n",
            "conv2d_115 (Conv2D)             (None, 7, 7, 64)     76800       activation_114[0][0]             \n",
            "__________________________________________________________________________________________________\n",
            "conv2d_118 (Conv2D)             (None, 7, 7, 96)     82944       activation_117[0][0]             \n",
            "__________________________________________________________________________________________________\n",
            "conv2d_119 (Conv2D)             (None, 7, 7, 64)     18432       average_pooling2d_11[0][0]       \n",
            "__________________________________________________________________________________________________\n",
            "batch_normalization_113 (BatchN (None, 7, 7, 64)     192         conv2d_113[0][0]                 \n",
            "__________________________________________________________________________________________________\n",
            "batch_normalization_115 (BatchN (None, 7, 7, 64)     192         conv2d_115[0][0]                 \n",
            "__________________________________________________________________________________________________\n",
            "batch_normalization_118 (BatchN (None, 7, 7, 96)     288         conv2d_118[0][0]                 \n",
            "__________________________________________________________________________________________________\n",
            "batch_normalization_119 (BatchN (None, 7, 7, 64)     192         conv2d_119[0][0]                 \n",
            "__________________________________________________________________________________________________\n",
            "activation_113 (Activation)     (None, 7, 7, 64)     0           batch_normalization_113[0][0]    \n",
            "__________________________________________________________________________________________________\n",
            "activation_115 (Activation)     (None, 7, 7, 64)     0           batch_normalization_115[0][0]    \n",
            "__________________________________________________________________________________________________\n",
            "activation_118 (Activation)     (None, 7, 7, 96)     0           batch_normalization_118[0][0]    \n",
            "__________________________________________________________________________________________________\n",
            "activation_119 (Activation)     (None, 7, 7, 64)     0           batch_normalization_119[0][0]    \n",
            "__________________________________________________________________________________________________\n",
            "mixed2 (Concatenate)            (None, 7, 7, 288)    0           activation_113[0][0]             \n",
            "                                                                 activation_115[0][0]             \n",
            "                                                                 activation_118[0][0]             \n",
            "                                                                 activation_119[0][0]             \n",
            "__________________________________________________________________________________________________\n",
            "conv2d_121 (Conv2D)             (None, 7, 7, 64)     18432       mixed2[0][0]                     \n",
            "__________________________________________________________________________________________________\n",
            "batch_normalization_121 (BatchN (None, 7, 7, 64)     192         conv2d_121[0][0]                 \n",
            "__________________________________________________________________________________________________\n",
            "activation_121 (Activation)     (None, 7, 7, 64)     0           batch_normalization_121[0][0]    \n",
            "__________________________________________________________________________________________________\n",
            "conv2d_122 (Conv2D)             (None, 7, 7, 96)     55296       activation_121[0][0]             \n",
            "__________________________________________________________________________________________________\n",
            "batch_normalization_122 (BatchN (None, 7, 7, 96)     288         conv2d_122[0][0]                 \n",
            "__________________________________________________________________________________________________\n",
            "activation_122 (Activation)     (None, 7, 7, 96)     0           batch_normalization_122[0][0]    \n",
            "__________________________________________________________________________________________________\n",
            "conv2d_120 (Conv2D)             (None, 3, 3, 384)    995328      mixed2[0][0]                     \n",
            "__________________________________________________________________________________________________\n",
            "conv2d_123 (Conv2D)             (None, 3, 3, 96)     82944       activation_122[0][0]             \n",
            "__________________________________________________________________________________________________\n",
            "batch_normalization_120 (BatchN (None, 3, 3, 384)    1152        conv2d_120[0][0]                 \n",
            "__________________________________________________________________________________________________\n",
            "batch_normalization_123 (BatchN (None, 3, 3, 96)     288         conv2d_123[0][0]                 \n",
            "__________________________________________________________________________________________________\n",
            "activation_120 (Activation)     (None, 3, 3, 384)    0           batch_normalization_120[0][0]    \n",
            "__________________________________________________________________________________________________\n",
            "activation_123 (Activation)     (None, 3, 3, 96)     0           batch_normalization_123[0][0]    \n",
            "__________________________________________________________________________________________________\n",
            "max_pooling2d_6 (MaxPooling2D)  (None, 3, 3, 288)    0           mixed2[0][0]                     \n",
            "__________________________________________________________________________________________________\n",
            "mixed3 (Concatenate)            (None, 3, 3, 768)    0           activation_120[0][0]             \n",
            "                                                                 activation_123[0][0]             \n",
            "                                                                 max_pooling2d_6[0][0]            \n",
            "__________________________________________________________________________________________________\n",
            "conv2d_128 (Conv2D)             (None, 3, 3, 128)    98304       mixed3[0][0]                     \n",
            "__________________________________________________________________________________________________\n",
            "batch_normalization_128 (BatchN (None, 3, 3, 128)    384         conv2d_128[0][0]                 \n",
            "__________________________________________________________________________________________________\n",
            "activation_128 (Activation)     (None, 3, 3, 128)    0           batch_normalization_128[0][0]    \n",
            "__________________________________________________________________________________________________\n",
            "conv2d_129 (Conv2D)             (None, 3, 3, 128)    114688      activation_128[0][0]             \n",
            "__________________________________________________________________________________________________\n",
            "batch_normalization_129 (BatchN (None, 3, 3, 128)    384         conv2d_129[0][0]                 \n",
            "__________________________________________________________________________________________________\n",
            "activation_129 (Activation)     (None, 3, 3, 128)    0           batch_normalization_129[0][0]    \n",
            "__________________________________________________________________________________________________\n",
            "conv2d_125 (Conv2D)             (None, 3, 3, 128)    98304       mixed3[0][0]                     \n",
            "__________________________________________________________________________________________________\n",
            "conv2d_130 (Conv2D)             (None, 3, 3, 128)    114688      activation_129[0][0]             \n",
            "__________________________________________________________________________________________________\n",
            "batch_normalization_125 (BatchN (None, 3, 3, 128)    384         conv2d_125[0][0]                 \n",
            "__________________________________________________________________________________________________\n",
            "batch_normalization_130 (BatchN (None, 3, 3, 128)    384         conv2d_130[0][0]                 \n",
            "__________________________________________________________________________________________________\n",
            "activation_125 (Activation)     (None, 3, 3, 128)    0           batch_normalization_125[0][0]    \n",
            "__________________________________________________________________________________________________\n",
            "activation_130 (Activation)     (None, 3, 3, 128)    0           batch_normalization_130[0][0]    \n",
            "__________________________________________________________________________________________________\n",
            "conv2d_126 (Conv2D)             (None, 3, 3, 128)    114688      activation_125[0][0]             \n",
            "__________________________________________________________________________________________________\n",
            "conv2d_131 (Conv2D)             (None, 3, 3, 128)    114688      activation_130[0][0]             \n",
            "__________________________________________________________________________________________________\n",
            "batch_normalization_126 (BatchN (None, 3, 3, 128)    384         conv2d_126[0][0]                 \n",
            "__________________________________________________________________________________________________\n",
            "batch_normalization_131 (BatchN (None, 3, 3, 128)    384         conv2d_131[0][0]                 \n",
            "__________________________________________________________________________________________________\n",
            "activation_126 (Activation)     (None, 3, 3, 128)    0           batch_normalization_126[0][0]    \n",
            "__________________________________________________________________________________________________\n",
            "activation_131 (Activation)     (None, 3, 3, 128)    0           batch_normalization_131[0][0]    \n",
            "__________________________________________________________________________________________________\n",
            "average_pooling2d_12 (AveragePo (None, 3, 3, 768)    0           mixed3[0][0]                     \n",
            "__________________________________________________________________________________________________\n",
            "conv2d_124 (Conv2D)             (None, 3, 3, 192)    147456      mixed3[0][0]                     \n",
            "__________________________________________________________________________________________________\n",
            "conv2d_127 (Conv2D)             (None, 3, 3, 192)    172032      activation_126[0][0]             \n",
            "__________________________________________________________________________________________________\n",
            "conv2d_132 (Conv2D)             (None, 3, 3, 192)    172032      activation_131[0][0]             \n",
            "__________________________________________________________________________________________________\n",
            "conv2d_133 (Conv2D)             (None, 3, 3, 192)    147456      average_pooling2d_12[0][0]       \n",
            "__________________________________________________________________________________________________\n",
            "batch_normalization_124 (BatchN (None, 3, 3, 192)    576         conv2d_124[0][0]                 \n",
            "__________________________________________________________________________________________________\n",
            "batch_normalization_127 (BatchN (None, 3, 3, 192)    576         conv2d_127[0][0]                 \n",
            "__________________________________________________________________________________________________\n",
            "batch_normalization_132 (BatchN (None, 3, 3, 192)    576         conv2d_132[0][0]                 \n",
            "__________________________________________________________________________________________________\n",
            "batch_normalization_133 (BatchN (None, 3, 3, 192)    576         conv2d_133[0][0]                 \n",
            "__________________________________________________________________________________________________\n",
            "activation_124 (Activation)     (None, 3, 3, 192)    0           batch_normalization_124[0][0]    \n",
            "__________________________________________________________________________________________________\n",
            "activation_127 (Activation)     (None, 3, 3, 192)    0           batch_normalization_127[0][0]    \n",
            "__________________________________________________________________________________________________\n",
            "activation_132 (Activation)     (None, 3, 3, 192)    0           batch_normalization_132[0][0]    \n",
            "__________________________________________________________________________________________________\n",
            "activation_133 (Activation)     (None, 3, 3, 192)    0           batch_normalization_133[0][0]    \n",
            "__________________________________________________________________________________________________\n",
            "mixed4 (Concatenate)            (None, 3, 3, 768)    0           activation_124[0][0]             \n",
            "                                                                 activation_127[0][0]             \n",
            "                                                                 activation_132[0][0]             \n",
            "                                                                 activation_133[0][0]             \n",
            "__________________________________________________________________________________________________\n",
            "conv2d_138 (Conv2D)             (None, 3, 3, 160)    122880      mixed4[0][0]                     \n",
            "__________________________________________________________________________________________________\n",
            "batch_normalization_138 (BatchN (None, 3, 3, 160)    480         conv2d_138[0][0]                 \n",
            "__________________________________________________________________________________________________\n",
            "activation_138 (Activation)     (None, 3, 3, 160)    0           batch_normalization_138[0][0]    \n",
            "__________________________________________________________________________________________________\n",
            "conv2d_139 (Conv2D)             (None, 3, 3, 160)    179200      activation_138[0][0]             \n",
            "__________________________________________________________________________________________________\n",
            "batch_normalization_139 (BatchN (None, 3, 3, 160)    480         conv2d_139[0][0]                 \n",
            "__________________________________________________________________________________________________\n",
            "activation_139 (Activation)     (None, 3, 3, 160)    0           batch_normalization_139[0][0]    \n",
            "__________________________________________________________________________________________________\n",
            "conv2d_135 (Conv2D)             (None, 3, 3, 160)    122880      mixed4[0][0]                     \n",
            "__________________________________________________________________________________________________\n",
            "conv2d_140 (Conv2D)             (None, 3, 3, 160)    179200      activation_139[0][0]             \n",
            "__________________________________________________________________________________________________\n",
            "batch_normalization_135 (BatchN (None, 3, 3, 160)    480         conv2d_135[0][0]                 \n",
            "__________________________________________________________________________________________________\n",
            "batch_normalization_140 (BatchN (None, 3, 3, 160)    480         conv2d_140[0][0]                 \n",
            "__________________________________________________________________________________________________\n",
            "activation_135 (Activation)     (None, 3, 3, 160)    0           batch_normalization_135[0][0]    \n",
            "__________________________________________________________________________________________________\n",
            "activation_140 (Activation)     (None, 3, 3, 160)    0           batch_normalization_140[0][0]    \n",
            "__________________________________________________________________________________________________\n",
            "conv2d_136 (Conv2D)             (None, 3, 3, 160)    179200      activation_135[0][0]             \n",
            "__________________________________________________________________________________________________\n",
            "conv2d_141 (Conv2D)             (None, 3, 3, 160)    179200      activation_140[0][0]             \n",
            "__________________________________________________________________________________________________\n",
            "batch_normalization_136 (BatchN (None, 3, 3, 160)    480         conv2d_136[0][0]                 \n",
            "__________________________________________________________________________________________________\n",
            "batch_normalization_141 (BatchN (None, 3, 3, 160)    480         conv2d_141[0][0]                 \n",
            "__________________________________________________________________________________________________\n",
            "activation_136 (Activation)     (None, 3, 3, 160)    0           batch_normalization_136[0][0]    \n",
            "__________________________________________________________________________________________________\n",
            "activation_141 (Activation)     (None, 3, 3, 160)    0           batch_normalization_141[0][0]    \n",
            "__________________________________________________________________________________________________\n",
            "average_pooling2d_13 (AveragePo (None, 3, 3, 768)    0           mixed4[0][0]                     \n",
            "__________________________________________________________________________________________________\n",
            "conv2d_134 (Conv2D)             (None, 3, 3, 192)    147456      mixed4[0][0]                     \n",
            "__________________________________________________________________________________________________\n",
            "conv2d_137 (Conv2D)             (None, 3, 3, 192)    215040      activation_136[0][0]             \n",
            "__________________________________________________________________________________________________\n",
            "conv2d_142 (Conv2D)             (None, 3, 3, 192)    215040      activation_141[0][0]             \n",
            "__________________________________________________________________________________________________\n",
            "conv2d_143 (Conv2D)             (None, 3, 3, 192)    147456      average_pooling2d_13[0][0]       \n",
            "__________________________________________________________________________________________________\n",
            "batch_normalization_134 (BatchN (None, 3, 3, 192)    576         conv2d_134[0][0]                 \n",
            "__________________________________________________________________________________________________\n",
            "batch_normalization_137 (BatchN (None, 3, 3, 192)    576         conv2d_137[0][0]                 \n",
            "__________________________________________________________________________________________________\n",
            "batch_normalization_142 (BatchN (None, 3, 3, 192)    576         conv2d_142[0][0]                 \n",
            "__________________________________________________________________________________________________\n",
            "batch_normalization_143 (BatchN (None, 3, 3, 192)    576         conv2d_143[0][0]                 \n",
            "__________________________________________________________________________________________________\n",
            "activation_134 (Activation)     (None, 3, 3, 192)    0           batch_normalization_134[0][0]    \n",
            "__________________________________________________________________________________________________\n",
            "activation_137 (Activation)     (None, 3, 3, 192)    0           batch_normalization_137[0][0]    \n",
            "__________________________________________________________________________________________________\n",
            "activation_142 (Activation)     (None, 3, 3, 192)    0           batch_normalization_142[0][0]    \n",
            "__________________________________________________________________________________________________\n",
            "activation_143 (Activation)     (None, 3, 3, 192)    0           batch_normalization_143[0][0]    \n",
            "__________________________________________________________________________________________________\n",
            "mixed5 (Concatenate)            (None, 3, 3, 768)    0           activation_134[0][0]             \n",
            "                                                                 activation_137[0][0]             \n",
            "                                                                 activation_142[0][0]             \n",
            "                                                                 activation_143[0][0]             \n",
            "__________________________________________________________________________________________________\n",
            "conv2d_148 (Conv2D)             (None, 3, 3, 160)    122880      mixed5[0][0]                     \n",
            "__________________________________________________________________________________________________\n",
            "batch_normalization_148 (BatchN (None, 3, 3, 160)    480         conv2d_148[0][0]                 \n",
            "__________________________________________________________________________________________________\n",
            "activation_148 (Activation)     (None, 3, 3, 160)    0           batch_normalization_148[0][0]    \n",
            "__________________________________________________________________________________________________\n",
            "conv2d_149 (Conv2D)             (None, 3, 3, 160)    179200      activation_148[0][0]             \n",
            "__________________________________________________________________________________________________\n",
            "batch_normalization_149 (BatchN (None, 3, 3, 160)    480         conv2d_149[0][0]                 \n",
            "__________________________________________________________________________________________________\n",
            "activation_149 (Activation)     (None, 3, 3, 160)    0           batch_normalization_149[0][0]    \n",
            "__________________________________________________________________________________________________\n",
            "conv2d_145 (Conv2D)             (None, 3, 3, 160)    122880      mixed5[0][0]                     \n",
            "__________________________________________________________________________________________________\n",
            "conv2d_150 (Conv2D)             (None, 3, 3, 160)    179200      activation_149[0][0]             \n",
            "__________________________________________________________________________________________________\n",
            "batch_normalization_145 (BatchN (None, 3, 3, 160)    480         conv2d_145[0][0]                 \n",
            "__________________________________________________________________________________________________\n",
            "batch_normalization_150 (BatchN (None, 3, 3, 160)    480         conv2d_150[0][0]                 \n",
            "__________________________________________________________________________________________________\n",
            "activation_145 (Activation)     (None, 3, 3, 160)    0           batch_normalization_145[0][0]    \n",
            "__________________________________________________________________________________________________\n",
            "activation_150 (Activation)     (None, 3, 3, 160)    0           batch_normalization_150[0][0]    \n",
            "__________________________________________________________________________________________________\n",
            "conv2d_146 (Conv2D)             (None, 3, 3, 160)    179200      activation_145[0][0]             \n",
            "__________________________________________________________________________________________________\n",
            "conv2d_151 (Conv2D)             (None, 3, 3, 160)    179200      activation_150[0][0]             \n",
            "__________________________________________________________________________________________________\n",
            "batch_normalization_146 (BatchN (None, 3, 3, 160)    480         conv2d_146[0][0]                 \n",
            "__________________________________________________________________________________________________\n",
            "batch_normalization_151 (BatchN (None, 3, 3, 160)    480         conv2d_151[0][0]                 \n",
            "__________________________________________________________________________________________________\n",
            "activation_146 (Activation)     (None, 3, 3, 160)    0           batch_normalization_146[0][0]    \n",
            "__________________________________________________________________________________________________\n",
            "activation_151 (Activation)     (None, 3, 3, 160)    0           batch_normalization_151[0][0]    \n",
            "__________________________________________________________________________________________________\n",
            "average_pooling2d_14 (AveragePo (None, 3, 3, 768)    0           mixed5[0][0]                     \n",
            "__________________________________________________________________________________________________\n",
            "conv2d_144 (Conv2D)             (None, 3, 3, 192)    147456      mixed5[0][0]                     \n",
            "__________________________________________________________________________________________________\n",
            "conv2d_147 (Conv2D)             (None, 3, 3, 192)    215040      activation_146[0][0]             \n",
            "__________________________________________________________________________________________________\n",
            "conv2d_152 (Conv2D)             (None, 3, 3, 192)    215040      activation_151[0][0]             \n",
            "__________________________________________________________________________________________________\n",
            "conv2d_153 (Conv2D)             (None, 3, 3, 192)    147456      average_pooling2d_14[0][0]       \n",
            "__________________________________________________________________________________________________\n",
            "batch_normalization_144 (BatchN (None, 3, 3, 192)    576         conv2d_144[0][0]                 \n",
            "__________________________________________________________________________________________________\n",
            "batch_normalization_147 (BatchN (None, 3, 3, 192)    576         conv2d_147[0][0]                 \n",
            "__________________________________________________________________________________________________\n",
            "batch_normalization_152 (BatchN (None, 3, 3, 192)    576         conv2d_152[0][0]                 \n",
            "__________________________________________________________________________________________________\n",
            "batch_normalization_153 (BatchN (None, 3, 3, 192)    576         conv2d_153[0][0]                 \n",
            "__________________________________________________________________________________________________\n",
            "activation_144 (Activation)     (None, 3, 3, 192)    0           batch_normalization_144[0][0]    \n",
            "__________________________________________________________________________________________________\n",
            "activation_147 (Activation)     (None, 3, 3, 192)    0           batch_normalization_147[0][0]    \n",
            "__________________________________________________________________________________________________\n",
            "activation_152 (Activation)     (None, 3, 3, 192)    0           batch_normalization_152[0][0]    \n",
            "__________________________________________________________________________________________________\n",
            "activation_153 (Activation)     (None, 3, 3, 192)    0           batch_normalization_153[0][0]    \n",
            "__________________________________________________________________________________________________\n",
            "mixed6 (Concatenate)            (None, 3, 3, 768)    0           activation_144[0][0]             \n",
            "                                                                 activation_147[0][0]             \n",
            "                                                                 activation_152[0][0]             \n",
            "                                                                 activation_153[0][0]             \n",
            "__________________________________________________________________________________________________\n",
            "conv2d_158 (Conv2D)             (None, 3, 3, 192)    147456      mixed6[0][0]                     \n",
            "__________________________________________________________________________________________________\n",
            "batch_normalization_158 (BatchN (None, 3, 3, 192)    576         conv2d_158[0][0]                 \n",
            "__________________________________________________________________________________________________\n",
            "activation_158 (Activation)     (None, 3, 3, 192)    0           batch_normalization_158[0][0]    \n",
            "__________________________________________________________________________________________________\n",
            "conv2d_159 (Conv2D)             (None, 3, 3, 192)    258048      activation_158[0][0]             \n",
            "__________________________________________________________________________________________________\n",
            "batch_normalization_159 (BatchN (None, 3, 3, 192)    576         conv2d_159[0][0]                 \n",
            "__________________________________________________________________________________________________\n",
            "activation_159 (Activation)     (None, 3, 3, 192)    0           batch_normalization_159[0][0]    \n",
            "__________________________________________________________________________________________________\n",
            "conv2d_155 (Conv2D)             (None, 3, 3, 192)    147456      mixed6[0][0]                     \n",
            "__________________________________________________________________________________________________\n",
            "conv2d_160 (Conv2D)             (None, 3, 3, 192)    258048      activation_159[0][0]             \n",
            "__________________________________________________________________________________________________\n",
            "batch_normalization_155 (BatchN (None, 3, 3, 192)    576         conv2d_155[0][0]                 \n",
            "__________________________________________________________________________________________________\n",
            "batch_normalization_160 (BatchN (None, 3, 3, 192)    576         conv2d_160[0][0]                 \n",
            "__________________________________________________________________________________________________\n",
            "activation_155 (Activation)     (None, 3, 3, 192)    0           batch_normalization_155[0][0]    \n",
            "__________________________________________________________________________________________________\n",
            "activation_160 (Activation)     (None, 3, 3, 192)    0           batch_normalization_160[0][0]    \n",
            "__________________________________________________________________________________________________\n",
            "conv2d_156 (Conv2D)             (None, 3, 3, 192)    258048      activation_155[0][0]             \n",
            "__________________________________________________________________________________________________\n",
            "conv2d_161 (Conv2D)             (None, 3, 3, 192)    258048      activation_160[0][0]             \n",
            "__________________________________________________________________________________________________\n",
            "batch_normalization_156 (BatchN (None, 3, 3, 192)    576         conv2d_156[0][0]                 \n",
            "__________________________________________________________________________________________________\n",
            "batch_normalization_161 (BatchN (None, 3, 3, 192)    576         conv2d_161[0][0]                 \n",
            "__________________________________________________________________________________________________\n",
            "activation_156 (Activation)     (None, 3, 3, 192)    0           batch_normalization_156[0][0]    \n",
            "__________________________________________________________________________________________________\n",
            "activation_161 (Activation)     (None, 3, 3, 192)    0           batch_normalization_161[0][0]    \n",
            "__________________________________________________________________________________________________\n",
            "average_pooling2d_15 (AveragePo (None, 3, 3, 768)    0           mixed6[0][0]                     \n",
            "__________________________________________________________________________________________________\n",
            "conv2d_154 (Conv2D)             (None, 3, 3, 192)    147456      mixed6[0][0]                     \n",
            "__________________________________________________________________________________________________\n",
            "conv2d_157 (Conv2D)             (None, 3, 3, 192)    258048      activation_156[0][0]             \n",
            "__________________________________________________________________________________________________\n",
            "conv2d_162 (Conv2D)             (None, 3, 3, 192)    258048      activation_161[0][0]             \n",
            "__________________________________________________________________________________________________\n",
            "conv2d_163 (Conv2D)             (None, 3, 3, 192)    147456      average_pooling2d_15[0][0]       \n",
            "__________________________________________________________________________________________________\n",
            "batch_normalization_154 (BatchN (None, 3, 3, 192)    576         conv2d_154[0][0]                 \n",
            "__________________________________________________________________________________________________\n",
            "batch_normalization_157 (BatchN (None, 3, 3, 192)    576         conv2d_157[0][0]                 \n",
            "__________________________________________________________________________________________________\n",
            "batch_normalization_162 (BatchN (None, 3, 3, 192)    576         conv2d_162[0][0]                 \n",
            "__________________________________________________________________________________________________\n",
            "batch_normalization_163 (BatchN (None, 3, 3, 192)    576         conv2d_163[0][0]                 \n",
            "__________________________________________________________________________________________________\n",
            "activation_154 (Activation)     (None, 3, 3, 192)    0           batch_normalization_154[0][0]    \n",
            "__________________________________________________________________________________________________\n",
            "activation_157 (Activation)     (None, 3, 3, 192)    0           batch_normalization_157[0][0]    \n",
            "__________________________________________________________________________________________________\n",
            "activation_162 (Activation)     (None, 3, 3, 192)    0           batch_normalization_162[0][0]    \n",
            "__________________________________________________________________________________________________\n",
            "activation_163 (Activation)     (None, 3, 3, 192)    0           batch_normalization_163[0][0]    \n",
            "__________________________________________________________________________________________________\n",
            "mixed7 (Concatenate)            (None, 3, 3, 768)    0           activation_154[0][0]             \n",
            "                                                                 activation_157[0][0]             \n",
            "                                                                 activation_162[0][0]             \n",
            "                                                                 activation_163[0][0]             \n",
            "__________________________________________________________________________________________________\n",
            "conv2d_166 (Conv2D)             (None, 3, 3, 192)    147456      mixed7[0][0]                     \n",
            "__________________________________________________________________________________________________\n",
            "batch_normalization_166 (BatchN (None, 3, 3, 192)    576         conv2d_166[0][0]                 \n",
            "__________________________________________________________________________________________________\n",
            "activation_166 (Activation)     (None, 3, 3, 192)    0           batch_normalization_166[0][0]    \n",
            "__________________________________________________________________________________________________\n",
            "conv2d_167 (Conv2D)             (None, 3, 3, 192)    258048      activation_166[0][0]             \n",
            "__________________________________________________________________________________________________\n",
            "batch_normalization_167 (BatchN (None, 3, 3, 192)    576         conv2d_167[0][0]                 \n",
            "__________________________________________________________________________________________________\n",
            "activation_167 (Activation)     (None, 3, 3, 192)    0           batch_normalization_167[0][0]    \n",
            "__________________________________________________________________________________________________\n",
            "conv2d_164 (Conv2D)             (None, 3, 3, 192)    147456      mixed7[0][0]                     \n",
            "__________________________________________________________________________________________________\n",
            "conv2d_168 (Conv2D)             (None, 3, 3, 192)    258048      activation_167[0][0]             \n",
            "__________________________________________________________________________________________________\n",
            "batch_normalization_164 (BatchN (None, 3, 3, 192)    576         conv2d_164[0][0]                 \n",
            "__________________________________________________________________________________________________\n",
            "batch_normalization_168 (BatchN (None, 3, 3, 192)    576         conv2d_168[0][0]                 \n",
            "__________________________________________________________________________________________________\n",
            "activation_164 (Activation)     (None, 3, 3, 192)    0           batch_normalization_164[0][0]    \n",
            "__________________________________________________________________________________________________\n",
            "activation_168 (Activation)     (None, 3, 3, 192)    0           batch_normalization_168[0][0]    \n",
            "__________________________________________________________________________________________________\n",
            "conv2d_165 (Conv2D)             (None, 1, 1, 320)    552960      activation_164[0][0]             \n",
            "__________________________________________________________________________________________________\n",
            "conv2d_169 (Conv2D)             (None, 1, 1, 192)    331776      activation_168[0][0]             \n",
            "__________________________________________________________________________________________________\n",
            "batch_normalization_165 (BatchN (None, 1, 1, 320)    960         conv2d_165[0][0]                 \n",
            "__________________________________________________________________________________________________\n",
            "batch_normalization_169 (BatchN (None, 1, 1, 192)    576         conv2d_169[0][0]                 \n",
            "__________________________________________________________________________________________________\n",
            "activation_165 (Activation)     (None, 1, 1, 320)    0           batch_normalization_165[0][0]    \n",
            "__________________________________________________________________________________________________\n",
            "activation_169 (Activation)     (None, 1, 1, 192)    0           batch_normalization_169[0][0]    \n",
            "__________________________________________________________________________________________________\n",
            "max_pooling2d_7 (MaxPooling2D)  (None, 1, 1, 768)    0           mixed7[0][0]                     \n",
            "__________________________________________________________________________________________________\n",
            "mixed8 (Concatenate)            (None, 1, 1, 1280)   0           activation_165[0][0]             \n",
            "                                                                 activation_169[0][0]             \n",
            "                                                                 max_pooling2d_7[0][0]            \n",
            "__________________________________________________________________________________________________\n",
            "conv2d_174 (Conv2D)             (None, 1, 1, 448)    573440      mixed8[0][0]                     \n",
            "__________________________________________________________________________________________________\n",
            "batch_normalization_174 (BatchN (None, 1, 1, 448)    1344        conv2d_174[0][0]                 \n",
            "__________________________________________________________________________________________________\n",
            "activation_174 (Activation)     (None, 1, 1, 448)    0           batch_normalization_174[0][0]    \n",
            "__________________________________________________________________________________________________\n",
            "conv2d_171 (Conv2D)             (None, 1, 1, 384)    491520      mixed8[0][0]                     \n",
            "__________________________________________________________________________________________________\n",
            "conv2d_175 (Conv2D)             (None, 1, 1, 384)    1548288     activation_174[0][0]             \n",
            "__________________________________________________________________________________________________\n",
            "batch_normalization_171 (BatchN (None, 1, 1, 384)    1152        conv2d_171[0][0]                 \n",
            "__________________________________________________________________________________________________\n",
            "batch_normalization_175 (BatchN (None, 1, 1, 384)    1152        conv2d_175[0][0]                 \n",
            "__________________________________________________________________________________________________\n",
            "activation_171 (Activation)     (None, 1, 1, 384)    0           batch_normalization_171[0][0]    \n",
            "__________________________________________________________________________________________________\n",
            "activation_175 (Activation)     (None, 1, 1, 384)    0           batch_normalization_175[0][0]    \n",
            "__________________________________________________________________________________________________\n",
            "conv2d_172 (Conv2D)             (None, 1, 1, 384)    442368      activation_171[0][0]             \n",
            "__________________________________________________________________________________________________\n",
            "conv2d_173 (Conv2D)             (None, 1, 1, 384)    442368      activation_171[0][0]             \n",
            "__________________________________________________________________________________________________\n",
            "conv2d_176 (Conv2D)             (None, 1, 1, 384)    442368      activation_175[0][0]             \n",
            "__________________________________________________________________________________________________\n",
            "conv2d_177 (Conv2D)             (None, 1, 1, 384)    442368      activation_175[0][0]             \n",
            "__________________________________________________________________________________________________\n",
            "average_pooling2d_16 (AveragePo (None, 1, 1, 1280)   0           mixed8[0][0]                     \n",
            "__________________________________________________________________________________________________\n",
            "conv2d_170 (Conv2D)             (None, 1, 1, 320)    409600      mixed8[0][0]                     \n",
            "__________________________________________________________________________________________________\n",
            "batch_normalization_172 (BatchN (None, 1, 1, 384)    1152        conv2d_172[0][0]                 \n",
            "__________________________________________________________________________________________________\n",
            "batch_normalization_173 (BatchN (None, 1, 1, 384)    1152        conv2d_173[0][0]                 \n",
            "__________________________________________________________________________________________________\n",
            "batch_normalization_176 (BatchN (None, 1, 1, 384)    1152        conv2d_176[0][0]                 \n",
            "__________________________________________________________________________________________________\n",
            "batch_normalization_177 (BatchN (None, 1, 1, 384)    1152        conv2d_177[0][0]                 \n",
            "__________________________________________________________________________________________________\n",
            "conv2d_178 (Conv2D)             (None, 1, 1, 192)    245760      average_pooling2d_16[0][0]       \n",
            "__________________________________________________________________________________________________\n",
            "batch_normalization_170 (BatchN (None, 1, 1, 320)    960         conv2d_170[0][0]                 \n",
            "__________________________________________________________________________________________________\n",
            "activation_172 (Activation)     (None, 1, 1, 384)    0           batch_normalization_172[0][0]    \n",
            "__________________________________________________________________________________________________\n",
            "activation_173 (Activation)     (None, 1, 1, 384)    0           batch_normalization_173[0][0]    \n",
            "__________________________________________________________________________________________________\n",
            "activation_176 (Activation)     (None, 1, 1, 384)    0           batch_normalization_176[0][0]    \n",
            "__________________________________________________________________________________________________\n",
            "activation_177 (Activation)     (None, 1, 1, 384)    0           batch_normalization_177[0][0]    \n",
            "__________________________________________________________________________________________________\n",
            "batch_normalization_178 (BatchN (None, 1, 1, 192)    576         conv2d_178[0][0]                 \n",
            "__________________________________________________________________________________________________\n",
            "activation_170 (Activation)     (None, 1, 1, 320)    0           batch_normalization_170[0][0]    \n",
            "__________________________________________________________________________________________________\n",
            "mixed9_0 (Concatenate)          (None, 1, 1, 768)    0           activation_172[0][0]             \n",
            "                                                                 activation_173[0][0]             \n",
            "__________________________________________________________________________________________________\n",
            "concatenate_2 (Concatenate)     (None, 1, 1, 768)    0           activation_176[0][0]             \n",
            "                                                                 activation_177[0][0]             \n",
            "__________________________________________________________________________________________________\n",
            "activation_178 (Activation)     (None, 1, 1, 192)    0           batch_normalization_178[0][0]    \n",
            "__________________________________________________________________________________________________\n",
            "mixed9 (Concatenate)            (None, 1, 1, 2048)   0           activation_170[0][0]             \n",
            "                                                                 mixed9_0[0][0]                   \n",
            "                                                                 concatenate_2[0][0]              \n",
            "                                                                 activation_178[0][0]             \n",
            "__________________________________________________________________________________________________\n",
            "conv2d_183 (Conv2D)             (None, 1, 1, 448)    917504      mixed9[0][0]                     \n",
            "__________________________________________________________________________________________________\n",
            "batch_normalization_183 (BatchN (None, 1, 1, 448)    1344        conv2d_183[0][0]                 \n",
            "__________________________________________________________________________________________________\n",
            "activation_183 (Activation)     (None, 1, 1, 448)    0           batch_normalization_183[0][0]    \n",
            "__________________________________________________________________________________________________\n",
            "conv2d_180 (Conv2D)             (None, 1, 1, 384)    786432      mixed9[0][0]                     \n",
            "__________________________________________________________________________________________________\n",
            "conv2d_184 (Conv2D)             (None, 1, 1, 384)    1548288     activation_183[0][0]             \n",
            "__________________________________________________________________________________________________\n",
            "batch_normalization_180 (BatchN (None, 1, 1, 384)    1152        conv2d_180[0][0]                 \n",
            "__________________________________________________________________________________________________\n",
            "batch_normalization_184 (BatchN (None, 1, 1, 384)    1152        conv2d_184[0][0]                 \n",
            "__________________________________________________________________________________________________\n",
            "activation_180 (Activation)     (None, 1, 1, 384)    0           batch_normalization_180[0][0]    \n",
            "__________________________________________________________________________________________________\n",
            "activation_184 (Activation)     (None, 1, 1, 384)    0           batch_normalization_184[0][0]    \n",
            "__________________________________________________________________________________________________\n",
            "conv2d_181 (Conv2D)             (None, 1, 1, 384)    442368      activation_180[0][0]             \n",
            "__________________________________________________________________________________________________\n",
            "conv2d_182 (Conv2D)             (None, 1, 1, 384)    442368      activation_180[0][0]             \n",
            "__________________________________________________________________________________________________\n",
            "conv2d_185 (Conv2D)             (None, 1, 1, 384)    442368      activation_184[0][0]             \n",
            "__________________________________________________________________________________________________\n",
            "conv2d_186 (Conv2D)             (None, 1, 1, 384)    442368      activation_184[0][0]             \n",
            "__________________________________________________________________________________________________\n",
            "average_pooling2d_17 (AveragePo (None, 1, 1, 2048)   0           mixed9[0][0]                     \n",
            "__________________________________________________________________________________________________\n",
            "conv2d_179 (Conv2D)             (None, 1, 1, 320)    655360      mixed9[0][0]                     \n",
            "__________________________________________________________________________________________________\n",
            "batch_normalization_181 (BatchN (None, 1, 1, 384)    1152        conv2d_181[0][0]                 \n",
            "__________________________________________________________________________________________________\n",
            "batch_normalization_182 (BatchN (None, 1, 1, 384)    1152        conv2d_182[0][0]                 \n",
            "__________________________________________________________________________________________________\n",
            "batch_normalization_185 (BatchN (None, 1, 1, 384)    1152        conv2d_185[0][0]                 \n",
            "__________________________________________________________________________________________________\n",
            "batch_normalization_186 (BatchN (None, 1, 1, 384)    1152        conv2d_186[0][0]                 \n",
            "__________________________________________________________________________________________________\n",
            "conv2d_187 (Conv2D)             (None, 1, 1, 192)    393216      average_pooling2d_17[0][0]       \n",
            "__________________________________________________________________________________________________\n",
            "batch_normalization_179 (BatchN (None, 1, 1, 320)    960         conv2d_179[0][0]                 \n",
            "__________________________________________________________________________________________________\n",
            "activation_181 (Activation)     (None, 1, 1, 384)    0           batch_normalization_181[0][0]    \n",
            "__________________________________________________________________________________________________\n",
            "activation_182 (Activation)     (None, 1, 1, 384)    0           batch_normalization_182[0][0]    \n",
            "__________________________________________________________________________________________________\n",
            "activation_185 (Activation)     (None, 1, 1, 384)    0           batch_normalization_185[0][0]    \n",
            "__________________________________________________________________________________________________\n",
            "activation_186 (Activation)     (None, 1, 1, 384)    0           batch_normalization_186[0][0]    \n",
            "__________________________________________________________________________________________________\n",
            "batch_normalization_187 (BatchN (None, 1, 1, 192)    576         conv2d_187[0][0]                 \n",
            "__________________________________________________________________________________________________\n",
            "activation_179 (Activation)     (None, 1, 1, 320)    0           batch_normalization_179[0][0]    \n",
            "__________________________________________________________________________________________________\n",
            "mixed9_1 (Concatenate)          (None, 1, 1, 768)    0           activation_181[0][0]             \n",
            "                                                                 activation_182[0][0]             \n",
            "__________________________________________________________________________________________________\n",
            "concatenate_3 (Concatenate)     (None, 1, 1, 768)    0           activation_185[0][0]             \n",
            "                                                                 activation_186[0][0]             \n",
            "__________________________________________________________________________________________________\n",
            "activation_187 (Activation)     (None, 1, 1, 192)    0           batch_normalization_187[0][0]    \n",
            "__________________________________________________________________________________________________\n",
            "mixed10 (Concatenate)           (None, 1, 1, 2048)   0           activation_179[0][0]             \n",
            "                                                                 mixed9_1[0][0]                   \n",
            "                                                                 concatenate_3[0][0]              \n",
            "                                                                 activation_187[0][0]             \n",
            "__________________________________________________________________________________________________\n",
            "global_average_pooling2d_1 (Glo (None, 2048)         0           mixed10[0][0]                    \n",
            "__________________________________________________________________________________________________\n",
            "flatten_1 (Flatten)             (None, 2048)         0           global_average_pooling2d_1[0][0] \n",
            "__________________________________________________________________________________________________\n",
            "dense_2 (Dense)                 (None, 512)          1049088     flatten_1[0][0]                  \n",
            "__________________________________________________________________________________________________\n",
            "dropout_1 (Dropout)             (None, 512)          0           dense_2[0][0]                    \n",
            "__________________________________________________________________________________________________\n",
            "dense_3 (Dense)                 (None, 7)            3591        dropout_1[0][0]                  \n",
            "==================================================================================================\n",
            "Total params: 22,855,463\n",
            "Trainable params: 1,052,679\n",
            "Non-trainable params: 21,802,784\n",
            "__________________________________________________________________________________________________\n"
          ],
          "name": "stdout"
        }
      ]
    },
    {
      "cell_type": "code",
      "metadata": {
        "colab": {
          "base_uri": "https://localhost:8080/"
        },
        "id": "qoqh9_BYVMVw",
        "outputId": "1dc61317-891b-4a4e-983f-65947b9419b0"
      },
      "source": [
        "history = model.fit_generator(train_generator, \n",
        "                              validation_data = validation_generator,\n",
        "                              epochs = 10)"
      ],
      "execution_count": null,
      "outputs": [
        {
          "output_type": "stream",
          "text": [
            "/usr/local/lib/python3.7/dist-packages/tensorflow/python/keras/engine/training.py:1844: UserWarning: `Model.fit_generator` is deprecated and will be removed in a future version. Please use `Model.fit`, which supports generators.\n",
            "  warnings.warn('`Model.fit_generator` is deprecated and '\n"
          ],
          "name": "stderr"
        },
        {
          "output_type": "stream",
          "text": [
            "Epoch 1/10\n",
            "449/449 [==============================] - 7585s 17s/step - loss: 2.2000 - acc: 0.2218 - val_loss: 1.7029 - val_acc: 0.3158\n",
            "Epoch 2/10\n",
            "449/449 [==============================] - 376s 837ms/step - loss: 1.7794 - acc: 0.2855 - val_loss: 1.6769 - val_acc: 0.3254\n",
            "Epoch 3/10\n",
            "449/449 [==============================] - 375s 835ms/step - loss: 1.7470 - acc: 0.3055 - val_loss: 1.6575 - val_acc: 0.3432\n",
            "Epoch 4/10\n",
            "449/449 [==============================] - 375s 835ms/step - loss: 1.7299 - acc: 0.3068 - val_loss: 1.6573 - val_acc: 0.3443\n",
            "Epoch 5/10\n",
            "449/449 [==============================] - 376s 836ms/step - loss: 1.7241 - acc: 0.3129 - val_loss: 1.6433 - val_acc: 0.3535\n",
            "Epoch 6/10\n",
            "449/449 [==============================] - 375s 835ms/step - loss: 1.7048 - acc: 0.3262 - val_loss: 1.6457 - val_acc: 0.3545\n",
            "Epoch 7/10\n",
            "449/449 [==============================] - 375s 834ms/step - loss: 1.6917 - acc: 0.3368 - val_loss: 1.6380 - val_acc: 0.3523\n",
            "Epoch 8/10\n",
            "449/449 [==============================] - 376s 837ms/step - loss: 1.6898 - acc: 0.3323 - val_loss: 1.6375 - val_acc: 0.3548\n",
            "Epoch 9/10\n",
            "449/449 [==============================] - 376s 837ms/step - loss: 1.6906 - acc: 0.3304 - val_loss: 1.6397 - val_acc: 0.3612\n",
            "Epoch 10/10\n",
            "449/449 [==============================] - 373s 830ms/step - loss: 1.6915 - acc: 0.3354 - val_loss: 1.6326 - val_acc: 0.3612\n"
          ],
          "name": "stdout"
        }
      ]
    },
    {
      "cell_type": "markdown",
      "metadata": {
        "id": "bV6xlzW-eeM9"
      },
      "source": [
        "# Predicting Emotions Using Best Model so far"
      ]
    },
    {
      "cell_type": "code",
      "metadata": {
        "id": "Ghrqtc4YP529"
      },
      "source": [
        "def predict_emotion(model, image, original_label):\n",
        "  emotions = {0:'angry', 1:'disgust', 2:'fear', 3:'happy', 4:'neutral', 5:'sad', 6:'surprise'}\n",
        "  plt.imshow(image.reshape(48, 48))\n",
        "  print('Original Emotion: ',emotions[original_label])\n",
        "  predictions = model.predict(image.reshape(1, 48, 48, 1))\n",
        "  y_pred = np.argmax(predictions)\n",
        "  emo = emotions[y_pred]\n",
        "  intensity = np.max(predictions)\n",
        "  print('Predicted Emotion: ', emo)\n",
        "  print('Intensity Of Emotion: {0:.3f}%'.format(intensity*100))\n",
        "  return emo, intensity"
      ],
      "execution_count": null,
      "outputs": []
    },
    {
      "cell_type": "markdown",
      "metadata": {
        "id": "zEN1jE1HRGTs"
      },
      "source": [
        "Example of Correct Classification"
      ]
    },
    {
      "cell_type": "code",
      "metadata": {
        "colab": {
          "base_uri": "https://localhost:8080/",
          "height": 318
        },
        "id": "JO_xAPjzLNtO",
        "outputId": "e0d900ff-a30a-4dfd-8272-00015dff0948"
      },
      "source": [
        "emot, intensity = predict_emotion(best_model, X_test[7], y_test[7])"
      ],
      "execution_count": null,
      "outputs": [
        {
          "output_type": "stream",
          "text": [
            "Original Emotion:  neutral\n",
            "Predicted Emotion:  neutral\n",
            "Intensity Of Emotion: 98.709%\n"
          ],
          "name": "stdout"
        },
        {
          "output_type": "display_data",
          "data": {
            "image/png": "[encoded data removed]",
            "text/plain": [
              "<Figure size 432x288 with 1 Axes>"
            ]
          },
          "metadata": {
            "tags": [],
            "needs_background": "light"
          }
        }
      ]
    },
    {
      "cell_type": "markdown",
      "metadata": {
        "id": "biavciqSRCBQ"
      },
      "source": [
        "Example of Wrong Classification"
      ]
    },
    {
      "cell_type": "code",
      "metadata": {
        "colab": {
          "base_uri": "https://localhost:8080/",
          "height": 318
        },
        "id": "fLTdSnX2Pvs-",
        "outputId": "5b473158-ca60-4f3c-d225-a6c355ed36c8"
      },
      "source": [
        "emot, intensity = predict_emotion(best_model, X_test[1000], y_test[1000])"
      ],
      "execution_count": null,
      "outputs": [
        {
          "output_type": "stream",
          "text": [
            "Original Emotion:  angry\n",
            "Predicted Emotion:  sad\n",
            "Intensity Of Emotion: 63.484%\n"
          ],
          "name": "stdout"
        },
        {
          "output_type": "display_data",
          "data": {
            "image/png": "[encoded data removed]",
            "text/plain": [
              "<Figure size 432x288 with 1 Axes>"
            ]
          },
          "metadata": {
            "tags": [],
            "needs_background": "light"
          }
        }
      ]
    },
    {
      "cell_type": "markdown",
      "metadata": {
        "id": "LYePPpStSNiF"
      },
      "source": [
        "# Songs Playlist Suggestion"
      ]
    },
    {
      "cell_type": "code",
      "metadata": {
        "id": "jW879V9Xjc4a"
      },
      "source": [
        "google_sheet_id = '1AmlOC6RN-pYKdU6nU2e2dmxXPYhJGc3zWknkKQFt9O4'\n",
        "worksheetname = 'IR_Playlist_Data'\n",
        "URL = 'https://docs.google.com/spreadsheets/d/{0}/gviz/tq?tqx=out:csv&sheet={1}'.format(google_sheet_id, worksheetname)"
      ],
      "execution_count": null,
      "outputs": []
    },
    {
      "cell_type": "code",
      "metadata": {
        "id": "RucDUCp20G2s"
      },
      "source": [
        "data = pd.read_csv(URL)"
      ],
      "execution_count": null,
      "outputs": []
    },
    {
      "cell_type": "code",
      "metadata": {
        "id": "MY9w8KcS0mT0"
      },
      "source": [
        "playlist = data.iloc[:, :].values"
      ],
      "execution_count": null,
      "outputs": []
    },
    {
      "cell_type": "markdown",
      "metadata": {
        "id": "H6J1W22YTwKl"
      },
      "source": [
        "Emotion to Genre Mappings"
      ]
    },
    {
      "cell_type": "code",
      "metadata": {
        "id": "ONVMwoSpTeLs"
      },
      "source": [
        "mappings = {\n",
        "    0: ['Instrumental', 'Classical', 'Ballad'],\n",
        "    1: ['Ballad', 'Instrumental', 'Rock'],\n",
        "    2: ['EDM', 'Jazz', 'Rock', 'Pop'],\n",
        "    3: ['Pop', 'Rock', 'EDM', 'Blues', 'Hip Hop'],\n",
        "    4: ['Classical', 'Instrumental'],\n",
        "    5: ['Folk', 'Rock', 'Pop'],\n",
        "    6: ['EDM', 'Rock', 'Jazz']\n",
        "}"
      ],
      "execution_count": null,
      "outputs": []
    },
    {
      "cell_type": "markdown",
      "metadata": {
        "id": "M6qRbODld2SV"
      },
      "source": [
        "Suggestions based on emotion detected"
      ]
    },
    {
      "cell_type": "code",
      "metadata": {
        "id": "mfbDu8PnZK3d"
      },
      "source": [
        "def suggest(emotion, mappings, playlist):\n",
        "  emotions = {'angry':0, 'disgust':1, 'fear':2, 'happy':3, 'neutral':4, 'sad':5, 'surprise':6}\n",
        "  emotion_label = emotions[emotion]\n",
        "  list_data = []\n",
        "  genres = playlist[:, 2]\n",
        "  for i in mappings[emotion_label]:\n",
        "    for j in range(len(genres)):\n",
        "      if genres[j] == i:\n",
        "        list_data.append(playlist[j])\n",
        "  random.shuffle(list_data)\n",
        "  print('We suggest you this playlist:', list_data[0][1])\n",
        "  print('Genre:', list_data[0][2])\n",
        "  print('Artist:', list_data[0][3])\n",
        "  print('Language:', list_data[0][4])"
      ],
      "execution_count": null,
      "outputs": []
    },
    {
      "cell_type": "code",
      "metadata": {
        "colab": {
          "base_uri": "https://localhost:8080/",
          "height": 386
        },
        "id": "qLlU6X8DbYfy",
        "outputId": "20d97d7c-ec00-4555-cbb4-283269277d21"
      },
      "source": [
        "n = random.randint(0, 7177)\n",
        "emot, intensity = predict_emotion(best_model, X_test[n], y_test[n])\n",
        "suggest(emot, mappings, playlist)"
      ],
      "execution_count": null,
      "outputs": [
        {
          "output_type": "stream",
          "text": [
            "Original Emotion:  surprise\n",
            "Predicted Emotion:  surprise\n",
            "Intensity Of Emotion: 99.998%\n",
            "We suggest you this playlist: https://www.youtube.com/watch?v=ZYJ_4cPqfu8\n",
            "Genre: Rock\n",
            "Artist: Yo Yo Honey Singh\n",
            "Language: Punjabi\n"
          ],
          "name": "stdout"
        },
        {
          "output_type": "display_data",
          "data": {
            "image/png": "[encoded data removed]",
            "text/plain": [
              "<Figure size 432x288 with 1 Axes>"
            ]
          },
          "metadata": {
            "tags": [],
            "needs_background": "light"
          }
        }
      ]
    },
    {
      "cell_type": "code",
      "metadata": {
        "colab": {
          "base_uri": "https://localhost:8080/",
          "height": 386
        },
        "id": "MixDZA-Jbfrb",
        "outputId": "4a8690f9-b539-4ee3-f101-2a849a507423"
      },
      "source": [
        "n = random.randint(0, 7177)\n",
        "emot, intensity = predict_emotion(best_model, X_test[n], y_test[n])\n",
        "suggest(emot, mappings, playlist)"
      ],
      "execution_count": null,
      "outputs": [
        {
          "output_type": "stream",
          "text": [
            "Original Emotion:  surprise\n",
            "Predicted Emotion:  fear\n",
            "Intensity Of Emotion: 35.112%\n",
            "We suggest you this playlist: https://gaana.com/playlist/gaana-dj-bollywood-style-jazz\n",
            "Genre: Jazz\n",
            "Artist: Multiple\n",
            "Language: Hindi\n"
          ],
          "name": "stdout"
        },
        {
          "output_type": "display_data",
          "data": {
            "image/png": "[encoded data removed]",
            "text/plain": [
              "<Figure size 432x288 with 1 Axes>"
            ]
          },
          "metadata": {
            "tags": [],
            "needs_background": "light"
          }
        }
      ]
    },
    {
      "cell_type": "code",
      "metadata": {
        "colab": {
          "base_uri": "https://localhost:8080/",
          "height": 386
        },
        "id": "u_2Z78zcBmQU",
        "outputId": "24fe44c4-4ce4-4a66-f74b-6db25db7934a"
      },
      "source": [
        "emot, intensity = predict_emotion(best_model, X_train[101], y_train[101])\n",
        "suggest(emot, mappings, playlist)"
      ],
      "execution_count": null,
      "outputs": [
        {
          "output_type": "stream",
          "text": [
            "Original Emotion:  happy\n",
            "Predicted Emotion:  happy\n",
            "Intensity Of Emotion: 97.053%\n",
            "We suggest you this playlist: https://youtu.be/jT87udqp2j0\n",
            "Genre: Pop\n",
            "Artist: Ed Sheeran\n",
            "Language: English\n"
          ],
          "name": "stdout"
        },
        {
          "output_type": "display_data",
          "data": {
            "image/png": "[encoded data removed]",
            "text/plain": [
              "<Figure size 432x288 with 1 Axes>"
            ]
          },
          "metadata": {
            "tags": [],
            "needs_background": "light"
          }
        }
      ]
    }
  ]
}